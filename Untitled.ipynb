{
 "cells": [
  {
   "cell_type": "code",
   "execution_count": 1,
   "metadata": {},
   "outputs": [],
   "source": [
    "from app.components.identifier_objects import *\n",
    "from app.components.mds_xml import *"
   ]
  },
  {
   "cell_type": "code",
   "execution_count": 2,
   "metadata": {},
   "outputs": [],
   "source": [
    "import requests"
   ]
  },
  {
   "cell_type": "code",
   "execution_count": 3,
   "metadata": {},
   "outputs": [],
   "source": [
    "doi = {\n",
    "    '@context': 'https://schema.org',\n",
    "    '@id': 'doi:/10.25489/sodiumtest',\n",
    "    'identifier': [\n",
    "        'doi:/10.25489/sodiumtest',\n",
    "        {'@type': 'PropertyValue', 'name': 'md5', '@value': 'cd1c9c120df5460ae556c083a5b8ff89'}\n",
    "    ],\n",
    "    'url': 'https://ors.datacite.org/doi:/10.25489/sodiumtest',\n",
    "    'includedInDataCatalog': 'https://doi.org/10.25491/cq8s-f809',\n",
    "    'name': 'Team Sodium ORS demo result',\n",
    "    'author': {'@type': 'Person', 'name': 'Max Levinson'},\n",
    "    'datePublished': '2018',\n",
    "    'contentSize': '1000',\n",
    "    'fileFormat': 'text/tsv',\n",
    "    'contentUrl': ['http://s3.amazonaws.com/dcppctest/rs1361754_Sig_eQTLs.tsv'],\n",
    "    'isBasedOn': 'https://doi.org/10.25491/cq8s-f809', #GTEX DOI used to create this analysis\n",
    "    'version': 'v1.0',\n",
    "    'description': 'Resulting analysis'\n",
    "}"
   ]
  },
  {
   "cell_type": "code",
   "execution_count": 4,
   "metadata": {},
   "outputs": [],
   "source": [
    "test = Doi(data=doi)"
   ]
  },
  {
   "cell_type": "code",
   "execution_count": 5,
   "metadata": {},
   "outputs": [
    {
     "data": {
      "text/plain": [
       "{'doiReservation': 'OK',\n",
       " 'mediaRegistration': ['OK'],\n",
       " 'metadataRegistration': 'OK (10.25489/SODIUMTEST)'}"
      ]
     },
     "execution_count": 5,
     "metadata": {},
     "output_type": "execute_result"
    }
   ],
   "source": [
    "test.post_api()"
   ]
  },
  {
   "cell_type": "code",
   "execution_count": 11,
   "metadata": {},
   "outputs": [],
   "source": []
  },
  {
   "cell_type": "code",
   "execution_count": 12,
   "metadata": {},
   "outputs": [
    {
     "name": "stdout",
     "output_type": "stream",
     "text": [
      "<?xml version=\"1.0\" encoding=\"UTF-8\"?><resource xmlns:xsi=\"http://www.w3.org/2001/XMLSchema-instance\" xmlns=\"http://datacite.org/schema/kernel-4\" xsi:schemaLocation=\"http://datacite.org/schema/kernel-4 http://schema.datacite.org/meta/kernel-4/metadata.xsd\"><identifier identifierType=\"DOI\">doi:/10.25489/sodiumtest</identifier><publicationYear>8/21/2018</publicationYear><resourceType xmlns:xsi=\"http://www.w3.org/2001/XMLSchema-instance\" resourceTypeGeneral=\"Dataset\" xsi:nil=\"true\"/><titles><title>Team Sodium ORS demo result</title></titles><creators><creator><creatorName>Max Levinson</creatorName></creator></creators><publisher>Max Levinson</publisher><descriptions><description descriptionType=\"Abstract\">Resulting analysis </description></descriptions><relatedIdentifiers><relatedIdentifier relatedIdentifierType=\"URL\" relationType=\"IsBasedOn\">https://doi.org/10.25491/cq8s-f809</relatedIdentifier></relatedIdentifiers><version>v1.0</version></resource>\n"
     ]
    }
   ],
   "source": [
    "print(xml_payload)"
   ]
  },
  {
   "cell_type": "code",
   "execution_count": 18,
   "metadata": {},
   "outputs": [],
   "source": [
    "example = requests.get('https://schema.datacite.org/meta/kernel-3/example/datacite-example-dataset-v3.0.xml')"
   ]
  },
  {
   "cell_type": "code",
   "execution_count": 41,
   "metadata": {},
   "outputs": [
    {
     "data": {
      "text/plain": [
       "b'<?xml version=\"1.0\" encoding=\"UTF-8\"?><resource xmlns:xsi=\"http://www.w3.org/2001/XMLSchema-instance\" xmlns=\"http://datacite.org/schema/kernel-4\" xsi:schemaLocation=\"http://datacite.org/schema/kernel-4 http://schema.datacite.org/meta/kernel-4/metadata.xsd\"><identifier identifierType=\"DOI\">doi:/10.25489/sodiumtest</identifier><publicationYear>8/21/2018</publicationYear><resourceType xmlns:xsi=\"http://www.w3.org/2001/XMLSchema-instance\" resourceTypeGeneral=\"Dataset\" xsi:nil=\"true\"/><titles><title>Team Sodium ORS demo result</title></titles><creators><creator><creatorName>Max Levinson</creatorName></creator></creators><publisher>Max Levinson</publisher><descriptions><description descriptionType=\"Abstract\">Resulting analysis </description></descriptions><relatedIdentifiers><relatedIdentifier relatedIdentifierType=\"URL\" relationType=\"IsBasedOn\">https://doi.org/10.25491/cq8s-f809</relatedIdentifier></relatedIdentifiers><version>v1.0</version></resource>'"
      ]
     },
     "execution_count": 41,
     "metadata": {},
     "output_type": "execute_result"
    }
   ],
   "source": [
    "xml_payload.encode('utf-8')"
   ]
  },
  {
   "cell_type": "code",
   "execution_count": 53,
   "metadata": {},
   "outputs": [
    {
     "data": {
      "text/plain": [
       "'<resource xmlns:xsi=\"http://www.w3.org/2001/XMLSchema-instance\" xmlns=\"http://datacite.org/schema/kernel-4\" xsi:schemaLocation=\"http://datacite.org/schema/kernel-4 http://schema.datacite.org/meta/kernel-4/metadata.xsd\"><identifier identifierType=\"DOI\">doi:/10.25489/sodiumtest</identifier><publicationYear>8/21/2018</publicationYear><resourceType xmlns:xsi=\"http://www.w3.org/2001/XMLSchema-instance\" resourceTypeGeneral=\"Dataset\" xsi:nil=\"true\"/><titles><title>Team Sodium ORS demo result</title></titles><creators><creator><creatorName>Max Levinson</creatorName></creator></creators><publisher>Max Levinson</publisher><descriptions><description descriptionType=\"Abstract\">Resulting analysis </description></descriptions><relatedIdentifiers><relatedIdentifier relatedIdentifierType=\"URL\" relationType=\"IsBasedOn\">https://doi.org/10.25491/cq8s-f809</relatedIdentifier></relatedIdentifiers><version>v1.0</version></resource>'"
      ]
     },
     "execution_count": 53,
     "metadata": {},
     "output_type": "execute_result"
    }
   ],
   "source": [
    "xml_attempt"
   ]
  },
  {
   "cell_type": "code",
   "execution_count": 12,
   "metadata": {},
   "outputs": [
    {
     "data": {
      "text/plain": [
       "'https://mds.datacite.org/metadata/10.25489/sodiumtest'"
      ]
     },
     "execution_count": 12,
     "metadata": {},
     "output_type": "execute_result"
    }
   ],
   "source": [
    "'https://mds.datacite.org/metadata/'+doi_id"
   ]
  },
  {
   "cell_type": "code",
   "execution_count": 11,
   "metadata": {},
   "outputs": [],
   "source": [
    "# attempt to post to mds\n",
    "xml_payload = convertDoiToXml(doi)\n",
    "doi_id = doi.get('@id').replace('doi:/', '')\n",
    "\n",
    "metadata_put = requests.put(\n",
    "    url = 'https://mds.datacite.org/metadata/10.25489/sodiumtest',\n",
    "    data = xml_payload,\n",
    "    auth = requests.auth.HTTPBasicAuth('DATACITE.DCPPC', 'Xnbd6MzLumfu'),\n",
    "    headers = {'Content-Type':'application/xml;charset=UTF-8'}\n",
    ")"
   ]
  },
  {
   "cell_type": "code",
   "execution_count": 12,
   "metadata": {},
   "outputs": [
    {
     "data": {
      "text/plain": [
       "b'<?xml version=\"1.0\" encoding=\"UTF-8\"?><resource xmlns:xsi=\"http://www.w3.org/2001/XMLSchema-instance\" xmlns=\"http://datacite.org/schema/kernel-4\" xsi:schemaLocation=\"http://datacite.org/schema/kernel-4 http://schema.datacite.org/meta/kernel-4/metadata.xsd\"><identifier identifierType=\"DOI\">10.25489/sodiumtest</identifier><publicationYear>8/21/2018</publicationYear><resourceType xmlns:xsi=\"http://www.w3.org/2001/XMLSchema-instance\" resourceTypeGeneral=\"Dataset\" xsi:nil=\"true\"/><titles><title>Team Sodium ORS demo result</title></titles><creators><creator><creatorName>Max Levinson</creatorName></creator></creators><publisher>Max Levinson</publisher><descriptions><description descriptionType=\"Abstract\">Resulting analysis </description></descriptions><relatedIdentifiers><relatedIdentifier relatedIdentifierType=\"URL\" relationType=\"IsBasedOn\">https://doi.org/10.25491/cq8s-f809</relatedIdentifier></relatedIdentifiers><version>v1.0</version></resource>'"
      ]
     },
     "execution_count": 12,
     "metadata": {},
     "output_type": "execute_result"
    }
   ],
   "source": [
    "xml_payload.encode('utf-8')"
   ]
  },
  {
   "cell_type": "code",
   "execution_count": 13,
   "metadata": {},
   "outputs": [
    {
     "data": {
      "text/plain": [
       "b' at line -1, column 0'"
      ]
     },
     "execution_count": 13,
     "metadata": {},
     "output_type": "execute_result"
    }
   ],
   "source": [
    "metadata_post.content"
   ]
  },
  {
   "cell_type": "code",
   "execution_count": 14,
   "metadata": {},
   "outputs": [
    {
     "data": {
      "text/plain": [
       "422"
      ]
     },
     "execution_count": 14,
     "metadata": {},
     "output_type": "execute_result"
    }
   ],
   "source": [
    "metadata_post.status_code"
   ]
  },
  {
   "cell_type": "code",
   "execution_count": null,
   "metadata": {},
   "outputs": [],
   "source": [
    "custom_xml = '''\n",
    "<?xml version=\"1.0\" encoding=\"UTF-8\"?><resource xmlns:xsi=\"http://www.w3.org/2001/XMLSchema-instance\" xmlns=\"http://datacite.org/schema/kernel-4\" xsi:schemaLocation=\"http://datacite.org/schema/kernel-4 http://schema.datacite.org/meta/kernel-4/metadata.xsd\"><identifier identifierType=\"DOI\">10.25489/sodiumtest</identifier><publicationYear>8/21/2018</publicationYear><resourceType xmlns:xsi=\"http://www.w3.org/2001/XMLSchema-instance\" resourceTypeGeneral=\"Dataset\" xsi:nil=\"true\"/><titles><title>Team Sodium ORS demo result</title></titles><creators><creator><creatorName>Max Levinson</creatorName></creator></creators><publisher>Max Levinson</publisher><descriptions><description descriptionType=\"Abstract\">Resulting analysis </description></descriptions><relatedIdentifiers><relatedIdentifier relatedIdentifierType=\"URL\" relationType=\"IsBasedOn\">https://doi.org/10.25491/cq8s-f809</relatedIdentifier></relatedIdentifiers><version>v1.0</version></resource>\n",
    "'''"
   ]
  },
  {
   "cell_type": "code",
   "execution_count": 18,
   "metadata": {},
   "outputs": [],
   "source": [
    "metadata_post = requests.pu(\n",
    "    url = 'https://mds.datacite.org/metadata/10.25489/sodiumtest',\n",
    "    data = json.dumps(doi),\n",
    "    auth = requests.auth.HTTPBasicAuth('DATACITE.DCPPC', 'Xnbd6MzLumfu'),\n",
    "    headers = {'Content-Type':'application/vnd.schemaorg.ld+json'}\n",
    ")"
   ]
  },
  {
   "cell_type": "code",
   "execution_count": 6,
   "metadata": {},
   "outputs": [],
   "source": [
    "metadata_get = requests.get(\n",
    "    url = 'https://mds.datacite.org/metadata/10.25489/sodiumtest',\n",
    "    auth = requests.auth.HTTPBasicAuth('DATACITE.DCPPC', 'Xnbd6MzLumfu'),\n",
    "    headers = {'Content-Type':'application/vnd.schemaorg.ld+json'}\n",
    ")"
   ]
  },
  {
   "cell_type": "code",
   "execution_count": 17,
   "metadata": {},
   "outputs": [],
   "source": [
    "xml = metadata_get.content.decode('utf-8').replace('<?xml version=\"1.0\" encoding=\"UTF-8\"?>', '').replace('\\n','')"
   ]
  },
  {
   "cell_type": "code",
   "execution_count": 19,
   "metadata": {},
   "outputs": [],
   "source": [
    "con = DoiXML(xml)"
   ]
  },
  {
   "cell_type": "code",
   "execution_count": 20,
   "metadata": {},
   "outputs": [
    {
     "data": {
      "text/plain": [
       "{'@context': 'https://schema.org',\n",
       " '@id': 'https://doi.org/10.25489/SODIUMTEST',\n",
       " '@type': 'Dataset',\n",
       " 'author': {'@type': 'Person',\n",
       "  'familyName': 'Levinson',\n",
       "  'givenName': 'Max',\n",
       "  'name': 'Max Levinson'},\n",
       " 'datePublished': '2018',\n",
       " 'description': 'Resulting analysis from KC2 Demo',\n",
       " 'identifier': 'https://doi.org/10.25489/SODIUMTEST',\n",
       " 'name': 'Team Sodium ORS demo result',\n",
       " 'version': 'v1.0'}"
      ]
     },
     "execution_count": 20,
     "metadata": {},
     "output_type": "execute_result"
    }
   ],
   "source": [
    "con.parse()"
   ]
  },
  {
   "cell_type": "code",
   "execution_count": 19,
   "metadata": {},
   "outputs": [
    {
     "data": {
      "text/plain": [
       "b' at line -1, column 0'"
      ]
     },
     "execution_count": 19,
     "metadata": {},
     "output_type": "execute_result"
    }
   ],
   "source": [
    "metadata_post.content"
   ]
  },
  {
   "cell_type": "code",
   "execution_count": 24,
   "metadata": {},
   "outputs": [
    {
     "data": {
      "text/plain": [
       "{'test'}"
      ]
     },
     "execution_count": 24,
     "metadata": {},
     "output_type": "execute_result"
    }
   ],
   "source": [
    "set(el.split('=')[0] for el in'test=1\\ntest=1'.split('\\n'))\n",
    "set()"
   ]
  },
  {
   "cell_type": "code",
   "execution_count": null,
   "metadata": {},
   "outputs": [],
   "source": []
  }
 ],
 "metadata": {
  "kernelspec": {
   "display_name": "Python 3",
   "language": "python",
   "name": "python3"
  },
  "language_info": {
   "codemirror_mode": {
    "name": "ipython",
    "version": 3
   },
   "file_extension": ".py",
   "mimetype": "text/x-python",
   "name": "python",
   "nbconvert_exporter": "python",
   "pygments_lexer": "ipython3",
   "version": "3.6.4"
  }
 },
 "nbformat": 4,
 "nbformat_minor": 2
}
