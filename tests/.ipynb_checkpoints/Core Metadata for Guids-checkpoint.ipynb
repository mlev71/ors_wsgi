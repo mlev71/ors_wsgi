{
 "cells": [
  {
   "cell_type": "markdown",
   "metadata": {},
   "source": [
    "# Class Objects for Guid Core Metadata\n",
    "\n",
    "### Requirements\n",
    "- common interface with fixed commands\n",
    "    - postAPI\n",
    "    - postNeo"
   ]
  },
  {
   "cell_type": "code",
   "execution_count": 113,
   "metadata": {},
   "outputs": [],
   "source": [
    "import json, re\n",
    "from flask import Response\n",
    "import requests\n",
    "from neo4j.v1 import GraphDatabase"
   ]
  },
  {
   "cell_type": "code",
   "execution_count": 57,
   "metadata": {},
   "outputs": [],
   "source": [
    "class NeoConn():\n",
    "    uri = \"\".join([\"bolt://\",os.Environ['NEO_URL'], \":7687\"])\n",
    "    user = os.Environ['NEO_USER']\n",
    "    password = os.Environ['NEO_PASSWORD']\n",
    "                  \n",
    "    def __init__(self):\n",
    "        self.driver = GraphDatabase.driver(uri =\"bolt://localhost:7687\")\n",
    "        self.driver = GraphDatabase.driver(uri = self.uri, auth = (self.user, self.password) )"
   ]
  },
  {
   "cell_type": "code",
   "execution_count": 675,
   "metadata": {},
   "outputs": [],
   "source": [
    "def processAnvl(anvl):\n",
    "    ''' Single process to format json-ld from ANVL - simplifies Get Path\n",
    "    '''\n",
    "    return formatJson(recursiveUnpack(removeProfileFormat(anvl)))\n",
    "    "
   ]
  },
  {
   "cell_type": "code",
   "execution_count": 145,
   "metadata": {},
   "outputs": [],
   "source": [
    "ezid_auth = requests.auth.HTTPBasicAuth('apitest','apitest')"
   ]
  },
  {
   "cell_type": "code",
   "execution_count": 664,
   "metadata": {},
   "outputs": [],
   "source": [
    "class CoreMetadata():\n",
    "    \n",
    "    def __init__(self, payload):\n",
    "        ''' Core metadata Object\n",
    "        \n",
    "        Read in Data\n",
    "        Determine if any options are set\n",
    "        Validate all necesary Keys are Present\n",
    "        '''\n",
    "        \n",
    "        default_options = {\n",
    "            \"_target\": \"https://ors.datacite.org/\"+data.get('@id'),\n",
    "            \"_status\": \"reserved\"\n",
    "        }\n",
    "        \n",
    "        # load in the identifier level metadata, determine if user has set options \n",
    "        if  payload.get(\"metadata\") == None:\n",
    "            self.data = payload\n",
    "            self.options = default_options\n",
    "        else:\n",
    "            self.data = payload.get(\"metadata\")\n",
    "            if payload.get(\"options\") == None:\n",
    "                self.options = default_options\n",
    "            else:\n",
    "                self.options = payload.get(\"options\")\n",
    "        \n",
    "        \n",
    "        # make sure all required keys are present\n",
    "        try:\n",
    "            assert set(data.keys()).issuperset(self.required_keys)\n",
    "        except AssertionError:\n",
    "            missing = \", \".join(self.required_keys.difference(self.required_keys.intersection(data.keys())) )\n",
    "            missing_message = {\n",
    "                            \"message\": \"Missing Required Keys\",\n",
    "                            \"GUID\": data.get('@id', None),\n",
    "                            \"missingKeys\": \" \".join([\"[\", missing, \"]\"]) \n",
    "                            }\n",
    "            return Response( status =400,\n",
    "                    message = json.dumps(missing_message)\n",
    "                    )\n",
    "        \n",
    "    \n",
    "    \n",
    "    def outputANVL(self):\n",
    "        ''' Translation to Anvl with required keychanges\n",
    "        '''\n",
    "        return formatJson(recursiveFlatten(anvl))\n",
    "        \n",
    "        \n",
    "    def postAPI(self, auth):\n",
    "        \"\"\" Send a put request to the endpoint for the identifier\n",
    "        \"\"\"\n",
    "        target = \"\".join([self.endpoint, self.data.get('@id',None) ])\n",
    "\n",
    "        payload = profileFormat(recursiveFlatten(self.data))\n",
    "        payload.update(self.options)\n",
    "            \n",
    "        #return outputAnvl(self.data)\n",
    "        response = requests.put(\n",
    "                auth = auth,\n",
    "                url=target,\n",
    "                headers = {'Content-Type': 'text/plain; charset=UTF-8'},\n",
    "                data = outputAnvl(payload)\n",
    "            )\n",
    "\n",
    "        return response.content\n",
    "        \n",
    "    def deleteAPI(self, auth):\n",
    "        target = \"\".join([self.endpoint, self.data.get('@id',None) ])\n",
    "        response = requests.delete(\n",
    "            auth = auth,\n",
    "            url=target\n",
    "        )\n",
    "        return response.content\n",
    "        "
   ]
  },
  {
   "cell_type": "markdown",
   "metadata": {},
   "source": [
    "## Data Catalogs\n",
    "\n",
    "DataCatalogs are no longer objects but have metadata about namesapces within GUID registry services\n",
    "\n",
    "EZID have a root guid for every namespace?\n",
    "\n",
    "Fields (all are mandatory)\n",
    "- @id\n",
    "- @type\n",
    "- identifier\n",
    "- name\n",
    "- url"
   ]
  },
  {
   "cell_type": "code",
   "execution_count": 665,
   "metadata": {},
   "outputs": [],
   "source": [
    "class DataCatalog(CoreMetadata):\n",
    "    required_keys = set(['@id', '@type', 'name','url'])\n",
    "    endpoint = \"https://ezid.cdlib.org/id/\"\n",
    "  \n",
    "    def postNeo(self):\n",
    "        ''' Post to Neo database\n",
    "        '''\n",
    "        neo_driver = NeoConn()\n",
    "        \n",
    "        with neo_driver.driver.session() as session:\n",
    "            with session.begin_transaction() as tx:\n",
    "                tx.run(\"CREATE (d:dataCatalog {guid: $guid, name: $name, url: $url, type: 'DataCatalog'} )\",\n",
    "                       guid=self.data.get('@id', None), \n",
    "                       name=self.data.get('name', None),\n",
    "                       url=self.data.get('url', None)\n",
    "                      )\n",
    "        \n",
    "        \n",
    "    "
   ]
  },
  {
   "cell_type": "code",
   "execution_count": 357,
   "metadata": {},
   "outputs": [],
   "source": [
    "# ark regex pattern\n",
    "# r'ark:/(\\d{5})/(.*)'\n",
    "\n",
    "# doi regex pattern\n",
    "    "
   ]
  },
  {
   "cell_type": "code",
   "execution_count": 670,
   "metadata": {},
   "outputs": [],
   "source": [
    "exDataCatalog = {\n",
    "    \"@id\": \"ark:/99999/fk4wkwod\",\n",
    "    \"@type\": \"DataCatalog\",\n",
    "    \"name\": \"Rat Genome Database\",\n",
    "    \"url\": \"http://rgd.mcw.edu/\"\n",
    "}"
   ]
  },
  {
   "cell_type": "code",
   "execution_count": null,
   "metadata": {},
   "outputs": [],
   "source": []
  },
  {
   "cell_type": "code",
   "execution_count": 671,
   "metadata": {},
   "outputs": [],
   "source": [
    "myDC = DataCatalog(exDataCatalog)"
   ]
  },
  {
   "cell_type": "code",
   "execution_count": 674,
   "metadata": {},
   "outputs": [
    {
     "data": {
      "text/plain": [
       "b'success: ark:/99999/fk4wkwod'"
      ]
     },
     "execution_count": 674,
     "metadata": {},
     "output_type": "execute_result"
    }
   ],
   "source": [
    "myDC.postAPI(ezid_auth)"
   ]
  },
  {
   "cell_type": "code",
   "execution_count": 673,
   "metadata": {},
   "outputs": [
    {
     "data": {
      "text/plain": [
       "b'success: ark:/99999/fk4wkwod'"
      ]
     },
     "execution_count": 673,
     "metadata": {},
     "output_type": "execute_result"
    }
   ],
   "source": [
    "myDC.deleteAPI(ezid_auth)"
   ]
  },
  {
   "cell_type": "code",
   "execution_count": null,
   "metadata": {},
   "outputs": [],
   "source": []
  },
  {
   "cell_type": "code",
   "execution_count": 364,
   "metadata": {},
   "outputs": [],
   "source": [
    "myDC.postNeo()"
   ]
  },
  {
   "cell_type": "code",
   "execution_count": 554,
   "metadata": {},
   "outputs": [
    {
     "data": {
      "text/plain": [
       "{'guid': 'ark:/99999/fk4MIR',\n",
       " 'name': 'Rat Genome Database',\n",
       " 'type': 'DataCatalog',\n",
       " 'url': 'http://rgd.mcw.edu/'}"
      ]
     },
     "execution_count": 554,
     "metadata": {},
     "output_type": "execute_result"
    }
   ],
   "source": [
    "getCache(myDC.data['@id'])"
   ]
  },
  {
   "cell_type": "code",
   "execution_count": 555,
   "metadata": {},
   "outputs": [
    {
     "data": {
      "text/plain": [
       "{'guid': 'ark:/99999/fk4MIR',\n",
       " 'name': 'Rat Genome Database',\n",
       " 'type': 'DataCatalog',\n",
       " 'url': 'http://rgd.mcw.edu/'}"
      ]
     },
     "execution_count": 555,
     "metadata": {},
     "output_type": "execute_result"
    }
   ],
   "source": [
    "deleteCache(myDC.data['@id'])"
   ]
  },
  {
   "cell_type": "code",
   "execution_count": 557,
   "metadata": {},
   "outputs": [],
   "source": [
    "def importDC(target):\n",
    "    response = requests.get(target)\n",
    "    if response.status_code == 200:\n",
    "        obj = DataCatalog(ingestAnvl(str(response.content.decode('utf-8')) ))\n",
    "        obj.postNeo()\n",
    "        return True\n",
    "    else:\n",
    "        return False"
   ]
  },
  {
   "cell_type": "code",
   "execution_count": null,
   "metadata": {},
   "outputs": [],
   "source": []
  },
  {
   "cell_type": "code",
   "execution_count": null,
   "metadata": {},
   "outputs": [],
   "source": [
    "# testing anvl -> object conversion\n",
    "response = requests.get(\n",
    "    url = 'https://ezid.cdlib.org/id/ark:/88120/r8059v'\n",
    ")"
   ]
  },
  {
   "cell_type": "code",
   "execution_count": 657,
   "metadata": {},
   "outputs": [
    {
     "data": {
      "text/plain": [
       "True"
      ]
     },
     "execution_count": 657,
     "metadata": {},
     "output_type": "execute_result"
    }
   ],
   "source": [
    "# test import from API endpoint\n",
    "importDC(\"https://ezid.cdlib.org/id/ark:/99999/fk4MIR\")"
   ]
  },
  {
   "cell_type": "markdown",
   "metadata": {},
   "source": [
    "## ARKs\n",
    "\n",
    "endpoint = https://ezid.cdlib.org/id/ark:/...\n",
    "\n",
    "Changes \n",
    "- includedInDataCatalog as a required key\n",
    "- contentUrl as a required key as a string\n",
    "    - set to object {'aws': 's3://..', 'gpc': 's3://...'}\n",
    "- includedInDataCatalog is a guid string\n",
    "- type is default to Dataset\n",
    "- checksum is object method as key, object is the output\n",
    "\n",
    "Required Fields\n",
    "- @id\n",
    "- identifier\n",
    "- url: landing page url or other content\n",
    "- dateCreated\n",
    "- name\n",
    "- author\n",
    "- includedInDataCatalog\n",
    "\n",
    "Optional Fields\n",
    "- @type\n",
    "- contentUrl\n",
    "- expires"
   ]
  },
  {
   "cell_type": "code",
   "execution_count": 568,
   "metadata": {},
   "outputs": [],
   "source": [
    "just_metadata = exArk\n",
    "no_options = {\"metadata\": exArk}\n",
    "full = {\"metadata\": exArk, \"options\": {\"target\": \"random\", \"expiration\": \"3 minutes\"}}"
   ]
  },
  {
   "cell_type": "code",
   "execution_count": 574,
   "metadata": {},
   "outputs": [],
   "source": [
    "# function to determine which is which\n",
    "just_metadata.get(\"metadata\")\n",
    "\n",
    "#no_options.get(\"metadata\")\n",
    "\n",
    "\n",
    "data = full.get(\"metadata\")\n",
    "settings = full.get(\"options\")\n",
    "\n",
    "if settings == None:\n",
    "    settings == self.Default\n"
   ]
  },
  {
   "cell_type": "code",
   "execution_count": 573,
   "metadata": {},
   "outputs": [
    {
     "data": {
      "text/plain": [
       "{'expiration': '3 minutes', 'target': 'random'}"
      ]
     },
     "execution_count": 573,
     "metadata": {},
     "output_type": "execute_result"
    }
   ],
   "source": [
    "settings"
   ]
  },
  {
   "cell_type": "code",
   "execution_count": 656,
   "metadata": {},
   "outputs": [],
   "source": [
    "class Ark(CoreMetadata):\n",
    "    required_keys = set(['@id', 'identifier', 'url', 'dateCreated', 'name','author','includedInDataCatalog','contentUrl'])\n",
    "    optional_keys = set(['@type', 'expires'])\n",
    "    endpoint = \"https://ezid.cdlib.org/id/\"\n",
    "\n",
    "    \n",
    "    def postNeo(self):\n",
    "        ''' Post to Neo database\n",
    "        '''\n",
    "        neo_driver = NeoConn()\n",
    "        \n",
    "        \n",
    "        # query for parent with guid\n",
    "        with neo_driver.driver.session() as session:\n",
    "            with session.begin_transaction() as tx:\n",
    "                node = tx.run(\"MATCH (node:dataCatalog) \"\n",
    "                      \"WHERE node.guid = $guid \"\n",
    "                       \"RETURN count(node)\",\n",
    "                       guid = self.data.get('includedInDataCatalog'))\n",
    "                count = node.single().data().get('count(node)')\n",
    "        \n",
    "        # if dataCatalogNot found attempt to import\n",
    "        if count!= 1:\n",
    "            target = self.endpoint + self.data.get('includedInDataCatalog')\n",
    "            parent = importDC(target)\n",
    "            if parent==False:\n",
    "                raise InvalidParent(self.data.get('includedInDataCatalog'))\n",
    "        \n",
    "        with neo_driver.driver.session() as session:\n",
    "            with session.begin_transaction() as tx:\n",
    "                # create node with required properties\n",
    "                # create downloads as \n",
    "                tx.run(\"MATCH (parent:dataCatalog) WHERE parent.guid=$parent \"\n",
    "                       \"CREATE (node:Ark {guid: $guid, name: $name, author: $author, dateCreated: $dateCreated, url: $url, type: 'Dataset'}) \"\n",
    "                       \"CREATE (node)-[parentRel:includedIn]->(parent) \"\n",
    "                       \"CREATE (aws:AWSdownload {url: $awsUrl}) \"\n",
    "                       \"CREATE (node)-[awsRel:download]->(aws) \"\n",
    "                       \"CREATE (gpc:GPCdownload {url: $gpcUrl}) \"\n",
    "                       \"CREATE (node)-[gpcRel:download]->(gpc) \",\n",
    "                       parent=self.data.get('includedInDataCatalog'),\n",
    "                       guid=self.data.get('@id', None), \n",
    "                       name=self.data.get('name', None),\n",
    "                       dateCreated = self.data.get('dateCreated', None),\n",
    "                       author = self.data.get('author',None).get('name',None),\n",
    "                       url=self.data.get('url',None),\n",
    "                       awsUrl = self.data.get('contentUrl').get('aws'),\n",
    "                       gpcUrl = self.data.get('contentUrl').get('gpc')\n",
    "                      )\n",
    "                \n",
    "                \n",
    "                \n",
    "                \n",
    "                "
   ]
  },
  {
   "cell_type": "code",
   "execution_count": 585,
   "metadata": {},
   "outputs": [],
   "source": [
    "flatten = {\"@contentUrl\": {\"nested\": {\"hiding\": \"hello\"}, \"aws\":\"http://bd2k.ini.usc.edu/assets/all-hands-meeting/minid_v0.1_Nov_2015.pdf\"}}"
   ]
  },
  {
   "cell_type": "code",
   "execution_count": 599,
   "metadata": {},
   "outputs": [
    {
     "data": {
      "text/plain": [
       "False"
      ]
     },
     "execution_count": 599,
     "metadata": {},
     "output_type": "execute_result"
    }
   ],
   "source": [
    "all([ isinstance(value, dict)==False for value in flatten.values()])"
   ]
  },
  {
   "cell_type": "code",
   "execution_count": 651,
   "metadata": {},
   "outputs": [],
   "source": [
    "def recursiveFlatten(nestedAnvl):\n",
    "    output = nestedAnvl\n",
    "    while all([ isinstance(value, dict)==False for value in output.values()])==False:\n",
    "        output = flatten(output)\n",
    "    return output"
   ]
  },
  {
   "cell_type": "code",
   "execution_count": 652,
   "metadata": {},
   "outputs": [],
   "source": [
    "def flatten(anvlDict):\n",
    "    output = {}\n",
    "    for key, value in anvlDict.items():\n",
    "        key = re.sub(\"@\",\"\", key)\n",
    "        if isinstance(value, dict):\n",
    "            for subKey, subValue in value.items():\n",
    "                key = \".\".join([key, subKey])\n",
    "                output[key] =subValue\n",
    "                \n",
    "        if isinstance(value, str):\n",
    "            output[key] = value\n",
    "            \n",
    "        if isinstance(value, list):\n",
    "            # if a list of strings\n",
    "            if all([isinstance(el, str) for el in value]):\n",
    "                output[key] = \";\".join(value)\n",
    "            \n",
    "            # if a list of objects, must all be flattended and added as keys\n",
    "            if any([isinstance(el, dict) for el in value]):\n",
    "                for item in value:\n",
    "                    output[key] = flatten(item)\n",
    "            \n",
    "    return output"
   ]
  },
  {
   "cell_type": "code",
   "execution_count": 653,
   "metadata": {},
   "outputs": [],
   "source": [
    "formatted_anvl = profileFormat(recursiveFlatten(exArk))"
   ]
  },
  {
   "cell_type": "code",
   "execution_count": 654,
   "metadata": {},
   "outputs": [],
   "source": [
    "anvl = removeProfileFormat(formatted_anvl)"
   ]
  },
  {
   "cell_type": "code",
   "execution_count": null,
   "metadata": {},
   "outputs": [],
   "source": []
  },
  {
   "cell_type": "code",
   "execution_count": 642,
   "metadata": {},
   "outputs": [],
   "source": [
    "def unpack(anvl):\n",
    "    output = {}\n",
    "    for key, value in anvl.items():\n",
    "        if len(key.split(\".\", 1))==2:\n",
    "            split_key, split_val = key.split(\".\", 1)\n",
    "            output[split_key] = {split_val:value}\n",
    "        else:\n",
    "            output[key]=value\n",
    "    return output\n",
    "\n",
    "def recursiveUnpack(anvl):\n",
    "    output = anvl\n",
    "    while all([len(key.split(\".\",1))==1 for key, value in output.items()])==False:\n",
    "        output = unpack(output)\n",
    "        \n",
    "    return output"
   ]
  },
  {
   "cell_type": "code",
   "execution_count": 645,
   "metadata": {},
   "outputs": [],
   "source": []
  },
  {
   "cell_type": "code",
   "execution_count": null,
   "metadata": {},
   "outputs": [],
   "source": []
  },
  {
   "cell_type": "code",
   "execution_count": 621,
   "metadata": {},
   "outputs": [],
   "source": [
    "# add NIHdc to first tag\n",
    "def profileFormat(anvlDict):\n",
    "    output = {}\n",
    "    for key, value in anvlDict.items():\n",
    "        key = \".\".join([\"NIHdc\", key])\n",
    "        output[key] = value\n",
    "    return output\n",
    "        \n",
    "def removeProfileFormat(anvlDict):\n",
    "    output = {}\n",
    "    for key, value in anvlDict.items():\n",
    "        key = re.sub(\"NIHdc.\", \"\", key)\n",
    "        output[key] = value\n",
    "    return output"
   ]
  },
  {
   "cell_type": "code",
   "execution_count": 649,
   "metadata": {},
   "outputs": [],
   "source": [
    "# add appropriate @ symbols to important keys\n",
    "def formatJson(anvl):\n",
    "    \n",
    "    # @context\n",
    "    temp = anvl.pop('context')\n",
    "    anvl['@context'] = temp\n",
    "    \n",
    "    # @id\n",
    "    temp = anvl.pop('id')\n",
    "    anvl['@id'] = temp\n",
    "    \n",
    "    # @type\n",
    "    temp = anvl.pop('type')\n",
    "    anvl['@type'] = temp\n",
    "    \n",
    "    return anvl\n"
   ]
  },
  {
   "cell_type": "code",
   "execution_count": 550,
   "metadata": {},
   "outputs": [],
   "source": [
    "exArk = {\n",
    "  \"@context\": \"http://schema.org\",\n",
    "  \"@id\": \"ark:/88120/r8059v\",\n",
    "  \"@type\": \"CreativeWork\",\n",
    "  \"identifier\": \"ark:/88120/r8059v\",\n",
    "  \"url\": \"http://minid.bd2k.org/minid/landingpage/ark:/88120/r8059v\",\n",
    "  \"contentUrl\": {\"aws\":\"http://bd2k.ini.usc.edu/assets/all-hands-meeting/minid_v0.1_Nov_2015.pdf\"},\n",
    "  \"name\": \"minid: A BD2K Minimal Viable Identifier Pilot v0.1\",\n",
    "  \"author\": {\n",
    "    \"@id\": \"http://orcid.org/0000-0003-2129-5269\",\n",
    "    \"@type\": \"Person\",\n",
    "    \"name\": \"Ian Foster\"\n",
    "  },\n",
    "  \"dateCreated\": \"2015-11-10T04:44:44.387671Z\",\n",
    "    \"includedInDataCatalog\": \"ark:/99999/fk4MIR\",\n",
    "    \"checksum\": [{\"sha-256\": \"cacc1abf711425d3c554277a5989df269cefaa906d27f1aaa72205d30224ed5f\"}]    \n",
    "}\n"
   ]
  },
  {
   "cell_type": "code",
   "execution_count": 559,
   "metadata": {},
   "outputs": [],
   "source": [
    "testArk = Ark(exArk)"
   ]
  },
  {
   "cell_type": "code",
   "execution_count": 446,
   "metadata": {},
   "outputs": [
    {
     "data": {
      "text/plain": [
       "'ark:/88120/r8059v'"
      ]
     },
     "execution_count": 446,
     "metadata": {},
     "output_type": "execute_result"
    }
   ],
   "source": [
    "testArk.data.get('@id')"
   ]
  },
  {
   "cell_type": "code",
   "execution_count": 558,
   "metadata": {},
   "outputs": [],
   "source": [
    "# to test importing delete this cache and then if will grab from endpoint\n",
    "deleteCache(myDC.data['@id'])"
   ]
  },
  {
   "cell_type": "code",
   "execution_count": 560,
   "metadata": {},
   "outputs": [],
   "source": [
    "testArk.postNeo()"
   ]
  },
  {
   "cell_type": "code",
   "execution_count": 561,
   "metadata": {},
   "outputs": [
    {
     "data": {
      "text/plain": [
       "{'guid': 'ark:/99999/fk4MIR',\n",
       " 'name': 'Rat Genome Database',\n",
       " 'type': 'DataCatalog',\n",
       " 'url': 'http://rgd.mcw.edu/'}"
      ]
     },
     "execution_count": 561,
     "metadata": {},
     "output_type": "execute_result"
    }
   ],
   "source": [
    "getCache(myDC.data['@id'])"
   ]
  },
  {
   "cell_type": "code",
   "execution_count": 553,
   "metadata": {},
   "outputs": [
    {
     "data": {
      "text/plain": [
       "{'author': 'Ian Foster',\n",
       " 'dateCreated': '2015-11-10T04:44:44.387671Z',\n",
       " 'guid': 'ark:/88120/r8059v',\n",
       " 'name': 'minid: A BD2K Minimal Viable Identifier Pilot v0.1',\n",
       " 'type': 'Dataset',\n",
       " 'url': 'http://minid.bd2k.org/minid/landingpage/ark:/88120/r8059v'}"
      ]
     },
     "execution_count": 553,
     "metadata": {},
     "output_type": "execute_result"
    }
   ],
   "source": [
    "getCache(testArk.data.get('@id'))"
   ]
  },
  {
   "cell_type": "code",
   "execution_count": 544,
   "metadata": {},
   "outputs": [
    {
     "data": {
      "text/plain": [
       "{'author': 'Ian Foster',\n",
       " 'dateCreated': '2015-11-10T04:44:44.387671Z',\n",
       " 'guid': 'ark:/88120/r8059v',\n",
       " 'name': 'minid: A BD2K Minimal Viable Identifier Pilot v0.1',\n",
       " 'type': 'Dataset',\n",
       " 'url': 'http://minid.bd2k.org/minid/landingpage/ark:/88120/r8059v'}"
      ]
     },
     "execution_count": 544,
     "metadata": {},
     "output_type": "execute_result"
    }
   ],
   "source": [
    "deleteCache(testArk.data.get('@id'))"
   ]
  },
  {
   "cell_type": "code",
   "execution_count": 567,
   "metadata": {},
   "outputs": [
    {
     "data": {
      "text/plain": [
       "{'@context': 'http://schema.org',\n",
       " '@id': 'ark:/88120/r8059v',\n",
       " '@type': 'CreativeWork',\n",
       " 'author': {'@id': 'http://orcid.org/0000-0003-2129-5269',\n",
       "  '@type': 'Person',\n",
       "  'name': 'Ian Foster'},\n",
       " 'checksum': [{'sha-256': 'cacc1abf711425d3c554277a5989df269cefaa906d27f1aaa72205d30224ed5f'}],\n",
       " 'contentUrl': {'aws': 'http://bd2k.ini.usc.edu/assets/all-hands-meeting/minid_v0.1_Nov_2015.pdf'},\n",
       " 'dateCreated': '2015-11-10T04:44:44.387671Z',\n",
       " 'identifier': 'ark:/88120/r8059v',\n",
       " 'includedInDataCatalog': 'ark:/99999/fk4MIR',\n",
       " 'name': 'minid: A BD2K Minimal Viable Identifier Pilot v0.1',\n",
       " 'url': 'http://minid.bd2k.org/minid/landingpage/ark:/88120/r8059v'}"
      ]
     },
     "execution_count": 567,
     "metadata": {},
     "output_type": "execute_result"
    }
   ],
   "source": [
    "exArk"
   ]
  },
  {
   "cell_type": "code",
   "execution_count": 565,
   "metadata": {},
   "outputs": [
    {
     "data": {
      "text/plain": [
       "{'_created': '1447130687',\n",
       " '_export': 'yes',\n",
       " '_owner': 'isi-isrd',\n",
       " '_ownergroup': 'isi-isrd',\n",
       " '_profile': 'erc',\n",
       " '_status': 'public',\n",
       " '_target': 'http://minid.bd2k.org/minid/landingpage/ark:/88120/r8059v',\n",
       " '_updated': '1450366519',\n",
       " 'erc.what': '2015-11-10 04:44:44.387671',\n",
       " 'erc.when': 'minid: A BD2K Minimal Viable Identifier Pilot v0.1',\n",
       " 'erc.who': 'Ian Foster',\n",
       " 'minid.checksum': '23',\n",
       " 'success': 'ark:/88120/r8059v'}"
      ]
     },
     "execution_count": 565,
     "metadata": {},
     "output_type": "execute_result"
    }
   ],
   "source": [
    "ingestAnvl(str(response.content.decode('utf-8')) )"
   ]
  },
  {
   "cell_type": "markdown",
   "metadata": {},
   "source": [
    "## DOIs\n",
    "Required Fields \n",
    "- @id\n",
    "- @type\n",
    "- identifier\n",
    "- url\n",
    "- includedInDataCatalog\n",
    "- name\n",
    "- author\n",
    "- datePublished\n",
    "\n",
    "Optional Fields\n",
    "- dateCreated\n",
    "- additionalType\n",
    "- description\n",
    "- keywords\n",
    "- license\n",
    "- version\n",
    "- citation\n",
    "- isBasedOn\n",
    "- PredecessorOf\n",
    "- successorOf\n",
    "- hasPart\n",
    "- isPartOf\n",
    "- funder\n",
    "- contentSize\n",
    "- fileFormat\n",
    "- contentUrl"
   ]
  },
  {
   "cell_type": "code",
   "execution_count": null,
   "metadata": {},
   "outputs": [],
   "source": [
    "class Doi(CoreMetadata):\n",
    "    required_keys = set(['@id', '@type', 'identifier', \n",
    "                        'url', 'includedInDataCatalog', 'name', 'author',\n",
    "                        'datePublished', 'contentUrl'])\n",
    "    optional_keys = set(['dateCreated', 'additionalType', 'description', \n",
    "                        'keywords', 'license', 'version', 'citation', 'isBasedOn',\n",
    "                        'predecessorOf', 'successorOf', 'hasPart', 'isPartOf', 'funder',\n",
    "                        'contentSize', 'fileFormat'])\n",
    "    \n",
    "    def postNeo(self):\n",
    "        ''' Post Doi to Neo database\n",
    "        '''\n",
    "        neo_driver = NeoConn()\n",
    "        \n",
    "        \n",
    "        # query for parent with guid\n",
    "        with neo_driver.driver.session() as session:\n",
    "            with session.begin_transaction() as tx:\n",
    "                node = tx.run(\"MATCH (node:dataCatalog) \"\n",
    "                      \"WHERE node.guid = $guid \"\n",
    "                       \"RETURN count(node)\",\n",
    "                       guid = self.data.get('includedInDataCatalog'))\n",
    "                count = node.single().data().get('count(node)')\n",
    "        \n",
    "        # if dataCatalogNot found attempt to import\n",
    "        if count!= 1:\n",
    "            parent = importDC(self.data.get('includedInDataCatalog'))\n",
    "            if parent is None:\n",
    "                raise InvalidParent(self.data.get('includedInDataCatalog'))\n",
    "        \n",
    "        with neo_driver.driver.session() as session:\n",
    "            with session.begin_transaction() as tx:\n",
    "                # create node with required properties\n",
    "                # create downloads as \n",
    "                tx.run(\"MATCH (parent:dataCatalog) WHERE parent.guid=$parent \"\n",
    "                       \"CREATE (node:Ark {guid: $guid, name: $name, author: $author, dateCreated: $dateCreated, url: $url, type: 'Dataset'}) \"\n",
    "                       \"CREATE (node)-[parentRel:includedIn]->(parent) \"\n",
    "                       \"CREATE (aws:AWSdownload {url: $awsUrl}) \"\n",
    "                       \"CREATE (node)-[awsRel:download]->(aws) \"\n",
    "                       \"CREATE (gpc:GPCdownload {url: $gpcUrl}) \"\n",
    "                       \"CREATE (node)-[gpcRel:download]->(gpc) \",\n",
    "                       parent=self.data.get('includedInDataCatalog'),\n",
    "                       guid=self.data.get('@id', None), \n",
    "                       name=self.data.get('name', None),\n",
    "                       dateCreated = self.data.get('dateCreated', None),\n",
    "                       author = self.data.get('author',None).get('name',None),\n",
    "                       url=self.data.get('url',None),\n",
    "                       awsUrl = self.data.get('contentUrl').get('aws'),\n",
    "                       gpcUrl = self.data.get('contentUrl').get('gpc')\n",
    "                      )\n",
    "                \n",
    "                "
   ]
  },
  {
   "cell_type": "code",
   "execution_count": null,
   "metadata": {},
   "outputs": [],
   "source": [
    "exDoi = {\n",
    "  \"@context\": \"http://schema.org\",\n",
    "  \"@type\": \"Dataset\",\n",
    "  \"@id\": \"https://doi.org/10.25491/5e92-ht74\",\n",
    "  \"identifier\": \"https://doi.org/10.25491/5e92-ht74\",\n",
    "  \"additionalType\": \"Data dictionary\",\n",
    "  \"name\": \"A data dictionary that describes each variable in the GTEx_v7_Annotations_SubjectPhenotypesDS.txt\",\n",
    "  \"author\": {\n",
    "    \"@type\": \"Organization\",\n",
    "    \"name\": \"The GTEx Consortium\"\n",
    "  },\n",
    "  \"keywords\": \"gtex, annotation, phenotype, gene regulation, transcriptomics\",\n",
    "  \"datePublished\": \"2017\",\n",
    "  \"includedInDataCatalog\": {\n",
    "    \"@type\": \"Organization\",\n",
    "    \"name\": \"GTEx\"\n",
    "  },\n",
    "  \"version\": \"v7\",\n",
    "  \"url\": \"https://www.gtexportal.org/home/datasets\",\n",
    "  \"contentSize\": \"5.4 Mb\",\n",
    "  \"fileFormat\": \"application/vnd.openxmlformats-officedocument.spreadsheetml.sheet\",\n",
    "  \"funder\": {\n",
    "   \"@type\": \"Organization\",\n",
    "   \"@id\": \"https://doi.org/10.13039/100000050\",\n",
    "   \"name\": \"National Heart, Lung, and Blood Institute\"\n",
    "  }\n",
    "}"
   ]
  },
  {
   "cell_type": "code",
   "execution_count": 468,
   "metadata": {},
   "outputs": [],
   "source": []
  },
  {
   "cell_type": "markdown",
   "metadata": {},
   "source": [
    "## Neo Interactions\n",
    "\n",
    "### Get Downloads From Cache\n",
    "\n",
    "### Retreive Object from Cache\n",
    "\n",
    "### Delete Object from Cache\n",
    "\n",
    "### Import Object from External Service into Cache"
   ]
  },
  {
   "cell_type": "code",
   "execution_count": 342,
   "metadata": {},
   "outputs": [],
   "source": [
    "def getCache(guid):\n",
    "    \"\"\" Retrieve an Object by its Guid from the Cache\n",
    "    \"\"\"\n",
    "    \n",
    "    neo_driver = NeoConn()\n",
    "    with neo_driver.driver.session() as session:\n",
    "        with session.begin_transaction() as tx:\n",
    "            node = tx.run(\"MATCH (node) \"\n",
    "                   \"WHERE node.guid=$guid \"\n",
    "                   \"RETURN properties(node)\",\n",
    "                   guid = guid)\n",
    "            node_data = node.data()\n",
    "            if node_data == []:\n",
    "                return None\n",
    "            else:\n",
    "                return node_data[0].get('properties(node)', None)"
   ]
  },
  {
   "cell_type": "code",
   "execution_count": 474,
   "metadata": {},
   "outputs": [
    {
     "data": {
      "text/plain": [
       "['http://bd2k.ini.usc.edu/assets/all-hands-meeting/minid_v0.1_Nov_2015.pdf']"
      ]
     },
     "execution_count": 474,
     "metadata": {},
     "output_type": "execute_result"
    }
   ],
   "source": [
    "guid = 'ark:/88120/r8059v'\n",
    "getDownloads(guid)"
   ]
  },
  {
   "cell_type": "code",
   "execution_count": 473,
   "metadata": {},
   "outputs": [],
   "source": [
    "# Find \n",
    "def getDownloads(guid, loc='aws'):\n",
    "    neo_driver = NeoConn()\n",
    "    with neo_driver.driver.session() as session:\n",
    "        with session.begin_transaction() as tx:\n",
    "            if loc=='aws':\n",
    "                content = tx.run(\"MATCH (node)-[*]->(d:AWSdownload) WHERE node.guid=$guid \"\n",
    "                   \"RETURN d.url\",\n",
    "                  guid=guid)\n",
    "            else:\n",
    "                content = tx.run(\"MATCH (node)-[*]->(d:GPCdownload) WHERE node.guid=$guid \"\n",
    "                   \"RETURN d.url\",\n",
    "                  guid=guid)\n",
    "                \n",
    "            \n",
    "    content_data = content.data()\n",
    "    return [download_node.get('d.url') for download_node in content_data]"
   ]
  },
  {
   "cell_type": "code",
   "execution_count": 315,
   "metadata": {},
   "outputs": [],
   "source": [
    "def deleteCache(guid):\n",
    "    \"\"\" Delete an Object and remove all relationships from Cache\n",
    "    \"\"\"\n",
    "    neo_driver = NeoConn()\n",
    "    with neo_driver.driver.session() as session:\n",
    "        with session.begin_transaction() as tx:\n",
    "            node = tx.run(\"MATCH (node) \"\n",
    "                  \"WHERE node.guid=$guid \"\n",
    "                  \"RETURN properties(node)\",\n",
    "                  guid= guid)\n",
    "            tx.run(\"MATCH (node) \"\n",
    "                  \"WHERE node.guid=$guid \"\n",
    "                  \"DETACH DELETE node \",\n",
    "                  guid= guid)\n",
    "            node_data = node.data()\n",
    "            if node_data == []:\n",
    "                return None\n",
    "            else:\n",
    "                return node_data[0].get('properties(node)')"
   ]
  },
  {
   "cell_type": "code",
   "execution_count": 509,
   "metadata": {},
   "outputs": [],
   "source": [
    "def importCache(target):\n",
    "    \"\"\" Send a request to GUID service, import response to cache\n",
    "    \n",
    "    From the target determine the object type\n",
    "    \"\"\"\n",
    "    response = requests.get(target)\n",
    "    anvlDict = ingestAnvl(response.content.decode('utf-8'))\n",
    "    \n",
    "    if re.match(\"ark:/\", target):\n",
    "        obj = Ark(anvlDict)\n",
    "        \n",
    "    if re.match(\"doi:\", target):\n",
    "        obj = Doi(anvlDict)\n",
    "        \n",
    "    obj.postNeo()"
   ]
  },
  {
   "cell_type": "code",
   "execution_count": 536,
   "metadata": {},
   "outputs": [],
   "source": [
    "def ingestAnvl(anvl):\n",
    "    anvlDict = {}\n",
    "    for element in anvl.split('\\n'):\n",
    "        split_element = str(element).split(': ', 1)\n",
    "        if len(split_element)==2:\n",
    "            anvlDict[split_element[0]] = split_element[1]\n",
    "    return anvlDict"
   ]
  },
  {
   "cell_type": "code",
   "execution_count": null,
   "metadata": {},
   "outputs": [],
   "source": [
    " "
   ]
  },
  {
   "cell_type": "code",
   "execution_count": null,
   "metadata": {},
   "outputs": [],
   "source": []
  },
  {
   "cell_type": "markdown",
   "metadata": {},
   "source": [
    "## Compact Identifiers\n",
    "\n",
    "cant currently support\n",
    "    - needs to be rdf or xml response format\n",
    "\n",
    "endpoint = http://identifiers.org/[collection]/[entity]\n",
    "\n",
    "Fields (all mandatory)\n",
    "- @id\n",
    "- @type\n",
    "- identifier\n",
    "- url\n",
    "- includedInDataCatalog"
   ]
  },
  {
   "cell_type": "code",
   "execution_count": 203,
   "metadata": {},
   "outputs": [],
   "source": [
    "exCompactId = {\n",
    "  \"@context\": \"http://schema.org\",\n",
    "  \"@id\": \"https://identifiers.org/rgd/2825\",\n",
    "  \"@type\": \"Dataset\",\n",
    "  \"identifier\": \"https://identifiers.org/rgd/2825\",\n",
    "  \"url\": \"https://rgd.mcw.edu/rgdweb/report/gene/main.html?id=2825\",\n",
    "  \"includedInDataCatalog\": {\n",
    "    \"@id\": \"https://www.ebi.ac.uk/miriam/main/datatypes/MIR:00000047\",\n",
    "    \"@type\": \"DataCatalog\",\n",
    "    \"name\": \"Rat Genome Database\",\n",
    "    \"url\": \"http://rgd.mcw.edu/\"\n",
    "    }\n",
    "}"
   ]
  },
  {
   "cell_type": "code",
   "execution_count": null,
   "metadata": {},
   "outputs": [],
   "source": []
  },
  {
   "cell_type": "code",
   "execution_count": null,
   "metadata": {},
   "outputs": [],
   "source": []
  },
  {
   "cell_type": "code",
   "execution_count": 115,
   "metadata": {},
   "outputs": [],
   "source": [
    "class CompactId(CoreMetadata):\n",
    "    endpoint = \"http://identifiers.org/\"\n",
    "    \n",
    "    def postNeo(self):\n",
    "        ''' Post to Neo database\n",
    "        '''\n",
    "        neo_driver = NeoConn()\n",
    "        \n",
    "        with neo_driver.driver.session() as session:\n",
    "            session.write_transaction(\n",
    "                tx.run(\"CREATE (d:dataCatalog {guid: $guid, name: $name, url: $url} )\",\n",
    "                       guid=self.data['@id'], \n",
    "                       name=self.data['name'],\n",
    "                       url=self.data['url']\n",
    "                      )\n",
    "            )\n",
    "            \n",
    "            "
   ]
  },
  {
   "cell_type": "code",
   "execution_count": 676,
   "metadata": {},
   "outputs": [],
   "source": [
    "# helper functions for processing messages\n",
    "def escape(s):\n",
    "    return re.sub(\"[%:\\r\\n]\", lambda c: \"%%%02X\" % ord(c.group(0)), s)\n",
    "\n",
    "def outputAnvl(anvlDict):\n",
    "    ''' Encode all objects into strings, lists into strings\n",
    "    '''  \n",
    "        \n",
    "    return \"\\n\".join(\"%s: %s\" % (escape(str(name)), escape(str(value) )) for name,value in anvlDict.items()).encode('utf-8')"
   ]
  },
  {
   "cell_type": "code",
   "execution_count": null,
   "metadata": {},
   "outputs": [],
   "source": [
    "# have to use ident"
   ]
  }
 ],
 "metadata": {
  "kernelspec": {
   "display_name": "Python 3",
   "language": "python",
   "name": "python3"
  },
  "language_info": {
   "codemirror_mode": {
    "name": "ipython",
    "version": 3
   },
   "file_extension": ".py",
   "mimetype": "text/x-python",
   "name": "python",
   "nbconvert_exporter": "python",
   "pygments_lexer": "ipython3",
   "version": "3.6.4"
  }
 },
 "nbformat": 4,
 "nbformat_minor": 2
}
