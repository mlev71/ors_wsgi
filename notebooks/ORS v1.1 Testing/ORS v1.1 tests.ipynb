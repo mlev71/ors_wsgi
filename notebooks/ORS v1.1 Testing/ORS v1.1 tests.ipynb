{
 "cells": [
  {
   "cell_type": "code",
   "execution_count": 1,
   "metadata": {},
   "outputs": [],
   "source": [
    "import requests\n",
    "import json\n",
    "from time import sleep"
   ]
  },
  {
   "cell_type": "code",
   "execution_count": 2,
   "metadata": {},
   "outputs": [],
   "source": [
    "# quiet warnings for local testing\n",
    "from requests.packages.urllib3.exceptions import InsecureRequestWarning\n",
    "requests.packages.urllib3.disable_warnings(InsecureRequestWarning)"
   ]
  },
  {
   "cell_type": "markdown",
   "metadata": {},
   "source": [
    "## Get Access Token from Visiting Site\n",
    "\n",
    "#### TODO add POST /token path to return a valid access token \n",
    "    based on email and username  "
   ]
  },
  {
   "cell_type": "code",
   "execution_count": 90,
   "metadata": {},
   "outputs": [],
   "source": [
    "ACCESS_TOKEN =\"AgDNkY7m0Dj30G056x27jOe56Q2YNraMEy9P3d41w639Vr2qq3saCPO8dQjv8xw65O0OGbmOMnljVwswBBzrxCgkjrcNaepi2Kvl\"\n",
    "AC = \"?access_token=\" + ACCESS_TOKEN\n",
    "REFRESH_TOKEN = \"Ag8bzYrgxJQ4YllpD7E4a3D9jngw9jYg8elkovjN0MKeoyEz0dUaU76nGbv4kl0Yw38nOBoXz5m52z2EDK2DnM1aYV0ok\"\n",
    "RE = \"?refresh_token=\" + REFRESH_TOKEN"
   ]
  },
  {
   "cell_type": "code",
   "execution_count": 91,
   "metadata": {},
   "outputs": [],
   "source": [
    "ACCESS = AC"
   ]
  },
  {
   "cell_type": "code",
   "execution_count": 57,
   "metadata": {},
   "outputs": [],
   "source": [
    "AWS = \"http://35.153.141.154:8080/\""
   ]
  },
  {
   "cell_type": "code",
   "execution_count": 5,
   "metadata": {},
   "outputs": [],
   "source": [
    "# example options, set custom landing page, delete in 6 minutes\n",
    "options = {\n",
    "        \"_target\": 'http://example.com',\n",
    "        \"_status\": 'reserved',\n",
    "        \"ttl\": '360'\n",
    "    } "
   ]
  },
  {
   "cell_type": "markdown",
   "metadata": {},
   "source": [
    "## ARK test\n",
    "\n",
    "Landing Page https://localhost:8080/ark/landing/ark:/99999/fk4TestDepArk"
   ]
  },
  {
   "cell_type": "code",
   "execution_count": 96,
   "metadata": {},
   "outputs": [],
   "source": [
    "ark_dc = {\n",
    "        \"@context\": \"http://schema.org\",\n",
    "        \"@id\": \"ark:/99999/fk4TestDC\",\n",
    "        \"@type\": \"DataCatalog\",\n",
    "        \"identifier\": \"ark:/99999/fk4TestDC\",\n",
    "        \"url\": \"http://minid.bd2k.org/minid/landingpage/ark:/88120/r8059v\",\n",
    "        \"name\": \"minid: A BD2K Minimal Viable Identifier Pilot v0.1\",\n",
    "        \"author\": {\n",
    "            \"@id\": \"http://orcid.org/0000-0003-2129-5269\",\n",
    "            \"@type\": \"Person\",\n",
    "            \"name\": \"Ian Foster\"\n",
    "            },\n",
    "        \"dateCreated\": \"2015-11-10T04:44:44.387671Z\"\n",
    "}"
   ]
  },
  {
   "cell_type": "code",
   "execution_count": 97,
   "metadata": {},
   "outputs": [],
   "source": [
    "ark_dataset = {\n",
    "\n",
    "    \"@context\": \"http://schema.org\",\n",
    "    \"@id\": \"ark:/99999/fk4TestDatasetArk\",\n",
    "    \"@type\": \"Dataset\",\n",
    "    \"includedInDataCatalog\": \"ark:/99999/fk4TestDC\",\n",
    "    \"identifier\": [\n",
    "           \"ark:/99999/fk4TestDatasetArk\",\n",
    "           {\n",
    "              \"@type\": \"PropertyValue\",\n",
    "              \"name\": \"sha-256\",\n",
    "              \"value\": \"cacc1abf711425d3c554277a5989df269cefaa906d27f1aaa72205d30224ed5f\"\n",
    "           },\n",
    "        ],\n",
    "    \n",
    "    \"url\": \"http://minid.bd2k.org/minid/landingpage/ark:/88120/r8059v\",\n",
    "    \"contentUrl\": [\"aws://all-hands-meeting/minid_v0.1_Nov_2015.pdf\"],\n",
    "    \"fileFormat\": 'pdf',\n",
    "    \"name\": \"minid dataset\",\n",
    "    \"version\": \"v1\",\n",
    "\n",
    "    \"author\": {\n",
    "        \"@id\": \"http://orcid.org/0000-0003-2129-5269\",\n",
    "        \"@type\": \"Person\",\n",
    "        \"name\": \"Max Levinson\"},\n",
    "  \n",
    "    \"dateCreated\": \"2015-11-10T04:44:44.387671Z\"\n",
    "}\n",
    "\n",
    "ark_options = {\n",
    "    'metadata': ark_dataset,\n",
    "    'options': options\n",
    "}\n"
   ]
  },
  {
   "cell_type": "code",
   "execution_count": null,
   "metadata": {},
   "outputs": [],
   "source": []
  },
  {
   "cell_type": "markdown",
   "metadata": {},
   "source": [
    "## Put Ark "
   ]
  },
  {
   "cell_type": "code",
   "execution_count": 110,
   "metadata": {},
   "outputs": [
    {
     "data": {
      "text/plain": [
       "'{\"ezid\": {\"status\": 400, \"messsage\": \"error: bad request - identifier already exists\"}}'"
      ]
     },
     "execution_count": 110,
     "metadata": {},
     "output_type": "execute_result"
    }
   ],
   "source": [
    "ark_dc_put = requests.put(\n",
    "    url = \"https://localhost/ark/put\"+ACCESS,\n",
    "    data = json.dumps(ark_dc),\n",
    "    verify = False\n",
    ")\n",
    "ark_dc_put.content.decode('utf-8')"
   ]
  },
  {
   "cell_type": "code",
   "execution_count": 111,
   "metadata": {},
   "outputs": [
    {
     "data": {
      "text/plain": [
       "'{\"ezid\": {\"status\": 400, \"messsage\": \"error: bad request - identifier already exists\"}}'"
      ]
     },
     "execution_count": 111,
     "metadata": {},
     "output_type": "execute_result"
    }
   ],
   "source": [
    "ark_dataset_put = requests.put(\n",
    "    url = \"https://localhost/ark/put\"+ACCESS,\n",
    "    data = json.dumps(ark_dataset),\n",
    "    verify = False\n",
    ")\n",
    "ark_dataset_put.content.decode('utf-8')"
   ]
  },
  {
   "cell_type": "code",
   "execution_count": 40,
   "metadata": {},
   "outputs": [
    {
     "data": {
      "text/plain": [
       "'http://18.232.76.43/ark/put?access_token=AgJGoqQajYYejBj3rVvgPBp41Q0awXaX6k4k6Y0KQlx7KwdrGWU0CKrB8Mmjvgrzr4zkBavYrMjr0zT3J3Dz3FWbapHkWBEFNkP1'"
      ]
     },
     "execution_count": 40,
     "metadata": {},
     "output_type": "execute_result"
    }
   ],
   "source": [
    "AWS+'ark/put'+ACCESS"
   ]
  },
  {
   "cell_type": "code",
   "execution_count": 44,
   "metadata": {},
   "outputs": [
    {
     "data": {
      "text/plain": [
       "'{\"ezid\": {\"status\": 400, \"messsage\": \"error: bad request - identifier already exists\"}}'"
      ]
     },
     "execution_count": 44,
     "metadata": {},
     "output_type": "execute_result"
    }
   ],
   "source": [
    "aws_dc_put = requests.put(\n",
    "    url = AWS+'ark/put'+ACCESS,\n",
    "    data = json.dumps(ark_dc)\n",
    ")\n",
    "aws_dc_put.content.decode('utf-8')"
   ]
  },
  {
   "cell_type": "code",
   "execution_count": 45,
   "metadata": {},
   "outputs": [
    {
     "data": {
      "text/plain": [
       "'{\"ezid\": {\"status\": 400, \"messsage\": \"error: bad request - identifier already exists\"}}'"
      ]
     },
     "execution_count": 45,
     "metadata": {},
     "output_type": "execute_result"
    }
   ],
   "source": [
    "aws_data_put = requests.put(\n",
    "    url = AWS+'ark/put'+ACCESS,\n",
    "    data = json.dumps(ark_dataset)\n",
    ")\n",
    "aws_data_put.content.decode('utf-8')"
   ]
  },
  {
   "cell_type": "markdown",
   "metadata": {},
   "source": [
    "Landing Pages\n",
    "\n",
    "https://localhost/ark:/99999/fk4TestDC\n",
    "\n",
    "https://localhost/ark:/99999/fk4TestDatasetArk\n"
   ]
  },
  {
   "cell_type": "markdown",
   "metadata": {},
   "source": [
    "AWS Landing Pages\n",
    "\n",
    "http://34.229.214.69:8080/ark:/99999/fk4TestDC\n",
    "\n",
    "http://34.229.214.69:8080/ark:/99999/fk4TestDatasetArk"
   ]
  },
  {
   "cell_type": "code",
   "execution_count": 129,
   "metadata": {},
   "outputs": [
    {
     "data": {
      "text/plain": [
       "b'{\"success\": \"ark:/99999/fk4TestDC\", \"author\": {\"name\": \"Ian Foster\", \"id\": \"http://orcid.org/0000-0003-2129-5269\", \"type\": \"Person\"}, \"dateCreated\": \"2015-11-10T04:44:44.387671Z\", \"name\": \"minid: A BD2K Minimal Viable Identifier Pilot v0.1\", \"url\": \"http://minid.bd2k.org/minid/landingpage/ark:/88120/r8059v\", \"identifier\": \"ark:/99999/fk4TestDC\", \"@context\": \"http://schema.org\", \"@id\": \"ark:/99999/fk4TestDC\", \"@type\": \"DataCatalog\"}'"
      ]
     },
     "execution_count": 129,
     "metadata": {},
     "output_type": "execute_result"
    }
   ],
   "source": [
    "# Ark\n",
    "ark_dc_get = requests.get(\n",
    "    url = \"https://localhost/ark:/99999/fk4TestDC\",\n",
    "    headers = {'Accept':'application/json'},\n",
    "    verify = False\n",
    ")\n",
    "ark_dc_get.content"
   ]
  },
  {
   "cell_type": "code",
   "execution_count": 130,
   "metadata": {},
   "outputs": [
    {
     "data": {
      "text/plain": [
       "b'{\"success\": \"ark:/99999/fk4TestDatasetArk\", \"contentUrl\": \"aws://all-hands-meeting/minid_v0.1_Nov_2015.pdf\", \"author\": {\"id\": \"http://orcid.org/0000-0003-2129-5269\", \"type\": \"Person\", \"name\": \"Max Levinson\"}, \"name\": \"minid dataset\", \"includedInDataCatalog\": \"ark:/99999/fk4TestDC\", \"url\": \"http://minid.bd2k.org/minid/landingpage/ark:/88120/r8059v\", \"fileFormat\": \"pdf\", \"identifier\": [\"ark:/99999/fk4TestDC\", {\"type\": \"PropertyValue\", \"value\": \"cacc1abf711425d3c554277a5989df269cefaa906d27f1aaa72205d30224ed5f\", \"name\": \"sha-256\"}], \"dateCreated\": \"2015-11-10T04:44:44.387671Z\", \"version\": \"v1\", \"@context\": \"http://schema.org\", \"@id\": \"ark:/99999/fk4TestDatasetArk\", \"@type\": \"Dataset\"}'"
      ]
     },
     "execution_count": 130,
     "metadata": {},
     "output_type": "execute_result"
    }
   ],
   "source": [
    "ark_dataset_get = requests.get(\n",
    "    url = \"https://localhost/ark:/99999/fk4TestDatasetArk\",\n",
    "    headers = {'Accept':'application/json'},\n",
    "    verify = False\n",
    ")\n",
    "ark_dataset_get.content"
   ]
  },
  {
   "cell_type": "markdown",
   "metadata": {},
   "source": [
    "## Put with Options"
   ]
  },
  {
   "cell_type": "code",
   "execution_count": 666,
   "metadata": {},
   "outputs": [
    {
     "data": {
      "text/plain": [
       "b'{\"api\": {\"status\": 201, \"messsage\": \"success: ark:/99999/fk4TestDepArk\"}, \"cache\": {\"created\": {\"name\": \"minid: A BD2K Minimal Viable Identifier Pilot v0.1\", \"guid\": \"ark:/99999/fk4TestDepArk\", \"dateCreated\": \"2015-11-10T04:44:44.387671Z\", \"type\": \"Dataset\", \"author\": \"Ian Foster\", \"url\": \"http://minid.bd2k.org/minid/landingpage/ark:/88120/r8059v\"}}}'"
      ]
     },
     "execution_count": 666,
     "metadata": {},
     "output_type": "execute_result"
    }
   ],
   "source": [
    "local_ark = requests.put(\n",
    "    url = \"https://localhost/ark/put\"+ACCESS,\n",
    "    data = json.dumps(ark_options),\n",
    "    verify = False\n",
    ")\n",
    "json.loads(local_ark.content.decode('utf-8'))"
   ]
  },
  {
   "cell_type": "code",
   "execution_count": null,
   "metadata": {},
   "outputs": [],
   "source": []
  },
  {
   "cell_type": "markdown",
   "metadata": {},
   "source": [
    "ERROR when self.data.get('identifier') is none"
   ]
  },
  {
   "cell_type": "code",
   "execution_count": 109,
   "metadata": {},
   "outputs": [
    {
     "data": {
      "text/plain": [
       "b'{\"api\": {\"status_code\": 400, \"message\": \"error: bad request - no such identifier\"}}'"
      ]
     },
     "execution_count": 109,
     "metadata": {},
     "output_type": "execute_result"
    }
   ],
   "source": [
    "# delete from all\n",
    "ark_delete = requests.delete(\n",
    "    url = \"https://localhost/ark/delete/ark:/99999/fk4TestDatasetArk\"+ACCESS,\n",
    "    verify = False\n",
    ")\n",
    "ark_delete.content"
   ]
  },
  {
   "cell_type": "code",
   "execution_count": 110,
   "metadata": {},
   "outputs": [
    {
     "data": {
      "text/plain": [
       "b'{\"api\": {\"status_code\": 200, \"message\": \"success: ark:/99999/fk4TestDC\"}}'"
      ]
     },
     "execution_count": 110,
     "metadata": {},
     "output_type": "execute_result"
    }
   ],
   "source": [
    "# delete from all\n",
    "ark_dc_delete = requests.delete(\n",
    "    url = \"https://localhost/ark/delete/ark:/99999/fk4TestDC\"+ACCESS,\n",
    "    verify = False\n",
    ")\n",
    "ark_dc_delete.content"
   ]
  },
  {
   "cell_type": "code",
   "execution_count": 49,
   "metadata": {},
   "outputs": [
    {
     "data": {
      "text/plain": [
       "b'{\"api\": {\"status_code\": 200, \"message\": \"success: ark:/99999/fk4TestDC\"}}'"
      ]
     },
     "execution_count": 49,
     "metadata": {},
     "output_type": "execute_result"
    }
   ],
   "source": [
    "# delete from all\n",
    "aws_delete_dc = requests.delete(\n",
    "    url = AWS+'ark/delete/ark:/99999/fk4TestDC'+ACCESS\n",
    ")\n",
    "aws_delete_dc.content"
   ]
  },
  {
   "cell_type": "code",
   "execution_count": 51,
   "metadata": {},
   "outputs": [
    {
     "data": {
      "text/plain": [
       "b'{\"api\": {\"status_code\": 400, \"message\": \"error: bad request - no such identifier\"}}'"
      ]
     },
     "execution_count": 51,
     "metadata": {},
     "output_type": "execute_result"
    }
   ],
   "source": [
    "# delete from all\n",
    "aws_delete_data = requests.delete(\n",
    "    url = AWS+'ark/delete/ark:/99999/fk4TestDatasetArk'+ACCESS\n",
    ")\n",
    "aws_delete_data.content"
   ]
  },
  {
   "cell_type": "markdown",
   "metadata": {},
   "source": [
    "## DOI Test"
   ]
  },
  {
   "cell_type": "code",
   "execution_count": 112,
   "metadata": {},
   "outputs": [],
   "source": [
    "doi_dc = {\n",
    "    \"@context\": \"http://schema.org\",\n",
    "    \"@type\": \"DataCatalog\",\n",
    "    \"@id\": \"10.5072/test9999testdc\",\n",
    "    \"identifier\": \"10.5072/test9999testdc\",\n",
    "    \"additionalType\": \"Data dictionary\",\n",
    "    \"name\": \"GTEx Public Files\",\n",
    "    \"description\": \"A data dictionary that describes each variable in the GTEx_v7_Annotations_SubjectPhenotypesDS.txt\",\n",
    "   \"author\": {\n",
    "        \"@type\": \"Organization\",\n",
    "        \"name\": \"The GTEx Consortium\"\n",
    "    },\n",
    "   \n",
    "  \"keywords\": \"gtex, annotation, phenotype, gene regulation, transcriptomics\",\n",
    "  \"datePublished\": \"2017\",\n",
    "  \"version\": \"v7\",\n",
    "  \"url\": \"https://www.gtexportal.org/home/datasets\",\n",
    "  \"contentSize\": \"5.4 Mb\",\n",
    "  \"funder\": {\n",
    "   \"@type\": \"Organization\",\n",
    "   \"@id\": \"doi:/10.13039/100000050\",\n",
    "   \"name\": \"National Heart, Lung, and Blood Institute\"\n",
    "  }\n",
    "}"
   ]
  },
  {
   "cell_type": "code",
   "execution_count": 113,
   "metadata": {},
   "outputs": [],
   "source": [
    "doi_dataset = {\n",
    "    \"@context\": \"http://schema.org\",\n",
    "    \"@type\": \"Dataset\",\n",
    "    \"@id\": \"10.5072/test9999datatest\",\n",
    "    \"identifier\": [\n",
    "        \"10.5072/test9999datatest\",\n",
    "        {\n",
    "          \"@type\": \"PropertyValue\",\n",
    "          \"name\": \"sha-256\",\n",
    "          \"value\": \"cacc1abf711425d3c554277a5989df269cefaa906d27f1aaa72205d30224ed5f\"\n",
    "        }\n",
    "                  ],\n",
    "    \"author\": {\n",
    "        \"@type\": \"Organization\",\n",
    "        \"name\": \"The GTEx Consortium\"\n",
    "        },\n",
    "    \"includedInDataCatalog\": \"10.5072/test9999testdc\",\n",
    "    \"name\": \"Download File 1\",\n",
    "    \"description\": \"example download file\",\n",
    "    \"keywords\": \"gtex, annotation, phenotype, gene regulation, transcriptomics\",\n",
    "    \"datePublished\": \"2017\",\n",
    "    \"version\": \"v7\",\n",
    "    \"url\": \"https://www.gtexportal.org/home/datasets\",\n",
    "    \"contentSize\": \"5.4 Mb\",\n",
    "    \"fileFormat\": \"application/vnd.openxmlformats-officedocument.spreadsheetml.sheet\",\n",
    "    \"contentUrl\": [\"aws://examplebucket\", \"gpc://examplebucket\"]\n",
    "}"
   ]
  },
  {
   "cell_type": "code",
   "execution_count": 118,
   "metadata": {},
   "outputs": [],
   "source": [
    "metadata = requests.get(\n",
    "    url = \"https://mds.test.datacite.org/metadata/\"+doi_dc['@id'],\n",
    "    auth = requests.auth.HTTPBasicAuth('DATACITE.DCPPC', 'Player&Chemo+segment')\n",
    ")"
   ]
  },
  {
   "cell_type": "code",
   "execution_count": 119,
   "metadata": {},
   "outputs": [
    {
     "data": {
      "text/plain": [
       "b'<resource xmlns:xsi=\"http://www.w3.org/2001/XMLSchema-instance\" xmlns=\"http://datacite.org/schema/kernel-4\" xsi:schemaLocation=\"http://datacite.org/schema/kernel-4 http://schema.datacite.org/meta/kernel-4/metadata.xsd\"><identifier identifierType=\"DOI\">10.5072/test9999testdc</identifier><publicationYear>2017</publicationYear><resourceType resourceTypeGeneral=\"Dataset\">DataCatalog</resourceType><titles><title>GTEx Public Files</title></titles><creators><creator><creatorName>The GTEx Consortium</creatorName></creator></creators><publisher>The GTEx Consortium</publisher><relatedIdentifiers><relatedIdentifier relatedIdentifierType=\"URL\" relationType=\"IsDocumentedBy\">https://www.gtexportal.org/home/datasets</relatedIdentifier></relatedIdentifiers><version>v7</version><descriptions><description descriptionType=\"Abstract\">A data dictionary that describes each variable in the GTEx_v7_Annotations_SubjectPhenotypesDS.txt</description></descriptions><subjects><subject>gtex</subject><subject> annotation</subject><subject> phenotype</subject><subject> gene regulation</subject><subject> transcriptomics</subject></subjects><fundingReferences><fundingReference><funderName>National Heart, Lung, and Blood Institute</funderName><funderIdentifier funderIdentifierType=\"Other\">doi:/10.13039/100000050</funderIdentifier></fundingReference></fundingReferences></resource>'"
      ]
     },
     "execution_count": 119,
     "metadata": {},
     "output_type": "execute_result"
    }
   ],
   "source": [
    "metadata.content"
   ]
  },
  {
   "cell_type": "code",
   "execution_count": 114,
   "metadata": {},
   "outputs": [
    {
     "data": {
      "text/plain": [
       "b'{\"api\": {\"metadata_registration\": {\"status_code\": 201, \"content\": \"OK (10.5072/test9999testdc)\"}, \"doi_reservation\": {\"status_code\": 201, \"content\": \"OK\"}}}'"
      ]
     },
     "execution_count": 114,
     "metadata": {},
     "output_type": "execute_result"
    }
   ],
   "source": [
    "put_dc = requests.put(\n",
    "    url = \"https://localhost/doi/put\"+ ACCESS,\n",
    "    data = json.dumps(doi_dc),\n",
    "    verify = False\n",
    ") \n",
    "put_dc.content"
   ]
  },
  {
   "cell_type": "code",
   "execution_count": 116,
   "metadata": {},
   "outputs": [
    {
     "data": {
      "text/plain": [
       "b'{\"api\": {\"metadata_registration\": {\"status_code\": 201, \"content\": \"OK (10.5072/test9999datatest)\"}, \"doi_reservation\": {\"status_code\": 201, \"content\": \"OK\"}}}'"
      ]
     },
     "execution_count": 116,
     "metadata": {},
     "output_type": "execute_result"
    }
   ],
   "source": [
    "put_dataset = requests.put(\n",
    "    url = \"https://localhost/doi/put\"+ ACCESS,\n",
    "    data = json.dumps(doi_dataset),\n",
    "    verify = False\n",
    ") \n",
    "put_dataset.content"
   ]
  },
  {
   "cell_type": "code",
   "execution_count": 58,
   "metadata": {},
   "outputs": [
    {
     "data": {
      "text/plain": [
       "b'{\"api\": {\"metadata_registration\": {\"status_code\": 201, \"content\": \"OK (10.5072/test9999testdc)\"}, \"doi_reservation\": {\"status_code\": 500, \"content\": \"Another user has changed this record. Please try again\"}}}'"
      ]
     },
     "execution_count": 58,
     "metadata": {},
     "output_type": "execute_result"
    }
   ],
   "source": [
    "aws_put_dc = requests.put(\n",
    "    url = AWS+ 'doi/put'+ ACCESS,\n",
    "    data = json.dumps(doi_dc)\n",
    ") \n",
    "aws_put_dc.content"
   ]
  },
  {
   "cell_type": "code",
   "execution_count": 59,
   "metadata": {},
   "outputs": [
    {
     "data": {
      "text/plain": [
       "b'{\"api\": {\"metadata_registration\": {\"status_code\": 201, \"content\": \"OK (10.5072/test9999datatest)\"}, \"doi_reservation\": {\"status_code\": 201, \"content\": \"OK\"}}}'"
      ]
     },
     "execution_count": 59,
     "metadata": {},
     "output_type": "execute_result"
    }
   ],
   "source": [
    "aws_put_data = requests.put(\n",
    "    url = AWS+ 'doi/put'+ ACCESS,\n",
    "    data = json.dumps(doi_dataset)\n",
    ") \n",
    "aws_put_data.content"
   ]
  },
  {
   "cell_type": "markdown",
   "metadata": {},
   "source": [
    "Landing pages \n",
    "\n",
    "\n",
    "https://localhost/doi:/10.5072/test9999datatest\n",
    "\n",
    "https://localhost/doi:/10.5072/test9999testdc\n"
   ]
  },
  {
   "cell_type": "markdown",
   "metadata": {},
   "source": [
    "AWS Landing Pages\n",
    "\n",
    "http://35.153.141.154:8080/doi:/10.5072/test9999datatest\n",
    "\n",
    "http://35.153.141.154:8080/doi:/10.5072/test9999testdc"
   ]
  },
  {
   "cell_type": "code",
   "execution_count": 60,
   "metadata": {},
   "outputs": [
    {
     "data": {
      "text/plain": [
       "'http://35.153.141.154:8080/'"
      ]
     },
     "execution_count": 60,
     "metadata": {},
     "output_type": "execute_result"
    }
   ],
   "source": [
    "AWS"
   ]
  },
  {
   "cell_type": "code",
   "execution_count": 26,
   "metadata": {},
   "outputs": [
    {
     "data": {
      "text/plain": [
       "b'{\"@context\": \"https://schema.org\", \"keywords\": \"gtex, annotation, phenotype, gene regulation, transcriptomics\", \"author\": {\"name\": \"The GTEx Consortium\"}, \"description\": \"example download file\", \"@type\": \"Dataset\", \"url\": \"https://www.gtexportal.org/home/datasets\", \"includedInDataCatalog\": \"10.5072/test9999testdc\", \"contentUrl\": [\"aws://examplebucket\", \"aws://examplebucket\"], \"name\": \"Download File 1\", \"version\": \"v7\", \"datePublished\": \"2017\"}'"
      ]
     },
     "execution_count": 26,
     "metadata": {},
     "output_type": "execute_result"
    }
   ],
   "source": [
    "get_doi_dataset = requests.get(\n",
    "    url = \"https://localhost/doi:/10.5072/test9999datatest\",\n",
    "     headers = {'Accept':'application/json'},\n",
    "    verify = False \n",
    ")\n",
    "get_doi_dataset.content"
   ]
  },
  {
   "cell_type": "code",
   "execution_count": 27,
   "metadata": {},
   "outputs": [
    {
     "data": {
      "text/plain": [
       "b'{\"@context\": \"https://schema.org\", \"keywords\": \"gtex, annotation, phenotype, gene regulation, transcriptomics\", \"author\": {\"name\": \"The GTEx Consortium\"}, \"description\": \"A data dictionary that describes each variable in the GTEx_v7_Annotations_SubjectPhenotypesDS.txt\", \"funder\": {\"name\": \"National Heart, Lung, and Blood Institute\", \"@type\": \"Organization\", \"@id\": \"doi:/10.13039/100000050\"}, \"@type\": \"DataCatalog\", \"url\": \"https://www.gtexportal.org/home/datasets\", \"name\": \"GTEx Public Files\", \"version\": \"v7\", \"datePublished\": \"2017\"}'"
      ]
     },
     "execution_count": 27,
     "metadata": {},
     "output_type": "execute_result"
    }
   ],
   "source": [
    "# retrieve from api\n",
    "get_doi_dc = requests.get(\n",
    "    url = \"https://localhost/doi:/10.5072/test9999testdc\",\n",
    "    headers = {'Accept':'application/json'},\n",
    "    verify = False \n",
    ")\n",
    "\n",
    "get_doi_dc.content"
   ]
  },
  {
   "cell_type": "code",
   "execution_count": 20,
   "metadata": {},
   "outputs": [
    {
     "data": {
      "text/plain": [
       "b'{\"api\": {\"status_code\": 200, \"message\": \"OK\"}}'"
      ]
     },
     "execution_count": 20,
     "metadata": {},
     "output_type": "execute_result"
    }
   ],
   "source": [
    "# delete from all\n",
    "del_all = requests.delete(\n",
    "    url = \"https://localhost/doi/delete/10.5072/test9999ADifferentName\"+ACCESS,\n",
    "    verify = False\n",
    ")\n",
    "del_all.content"
   ]
  },
  {
   "cell_type": "code",
   "execution_count": 21,
   "metadata": {},
   "outputs": [
    {
     "data": {
      "text/plain": [
       "b'{\"api\": {\"status_code\": 200, \"message\": \"OK\"}}'"
      ]
     },
     "execution_count": 21,
     "metadata": {},
     "output_type": "execute_result"
    }
   ],
   "source": [
    "# delete from all\n",
    "del_all = requests.delete(\n",
    "    url = \"https://localhost/doi/delete/10.5072/test9999datatest\"+ACCESS,\n",
    "    verify = False\n",
    ")\n",
    "del_all.content"
   ]
  },
  {
   "cell_type": "code",
   "execution_count": 346,
   "metadata": {},
   "outputs": [
    {
     "data": {
      "text/plain": [
       "b'{\"cache\": {\"metadata\": null, \"message\": \"Removed from cache\"}, \"api\": {\"status_code\": 404, \"message\": \"DOI doesn\\'t exist\"}}'"
      ]
     },
     "execution_count": 346,
     "metadata": {},
     "output_type": "execute_result"
    }
   ],
   "source": [
    "del_all.content"
   ]
  },
  {
   "cell_type": "code",
   "execution_count": 70,
   "metadata": {},
   "outputs": [],
   "source": [
    "location = "
   ]
  },
  {
   "cell_type": "code",
   "execution_count": 71,
   "metadata": {},
   "outputs": [],
   "source": [
    "import re"
   ]
  },
  {
   "cell_type": "code",
   "execution_count": 75,
   "metadata": {},
   "outputs": [],
   "source": [
    "pattern = '/(\\w*.\\w*)$'\n",
    "\n",
    "prog = re.compile(pattern)"
   ]
  },
  {
   "cell_type": "code",
   "execution_count": 76,
   "metadata": {},
   "outputs": [],
   "source": [
    " prog.match(location)"
   ]
  },
  {
   "cell_type": "code",
   "execution_count": 77,
   "metadata": {},
   "outputs": [],
   "source": [
    "pattern = \n",
    "string = location\n",
    "result = "
   ]
  },
  {
   "cell_type": "code",
   "execution_count": 84,
   "metadata": {},
   "outputs": [
    {
     "data": {
      "text/plain": [
       "'file.txt'"
      ]
     },
     "execution_count": 84,
     "metadata": {},
     "output_type": "execute_result"
    }
   ],
   "source": [
    "re.findall(r'/(\\w*.\\w*)$', 's3://bucket/file.txt')[0]"
   ]
  },
  {
   "cell_type": "code",
   "execution_count": null,
   "metadata": {},
   "outputs": [],
   "source": []
  }
 ],
 "metadata": {
  "kernelspec": {
   "display_name": "Python 3",
   "language": "python",
   "name": "python3"
  },
  "language_info": {
   "codemirror_mode": {
    "name": "ipython",
    "version": 3
   },
   "file_extension": ".py",
   "mimetype": "text/x-python",
   "name": "python",
   "nbconvert_exporter": "python",
   "pygments_lexer": "ipython3",
   "version": "3.6.4"
  }
 },
 "nbformat": 4,
 "nbformat_minor": 2
}
