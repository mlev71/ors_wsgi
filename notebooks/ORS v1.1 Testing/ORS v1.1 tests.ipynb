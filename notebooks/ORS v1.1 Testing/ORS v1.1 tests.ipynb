{
 "cells": [
  {
   "cell_type": "code",
   "execution_count": 23,
   "metadata": {},
   "outputs": [],
   "source": [
    "import requests\n",
    "import json\n",
    "from time import sleep"
   ]
  },
  {
   "cell_type": "code",
   "execution_count": 12,
   "metadata": {},
   "outputs": [],
   "source": [
    "# quiet warnings for local testing\n",
    "from requests.packages.urllib3.exceptions import InsecureRequestWarning\n",
    "requests.packages.urllib3.disable_warnings(InsecureRequestWarning)"
   ]
  },
  {
   "cell_type": "markdown",
   "metadata": {},
   "source": [
    "## Get Access Token from Visiting Site\n",
    "\n",
    "#### TODO add POST /token path to return a valid access token \n",
    "    based on email and username  "
   ]
  },
  {
   "cell_type": "code",
   "execution_count": 13,
   "metadata": {},
   "outputs": [],
   "source": [
    "ACCESS_TOKEN =\"AglelDrxP41EozEGrxQzOn35vVk1mDgQKjzQ8Jp948mKBayaD6u8Cm4glPwyNvwDbrE760ekpQ61gvIJ7bpDNiy0bdtea23HJy8l\"\n",
    "AC = \"?access_token=\" + ACCESS_TOKEN\n",
    "REFRESH_TOKEN = \"Ag8bzYrgxJQ4YllpD7E4a3D9jngw9jYg8elkovjN0MKeoyEz0dUaU76nGbv4kl0Yw38nOBoXz5m52z2EDK2DnM1aYV0ok\"\n",
    "RE = \"?refresh_token=\" + REFRESH_TOKEN"
   ]
  },
  {
   "cell_type": "code",
   "execution_count": 14,
   "metadata": {},
   "outputs": [],
   "source": [
    "ACCESS = AC"
   ]
  },
  {
   "cell_type": "code",
   "execution_count": 15,
   "metadata": {},
   "outputs": [],
   "source": [
    "# example options, set custom landing page, delete in 6 minutes\n",
    "options = {\n",
    "        \"_target\": 'http://example.com',\n",
    "        \"_status\": 'reserved',\n",
    "        \"ttl\": '360'\n",
    "    } "
   ]
  },
  {
   "cell_type": "markdown",
   "metadata": {},
   "source": [
    "## ARK test\n",
    "\n",
    "Landing Page https://localhost:8080/ark/landing/ark:/99999/fk4TestDepArk"
   ]
  },
  {
   "cell_type": "code",
   "execution_count": 22,
   "metadata": {},
   "outputs": [],
   "source": [
    "ark_dc = {\n",
    "        \"@context\": \"http://schema.org\",\n",
    "        \"@id\": \"ark:/99999/fk4TestDC\",\n",
    "        \"@type\": \"DataCatalog\",\n",
    "        \"identifier\": \"ark:/99999/fk4TestDC\",\n",
    "        \"url\": \"http://minid.bd2k.org/minid/landingpage/ark:/88120/r8059v\",\n",
    "        \"name\": \"minid: A BD2K Minimal Viable Identifier Pilot v0.1\",\n",
    "        \"author\": {\n",
    "            \"@id\": \"http://orcid.org/0000-0003-2129-5269\",\n",
    "            \"@type\": \"Person\",\n",
    "            \"name\": \"Ian Foster\"\n",
    "            },\n",
    "        \"datePublished\": \"2015-11-10T04:44:44.387671Z\"\n",
    "}"
   ]
  },
  {
   "cell_type": "code",
   "execution_count": 20,
   "metadata": {},
   "outputs": [],
   "source": [
    "ark_dataset = {\n",
    "\n",
    "    \"@context\": \"http://schema.org\",\n",
    "    \"@id\": \"ark:/99999/fk4TestDatasetArk\",\n",
    "    \"@type\": \"Dataset\",\n",
    "    \"includedInDataCatalog\": \"ark:/99999/fk4TestDC\",\n",
    "    \"identifier\": [\n",
    "           \"ark:/99999/fk4TestDC\",\n",
    "           {\n",
    "              \"@type\": \"PropertyValue\",\n",
    "              \"name\": \"sha-256\",\n",
    "              \"value\": \"cacc1abf711425d3c554277a5989df269cefaa906d27f1aaa72205d30224ed5f\"\n",
    "           },\n",
    "        ],\n",
    "    \n",
    "    \"url\": \"http://minid.bd2k.org/minid/landingpage/ark:/88120/r8059v\",\n",
    "    \"contentUrl\": [\"aws://all-hands-meeting/minid_v0.1_Nov_2015.pdf\"],\n",
    "    \"fileFormat\": 'pdf',\n",
    "    \"name\": \"minid dataset\",\n",
    "    \"version\": \"v1\",\n",
    "\n",
    "    \"author\": {\n",
    "        \"@id\": \"http://orcid.org/0000-0003-2129-5269\",\n",
    "        \"@type\": \"Person\",\n",
    "        \"name\": \"Max Levinson\"},\n",
    "  \n",
    "    \"datePublished\": \"2015-11-10T04:44:44.387671Z\"\n",
    "}\n",
    "\n",
    "ark_options = {\n",
    "    'metadata': ark_dataset,\n",
    "    'options': options\n",
    "}\n"
   ]
  },
  {
   "cell_type": "markdown",
   "metadata": {},
   "source": [
    "## Put Ark "
   ]
  },
  {
   "cell_type": "code",
   "execution_count": 32,
   "metadata": {},
   "outputs": [
    {
     "data": {
      "text/plain": [
       "'{\"api\": {\"status\": 400, \"messsage\": \"error: bad request - identifier already exists\"}}'"
      ]
     },
     "execution_count": 32,
     "metadata": {},
     "output_type": "execute_result"
    }
   ],
   "source": [
    "ark_dc_put = requests.put(\n",
    "    url = \"https://localhost/ark/put\"+ACCESS,\n",
    "    data = json.dumps(ark_dc),\n",
    "    verify = False\n",
    ")\n",
    "ark_dc_put.content.decode('utf-8')"
   ]
  },
  {
   "cell_type": "code",
   "execution_count": 33,
   "metadata": {},
   "outputs": [
    {
     "data": {
      "text/plain": [
       "'{\"api\": {\"status\": 400, \"messsage\": \"error: bad request - identifier already exists\"}}'"
      ]
     },
     "execution_count": 33,
     "metadata": {},
     "output_type": "execute_result"
    }
   ],
   "source": [
    "ark_dataset_put = requests.put(\n",
    "    url = \"https://localhost/ark/put\"+ACCESS,\n",
    "    data = json.dumps(ark_dataset),\n",
    "    verify = False\n",
    ")\n",
    "ark_dataset_put.content.decode('utf-8')"
   ]
  },
  {
   "cell_type": "markdown",
   "metadata": {},
   "source": [
    "Landing Pages\n",
    "\n",
    "https://localhost/ark/landing/ark:/99999/fk4TestDC\n",
    "\n",
    "https://localhost/ark/landing/ark:/99999/fk4TestDatasetArk\n"
   ]
  },
  {
   "cell_type": "markdown",
   "metadata": {},
   "source": [
    "## Put with Options"
   ]
  },
  {
   "cell_type": "code",
   "execution_count": 666,
   "metadata": {},
   "outputs": [
    {
     "data": {
      "text/plain": [
       "b'{\"api\": {\"status\": 201, \"messsage\": \"success: ark:/99999/fk4TestDepArk\"}, \"cache\": {\"created\": {\"name\": \"minid: A BD2K Minimal Viable Identifier Pilot v0.1\", \"guid\": \"ark:/99999/fk4TestDepArk\", \"dateCreated\": \"2015-11-10T04:44:44.387671Z\", \"type\": \"Dataset\", \"author\": \"Ian Foster\", \"url\": \"http://minid.bd2k.org/minid/landingpage/ark:/88120/r8059v\"}}}'"
      ]
     },
     "execution_count": 666,
     "metadata": {},
     "output_type": "execute_result"
    }
   ],
   "source": [
    "local_ark = requests.put(\n",
    "    url = \"https://localhost/ark/put\"+ACCESS,\n",
    "    data = json.dumps(ark_options),\n",
    "    verify = False\n",
    ")\n",
    "json.loads(local_ark.content.decode('utf-8'))"
   ]
  },
  {
   "cell_type": "code",
   "execution_count": 515,
   "metadata": {},
   "outputs": [
    {
     "data": {
      "text/plain": [
       "{'@context': 'http://schema.org',\n",
       " '@id': 'ark:/99999/fk4TestDepArk',\n",
       " '@type': 'CreativeWork',\n",
       " 'author': {'id': 'http://orcid.org/0000-0003-2129-5269',\n",
       "  'name': 'Ian Foster',\n",
       "  'type': 'Person'},\n",
       " 'contentUrl': {'aws': 'http://bd2k.ini.usc.edu/assets/all-hands-meeting/minid_v0.1_Nov_2015.pdf'},\n",
       " 'dateCreated': '2015-11-10T04:44:44.387671Z',\n",
       " 'identifier': ['ark:/88120/r8059v',\n",
       "  {'name': 'sha-256',\n",
       "   'type': 'PropertyValue',\n",
       "   'value': 'cacc1abf711425d3c554277a5989df269cefaa906d27f1aaa72205d30224ed5f'}],\n",
       " 'includedInDataCatalog': 'ark:/99999/fk4RatDC',\n",
       " 'name': 'minid: A BD2K Minimal Viable Identifier Pilot v0.1',\n",
       " 'success': 'ark:/99999/fk4TestDepArk',\n",
       " 'url': 'http://minid.bd2k.org/minid/landingpage/ark:/88120/r8059v'}"
      ]
     },
     "execution_count": 515,
     "metadata": {},
     "output_type": "execute_result"
    }
   ],
   "source": [
    "# get from api\n",
    "api_response = requests.get(\n",
    "    url = \"https://localhost/ark/get/ark:/99999/fk4TestDepArk\"+ACCESS,\n",
    "    verify = False\n",
    ")\n",
    "json.loads(api_response.content)"
   ]
  },
  {
   "cell_type": "code",
   "execution_count": 59,
   "metadata": {},
   "outputs": [
    {
     "data": {
      "text/plain": [
       "b'<!DOCTYPE HTML PUBLIC \"-//W3C//DTD HTML 3.2 Final//EN\">\\n<title>500 Internal Server Error</title>\\n<h1>Internal Server Error</h1>\\n<p>The server encountered an internal error and was unable to complete your request.  Either the server is overloaded or there is an error in the application.</p>\\n'"
      ]
     },
     "execution_count": 59,
     "metadata": {},
     "output_type": "execute_result"
    }
   ],
   "source": [
    "# import from ezid to neo4j\n",
    "cache_import = requests.get(\n",
    "    url = \"https://localhost/ark/import/ark:/99999/fk4TestDepArk\"+ACCESS,\n",
    "    verify = False\n",
    ")\n",
    "cache_import.content"
   ]
  },
  {
   "cell_type": "markdown",
   "metadata": {},
   "source": [
    "ERROR when self.data.get('identifier') is none"
   ]
  },
  {
   "cell_type": "code",
   "execution_count": 28,
   "metadata": {},
   "outputs": [
    {
     "data": {
      "text/plain": [
       "b'{\"api\": {\"status_code\": 200, \"message\": \"success: ark:/99999/fk4TestDatasetArk\"}}'"
      ]
     },
     "execution_count": 28,
     "metadata": {},
     "output_type": "execute_result"
    }
   ],
   "source": [
    "# delete from all\n",
    "ark_delete = requests.delete(\n",
    "    url = \"https://localhost/ark/delete/ark:/99999/fk4TestDatasetArk\"+ACCESS,\n",
    "    verify = False\n",
    ")\n",
    "ark_delete.content"
   ]
  },
  {
   "cell_type": "code",
   "execution_count": 29,
   "metadata": {},
   "outputs": [
    {
     "data": {
      "text/plain": [
       "b'{\"api\": {\"status_code\": 200, \"message\": \"success: ark:/99999/fk4TestDC\"}}'"
      ]
     },
     "execution_count": 29,
     "metadata": {},
     "output_type": "execute_result"
    }
   ],
   "source": [
    "# delete from all\n",
    "ark_dc_delete = requests.delete(\n",
    "    url = \"https://localhost/ark/delete/ark:/99999/fk4TestDC\"+ACCESS,\n",
    "    verify = False\n",
    ")\n",
    "ark_dc_delete.content"
   ]
  },
  {
   "cell_type": "markdown",
   "metadata": {},
   "source": [
    "## DOI Test"
   ]
  },
  {
   "cell_type": "code",
   "execution_count": 565,
   "metadata": {},
   "outputs": [],
   "source": [
    "doi_dc = {\n",
    "    \"@context\": \"http://schema.org\",\n",
    "    \"@type\": \"DataCatalog\",\n",
    "    \"@id\": \"10.5072/test9999ADifferentName\",\n",
    "    \"identifier\": \"10.5072/test9999ADifferentName\",\n",
    "    \"additionalType\": \"Data dictionary\",\n",
    "    \"name\": \"GTEx Public Files\",\n",
    "    \"description\": \"A data dictionary that describes each variable in the GTEx_v7_Annotations_SubjectPhenotypesDS.txt\",\n",
    "   \"author\": {\n",
    "        \"@type\": \"Organization\",\n",
    "        \"name\": \"The GTEx Consortium\"\n",
    "    },\n",
    "   \n",
    "  \"keywords\": \"gtex, annotation, phenotype, gene regulation, transcriptomics\",\n",
    "  \"datePublished\": \"2017\",\n",
    "  \"version\": \"v7\",\n",
    "  \"url\": \"https://www.gtexportal.org/home/datasets\",\n",
    "  \"contentSize\": \"5.4 Mb\",\n",
    "  \"funder\": {\n",
    "   \"@type\": \"Organization\",\n",
    "   \"@id\": \"doi:/10.13039/100000050\",\n",
    "   \"name\": \"National Heart, Lung, and Blood Institute\"\n",
    "  }\n",
    "}"
   ]
  },
  {
   "cell_type": "code",
   "execution_count": 566,
   "metadata": {},
   "outputs": [],
   "source": [
    "doi_dataset = {\n",
    "    \"@context\": \"http://schema.org\",\n",
    "    \"@type\": \"Dataset\",\n",
    "    \"@id\": \"10.5072/test9999datatest\",\n",
    "    \"identifier\": [\n",
    "        \"10.5072/test9999datatest\",\n",
    "        {\n",
    "          \"@type\": \"PropertyValue\",\n",
    "          \"name\": \"sha-256\",\n",
    "          \"value\": \"cacc1abf711425d3c554277a5989df269cefaa906d27f1aaa72205d30224ed5f\"\n",
    "        }\n",
    "                  ],\n",
    "     \"author\": {\n",
    "        \"@type\": \"Organization\",\n",
    "        \"name\": \"The GTEx Consortium\"\n",
    "    },\n",
    "    \"includedInDataCatalog\": \"10.5072/test9999schemaorgtest\",\n",
    "    \"name\": \"Download File 1\",\n",
    "    \"description\": \"example download file\",\n",
    "    \"keywords\": \"gtex, annotation, phenotype, gene regulation, transcriptomics\",\n",
    "    \"datePublished\": \"2017\",\n",
    "    \"version\": \"v7\",\n",
    "    \"url\": \"https://www.gtexportal.org/home/datasets\",\n",
    "    \"contentSize\": \"5.4 Mb\",\n",
    "    \"fileFormat\": \"application/vnd.openxmlformats-officedocument.spreadsheetml.sheet\",\n",
    "    \"contentUrl\": [\"aws://examplebucket\", \"gpc://examplebucket\"]\n",
    "}"
   ]
  },
  {
   "cell_type": "code",
   "execution_count": 532,
   "metadata": {},
   "outputs": [],
   "source": [
    "payload = {\n",
    "    \n",
    "    '_profile': 'schema_org',\n",
    "    '_status': '_reserved',\n",
    "    '_target': 'https://example.org/',\n",
    "    'schema_org':  doi\n",
    "}"
   ]
  },
  {
   "cell_type": "code",
   "execution_count": 573,
   "metadata": {},
   "outputs": [
    {
     "data": {
      "text/plain": [
       "b'{\"api\": {\"status\": null, \"messsage\": null}}'"
      ]
     },
     "execution_count": 573,
     "metadata": {},
     "output_type": "execute_result"
    }
   ],
   "source": [
    "put_dc = requests.put(\n",
    "    url = \"https://localhost/doi/put\"+ ACCESS,\n",
    "    data = json.dumps(doi_dc),\n",
    "    verify = False\n",
    ") \n",
    "put_dc.content"
   ]
  },
  {
   "cell_type": "code",
   "execution_count": 574,
   "metadata": {},
   "outputs": [
    {
     "data": {
      "text/plain": [
       "b'{\"api\": {\"status\": null, \"messsage\": null}}'"
      ]
     },
     "execution_count": 574,
     "metadata": {},
     "output_type": "execute_result"
    }
   ],
   "source": [
    "put_dataset = requests.put(\n",
    "    url = \"https://localhost/doi/put\"+ ACCESS,\n",
    "    data = json.dumps(doi_dataset),\n",
    "    verify = False\n",
    ") \n",
    "put_dataset.content"
   ]
  },
  {
   "cell_type": "code",
   "execution_count": null,
   "metadata": {},
   "outputs": [],
   "source": []
  },
  {
   "cell_type": "code",
   "execution_count": null,
   "metadata": {},
   "outputs": [],
   "source": []
  },
  {
   "cell_type": "code",
   "execution_count": 575,
   "metadata": {},
   "outputs": [
    {
     "data": {
      "text/plain": [
       "b'{\"@context\": \"https://schema.org\", \"keywords\": \"gtex, annotation, phenotype, gene regulation, transcriptomics\", \"author\": {\"name\": \"The GTEx Consortium\"}, \"description\": \"A data dictionary that describes each variable in the GTEx_v7_Annotations_SubjectPhenotypesDS.txt\", \"funder\": {\"name\": \"National Heart, Lung, and Blood Institute\", \"@type\": \"Organization\", \"@id\": \"doi:/10.13039/100000050\"}, \"@type\": \"DataCatalog\", \"url\": \"https://www.gtexportal.org/home/datasets\", \"includedInDataCatalog\": \"ark:/99999/fk4RatDC\", \"name\": \"GTEx Public Files\", \"version\": \"v7\", \"datePublished\": \"v7\"}'"
      ]
     },
     "execution_count": 575,
     "metadata": {},
     "output_type": "execute_result"
    }
   ],
   "source": [
    "# retrieve from api\n",
    "get_dc = requests.get(\n",
    "    url = \"https://localhost/doi/get/10.5072/test9999schemaorgtest\"+ACCESS,\n",
    "    verify = False\n",
    ")\n",
    "\n",
    "get_dc.content"
   ]
  },
  {
   "cell_type": "code",
   "execution_count": 576,
   "metadata": {},
   "outputs": [
    {
     "data": {
      "text/plain": [
       "b'{\"@context\": \"https://schema.org\", \"keywords\": \"gtex, annotation, phenotype, gene regulation, transcriptomics\", \"author\": {\"name\": \"The GTEx Consortium\"}, \"description\": \"example download file\", \"@type\": \"Dataset\", \"url\": \"https://www.gtexportal.org/home/datasets\", \"includedInDataCatalog\": \"10.5072/test9999schemaorgtest\", \"name\": \"Download File 1\", \"version\": \"v7\", \"datePublished\": \"v7\"}'"
      ]
     },
     "execution_count": 576,
     "metadata": {},
     "output_type": "execute_result"
    }
   ],
   "source": [
    "get_dataset = requests.get(\n",
    "    url = \"https://localhost/doi/get/10.5072/test9999datatest\"+ACCESS,\n",
    "    verify = False\n",
    ")\n",
    "get_dataset.content"
   ]
  },
  {
   "cell_type": "code",
   "execution_count": 279,
   "metadata": {},
   "outputs": [
    {
     "data": {
      "text/plain": [
       "'https://localhost/doi/get/10.5072/test9999schemaorgtest?token=Ag8bzYrgxJQ4YllpD7E4a3D9jngw9jYg8elkovjN0MKeoyEz0dUaU76nGbv4kl0Yw38nOBoXz5m52z2EDK2DnM1aYV0ok'"
      ]
     },
     "execution_count": 279,
     "metadata": {},
     "output_type": "execute_result"
    }
   ],
   "source": [
    "\"https://localhost/doi/get/10.5072/test9999schemaorgtest\"+ACCESS"
   ]
  },
  {
   "cell_type": "markdown",
   "metadata": {},
   "source": [
    "Landing Page\n",
    "https://localhost/doi/landing/10.5072/test9999schemaorgtest\n"
   ]
  },
  {
   "cell_type": "code",
   "execution_count": null,
   "metadata": {},
   "outputs": [],
   "source": []
  },
  {
   "cell_type": "code",
   "execution_count": 571,
   "metadata": {},
   "outputs": [
    {
     "data": {
      "text/plain": [
       "b'{\"api\": {\"status_code\": 200, \"message\": \"OK\"}}'"
      ]
     },
     "execution_count": 571,
     "metadata": {},
     "output_type": "execute_result"
    }
   ],
   "source": [
    "# delete from all\n",
    "del_all = requests.delete(\n",
    "    url = \"https://localhost/doi/delete/10.5072/test9999ADifferentName\"+ACCESS,\n",
    "    verify = False\n",
    ")\n",
    "del_all.content"
   ]
  },
  {
   "cell_type": "code",
   "execution_count": 572,
   "metadata": {},
   "outputs": [
    {
     "data": {
      "text/plain": [
       "b'{\"api\": {\"status_code\": 200, \"message\": \"OK\"}}'"
      ]
     },
     "execution_count": 572,
     "metadata": {},
     "output_type": "execute_result"
    }
   ],
   "source": [
    "# delete from all\n",
    "del_all = requests.delete(\n",
    "    url = \"https://localhost/doi/delete/10.5072/test9999datatest\"+ACCESS,\n",
    "    verify = False\n",
    ")\n",
    "del_all.content"
   ]
  },
  {
   "cell_type": "code",
   "execution_count": 346,
   "metadata": {},
   "outputs": [
    {
     "data": {
      "text/plain": [
       "b'{\"cache\": {\"metadata\": null, \"message\": \"Removed from cache\"}, \"api\": {\"status_code\": 404, \"message\": \"DOI doesn\\'t exist\"}}'"
      ]
     },
     "execution_count": 346,
     "metadata": {},
     "output_type": "execute_result"
    }
   ],
   "source": [
    "del_all.content"
   ]
  }
 ],
 "metadata": {
  "kernelspec": {
   "display_name": "Python 3",
   "language": "python",
   "name": "python3"
  },
  "language_info": {
   "codemirror_mode": {
    "name": "ipython",
    "version": 3
   },
   "file_extension": ".py",
   "mimetype": "text/x-python",
   "name": "python",
   "nbconvert_exporter": "python",
   "pygments_lexer": "ipython3",
   "version": "3.6.4"
  }
 },
 "nbformat": 4,
 "nbformat_minor": 2
}
