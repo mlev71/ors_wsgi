{
 "cells": [
  {
   "cell_type": "code",
   "execution_count": 1,
   "metadata": {},
   "outputs": [],
   "source": [
    "import globus_sdk"
   ]
  },
  {
   "cell_type": "code",
   "execution_count": 4,
   "metadata": {},
   "outputs": [],
   "source": [
    "# how to get emails from access token\n",
    "token = \"AgybMOJrk8Npl6wB1DWnKaOEWWlj1Yzn56jP910njkE1oyjky9FVCPXMq38x3jYa0k3BmaEeBXb8d8TOQ732YsB1rNiEw3bHK2VQ\""
   ]
  },
  {
   "cell_type": "code",
   "execution_count": 5,
   "metadata": {},
   "outputs": [],
   "source": [
    "ac = globus_sdk.AuthClient(\n",
    "    authorizer= globus_sdk.AccessTokenAuthorizer(token)\n",
    ")"
   ]
  },
  {
   "cell_type": "code",
   "execution_count": 9,
   "metadata": {},
   "outputs": [],
   "source": [
    "response = ac.get_identities(usernames='auth@globus.org')"
   ]
  },
  {
   "cell_type": "code",
   "execution_count": 53,
   "metadata": {},
   "outputs": [],
   "source": [
    "emails = [ident.get('email') for ident in response.data.get('identities')]"
   ]
  },
  {
   "cell_type": "code",
   "execution_count": 57,
   "metadata": {},
   "outputs": [
    {
     "data": {
      "text/plain": [
       "'max.adam.levinson@gmail.com'"
      ]
     },
     "execution_count": 57,
     "metadata": {},
     "output_type": "execute_result"
    }
   ],
   "source": [
    "ac.oauth2_userinfo().data.get('email')"
   ]
  },
  {
   "cell_type": "code",
   "execution_count": 2,
   "metadata": {},
   "outputs": [],
   "source": [
    "# how do i want to store users \n",
    "user_emails = ['max.adam.levinson@gmail.com']"
   ]
  },
  {
   "cell_type": "code",
   "execution_count": 12,
   "metadata": {},
   "outputs": [],
   "source": [
    "import hashlib\n",
    "import random\n",
    "import string"
   ]
  },
  {
   "cell_type": "code",
   "execution_count": 27,
   "metadata": {},
   "outputs": [],
   "source": [
    "def hash_email(email, salt, iterations=1000):        \n",
    "    \n",
    "    encoded_password = bytes(email, encoding='utf-8')\n",
    "    encoded_salt = bytes(salt, encoding='utf-8')\n",
    "    \n",
    "    pass_hash = hashlib.sha3_512(encoded_password+encoded_salt).hexdigest()\n",
    "    \n",
    "    for _ in range(iterations):\n",
    "        pass_hash = hashlib.sha3_512(\n",
    "            bytes(pass_hash, encoding=\"utf-8\")+encoded_password\n",
    "        ).hexdigest()\n",
    "    \n",
    "    return pass_hash"
   ]
  },
  {
   "cell_type": "code",
   "execution_count": 28,
   "metadata": {},
   "outputs": [],
   "source": [
    "# generate a global salt\n",
    "global_salt = \"\".join(random.SystemRandom().choice(\n",
    "    string.ascii_uppercase + string.digits) for _ in range(16) \n",
    "                     )"
   ]
  },
  {
   "cell_type": "code",
   "execution_count": 30,
   "metadata": {},
   "outputs": [],
   "source": [
    "test_tuple = hash_email(user_emails[0], global_salt)"
   ]
  },
  {
   "cell_type": "code",
   "execution_count": 35,
   "metadata": {},
   "outputs": [],
   "source": [
    "def validate_email(email, stored_email, stored_salt):\n",
    "    \n",
    "    input_hash = hash_email(email, salt=stored_salt)\n",
    "    \n",
    "    if input_hash == stored_email:\n",
    "        return True\n",
    "    else:\n",
    "        return False"
   ]
  },
  {
   "cell_type": "code",
   "execution_count": 36,
   "metadata": {},
   "outputs": [
    {
     "data": {
      "text/plain": [
       "True"
      ]
     },
     "execution_count": 36,
     "metadata": {},
     "output_type": "execute_result"
    }
   ],
   "source": [
    "validate_email(user_emails[0], test_tuple, global_salt)"
   ]
  },
  {
   "cell_type": "code",
   "execution_count": 37,
   "metadata": {},
   "outputs": [],
   "source": [
    "import pickle"
   ]
  },
  {
   "cell_type": "code",
   "execution_count": 39,
   "metadata": {},
   "outputs": [],
   "source": [
    "# function to \n",
    "global_salt = \"\".join(random.SystemRandom().choice(\n",
    "    string.ascii_uppercase + string.digits) for _ in range(16) \n",
    "                     )\n",
    "\n",
    "email_list = ['max.adam.levinson@gmail.com']\n",
    "\n",
    "hashed_email_list = [hash_email(email, global_salt) for email in email_list]\n"
   ]
  },
  {
   "cell_type": "code",
   "execution_count": 41,
   "metadata": {},
   "outputs": [
    {
     "data": {
      "text/plain": [
       "['52e7cccec11293e4e3c0137db84987fba4095914fb1e74ffb84aa67ae8282acf9d64581330d1c3b146afc60f32bac5fba8f1e84a7935d56825b302909124c569']"
      ]
     },
     "execution_count": 41,
     "metadata": {},
     "output_type": "execute_result"
    }
   ],
   "source": [
    "hashed_email_list"
   ]
  },
  {
   "cell_type": "code",
   "execution_count": 44,
   "metadata": {},
   "outputs": [],
   "source": [
    "with open('hashed_emails.p', 'wb') as pickle_file:\n",
    "    pickle.dump(hashed_email_list, pickle_file)"
   ]
  },
  {
   "cell_type": "code",
   "execution_count": 45,
   "metadata": {},
   "outputs": [],
   "source": [
    "with open('hashed_emails.p', 'rb') as pickle_file:\n",
    "    unpickled = pickle.load(pickle_file)"
   ]
  },
  {
   "cell_type": "code",
   "execution_count": 46,
   "metadata": {},
   "outputs": [
    {
     "data": {
      "text/plain": [
       "True"
      ]
     },
     "execution_count": 46,
     "metadata": {},
     "output_type": "execute_result"
    }
   ],
   "source": [
    "unpickled == hashed_email_list"
   ]
  },
  {
   "cell_type": "code",
   "execution_count": 48,
   "metadata": {},
   "outputs": [],
   "source": [
    "mytup = (1,2)"
   ]
  },
  {
   "cell_type": "code",
   "execution_count": 49,
   "metadata": {},
   "outputs": [],
   "source": [
    "var1,var2 = mytup"
   ]
  },
  {
   "cell_type": "code",
   "execution_count": 59,
   "metadata": {},
   "outputs": [],
   "source": [
    "from celery import Celery"
   ]
  },
  {
   "cell_type": "code",
   "execution_count": 60,
   "metadata": {},
   "outputs": [],
   "source": [
    "app = Celery('tasks', broker= 'redis://localhost:6379//')"
   ]
  },
  {
   "cell_type": "code",
   "execution_count": 61,
   "metadata": {},
   "outputs": [],
   "source": [
    "@app.task\n",
    "def add(x,y):\n",
    "    return x+y"
   ]
  },
  {
   "cell_type": "code",
   "execution_count": null,
   "metadata": {},
   "outputs": [],
   "source": []
  }
 ],
 "metadata": {
  "kernelspec": {
   "display_name": "Python 3",
   "language": "python",
   "name": "python3"
  },
  "language_info": {
   "codemirror_mode": {
    "name": "ipython",
    "version": 3
   },
   "file_extension": ".py",
   "mimetype": "text/x-python",
   "name": "python",
   "nbconvert_exporter": "python",
   "pygments_lexer": "ipython3",
   "version": "3.6.4"
  }
 },
 "nbformat": 4,
 "nbformat_minor": 2
}
