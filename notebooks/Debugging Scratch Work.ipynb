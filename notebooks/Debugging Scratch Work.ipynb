{
 "cells": [
  {
   "cell_type": "code",
   "execution_count": 16,
   "metadata": {},
   "outputs": [],
   "source": [
    "from flask import Response"
   ]
  },
  {
   "cell_type": "code",
   "execution_count": null,
   "metadata": {},
   "outputs": [],
   "source": []
  },
  {
   "cell_type": "code",
   "execution_count": null,
   "metadata": {},
   "outputs": [],
   "source": [
    "class myException(Ex)"
   ]
  },
  {
   "cell_type": "code",
   "execution_count": null,
   "metadata": {},
   "outputs": [],
   "source": []
  },
  {
   "cell_type": "markdown",
   "metadata": {},
   "source": [
    "Custom Exception Defintions\n",
    "- NotCoreObject √\n",
    "- UnsupportedGuid √\n",
    "- InvalidParent\n",
    "- EmptyAuth\n",
    "- NoId\n"
   ]
  },
  {
   "cell_type": "code",
   "execution_count": null,
   "metadata": {},
   "outputs": [],
   "source": []
  },
  {
   "cell_type": "code",
   "execution_count": 33,
   "metadata": {},
   "outputs": [],
   "source": [
    "class NotCoreObject(Exception):\n",
    "    \"\"\"Error: Object isn't a core object\n",
    "    \n",
    "    \"\"\"\n",
    "    def __init__(self, payload):\n",
    "        self.message = {\"obj\": payload,\"message\": \"Object keys don't match any core metadata object\"} \n",
    "        \n",
    "    def output(self):\n",
    "        return Response(\n",
    "            status = 400,\n",
    "            response = json.dumps(self.message),\n",
    "                        mimetype = 'application/json')\n",
    "    \n",
    "    "
   ]
  },
  {
   "cell_type": "code",
   "execution_count": 30,
   "metadata": {},
   "outputs": [],
   "source": [
    "class UnsupportedGuid(Exception):\n",
    "    \"\"\" Error: Id isn't an ARK or DOI\n",
    "    \n",
    "    \"\"\"\n",
    "    def __init__(self, Guid):\n",
    "        self.message = {\"Guid\": Guid, \"message\": \"Guid is neither an Ark nor a DOI\"}\n",
    "    \n",
    "    def output(self):\n",
    "        return Response(\n",
    "            status = 404,\n",
    "            response = json.dumps(self.message),\n",
    "            mimetype = 'application/json'\n",
    "        )"
   ]
  },
  {
   "cell_type": "code",
   "execution_count": 34,
   "metadata": {},
   "outputs": [],
   "source": [
    "class InvalidParent(Exception):\n",
    "    \"\"\" Error: Object has no parent object in the neo cache\n",
    "    \"\"\"\n",
    "    def __init__(self, Parent):\n",
    "        self.message = {\"Parent\": Parent, \"message\": \"No record of parent in the cache\"}\n",
    "        \n",
    "    def output(self):\n",
    "        return Response(\n",
    "            status = 404,\n",
    "            response = json.dumps(self.message),\n",
    "            mimetype = 'application/json'\n",
    "        )"
   ]
  },
  {
   "cell_type": "code",
   "execution_count": null,
   "metadata": {},
   "outputs": [],
   "source": []
  },
  {
   "cell_type": "code",
   "execution_count": 32,
   "metadata": {},
   "outputs": [
    {
     "name": "stdout",
     "output_type": "stream",
     "text": [
      "<Response likely-streamed [400 BAD REQUEST]>\n"
     ]
    }
   ],
   "source": [
    "example_string = \"hi hi\"\n",
    "try:\n",
    "    raise NotCoreObject(obj= example_string)\n",
    "except NotCoreObject as err:\n",
    "    print(err.output())"
   ]
  },
  {
   "cell_type": "code",
   "execution_count": 26,
   "metadata": {},
   "outputs": [],
   "source": [
    "request = {}"
   ]
  },
  {
   "cell_type": "code",
   "execution_count": 27,
   "metadata": {},
   "outputs": [],
   "source": [
    "import requests"
   ]
  },
  {
   "cell_type": "code",
   "execution_count": 29,
   "metadata": {},
   "outputs": [],
   "source": [
    "basic_auth = requests.auth.HTTPBasicAuth(None, None)"
   ]
  },
  {
   "cell_type": "code",
   "execution_count": 35,
   "metadata": {},
   "outputs": [],
   "source": [
    "from neo4j.v1 import GraphDatabase"
   ]
  },
  {
   "cell_type": "code",
   "execution_count": 36,
   "metadata": {},
   "outputs": [
    {
     "ename": "ServiceUnavailable",
     "evalue": "Cannot acquire connection to Address(host='localhost', port=9090)",
     "output_type": "error",
     "traceback": [
      "\u001b[0;31m---------------------------------------------------------------------------\u001b[0m",
      "\u001b[0;31mServiceUnavailable\u001b[0m                        Traceback (most recent call last)",
      "\u001b[0;32m<ipython-input-36-e1929a8a6ad1>\u001b[0m in \u001b[0;36m<module>\u001b[0;34m()\u001b[0m\n\u001b[0;32m----> 1\u001b[0;31m \u001b[0mneo_driver_fail\u001b[0m \u001b[0;34m=\u001b[0m \u001b[0mGraphDatabase\u001b[0m\u001b[0;34m.\u001b[0m\u001b[0mdriver\u001b[0m\u001b[0;34m(\u001b[0m\u001b[0;34m\"bolt://localhost:9090\"\u001b[0m\u001b[0;34m)\u001b[0m\u001b[0;34m\u001b[0m\u001b[0m\n\u001b[0m",
      "\u001b[0;32m/anaconda3/lib/python3.6/site-packages/neo4j/v1/api.py\u001b[0m in \u001b[0;36mdriver\u001b[0;34m(cls, uri, **config)\u001b[0m\n\u001b[1;32m    126\u001b[0m             \u001b[0;32mraise\u001b[0m \u001b[0mProtocolError\u001b[0m\u001b[0;34m(\u001b[0m\u001b[0;34m\"URI scheme %r not supported\"\u001b[0m \u001b[0;34m%\u001b[0m \u001b[0mparsed\u001b[0m\u001b[0;34m.\u001b[0m\u001b[0mscheme\u001b[0m\u001b[0;34m)\u001b[0m\u001b[0;34m\u001b[0m\u001b[0m\n\u001b[1;32m    127\u001b[0m         \u001b[0;32melse\u001b[0m\u001b[0;34m:\u001b[0m\u001b[0;34m\u001b[0m\u001b[0m\n\u001b[0;32m--> 128\u001b[0;31m             \u001b[0;32mreturn\u001b[0m \u001b[0mdriver_class\u001b[0m\u001b[0;34m(\u001b[0m\u001b[0muri\u001b[0m\u001b[0;34m,\u001b[0m \u001b[0;34m**\u001b[0m\u001b[0mconfig\u001b[0m\u001b[0;34m)\u001b[0m\u001b[0;34m\u001b[0m\u001b[0m\n\u001b[0m\u001b[1;32m    129\u001b[0m \u001b[0;34m\u001b[0m\u001b[0m\n\u001b[1;32m    130\u001b[0m \u001b[0;34m\u001b[0m\u001b[0m\n",
      "\u001b[0;32m/anaconda3/lib/python3.6/site-packages/neo4j/v1/direct.py\u001b[0m in \u001b[0;36m__init__\u001b[0;34m(self, uri, **config)\u001b[0m\n\u001b[1;32m     75\u001b[0m \u001b[0;34m\u001b[0m\u001b[0m\n\u001b[1;32m     76\u001b[0m         \u001b[0mpool\u001b[0m \u001b[0;34m=\u001b[0m \u001b[0mDirectConnectionPool\u001b[0m\u001b[0;34m(\u001b[0m\u001b[0mconnector\u001b[0m\u001b[0;34m,\u001b[0m \u001b[0mself\u001b[0m\u001b[0;34m.\u001b[0m\u001b[0maddress\u001b[0m\u001b[0;34m,\u001b[0m \u001b[0;34m**\u001b[0m\u001b[0mconfig\u001b[0m\u001b[0;34m)\u001b[0m\u001b[0;34m\u001b[0m\u001b[0m\n\u001b[0;32m---> 77\u001b[0;31m         \u001b[0mpool\u001b[0m\u001b[0;34m.\u001b[0m\u001b[0mrelease\u001b[0m\u001b[0;34m(\u001b[0m\u001b[0mpool\u001b[0m\u001b[0;34m.\u001b[0m\u001b[0macquire\u001b[0m\u001b[0;34m(\u001b[0m\u001b[0;34m)\u001b[0m\u001b[0;34m)\u001b[0m\u001b[0;34m\u001b[0m\u001b[0m\n\u001b[0m\u001b[1;32m     78\u001b[0m         \u001b[0mDriver\u001b[0m\u001b[0;34m.\u001b[0m\u001b[0m__init__\u001b[0m\u001b[0;34m(\u001b[0m\u001b[0mself\u001b[0m\u001b[0;34m,\u001b[0m \u001b[0mpool\u001b[0m\u001b[0;34m,\u001b[0m \u001b[0;34m**\u001b[0m\u001b[0mconfig\u001b[0m\u001b[0;34m)\u001b[0m\u001b[0;34m\u001b[0m\u001b[0m\n\u001b[1;32m     79\u001b[0m \u001b[0;34m\u001b[0m\u001b[0m\n",
      "\u001b[0;32m/anaconda3/lib/python3.6/site-packages/neo4j/v1/direct.py\u001b[0m in \u001b[0;36macquire\u001b[0;34m(self, access_mode)\u001b[0m\n\u001b[1;32m     50\u001b[0m             \u001b[0;32melse\u001b[0m\u001b[0;34m:\u001b[0m\u001b[0;34m\u001b[0m\u001b[0m\n\u001b[1;32m     51\u001b[0m                 \u001b[0;32mreturn\u001b[0m \u001b[0mconnection\u001b[0m\u001b[0;34m\u001b[0m\u001b[0m\n\u001b[0;32m---> 52\u001b[0;31m         \u001b[0;32mraise\u001b[0m \u001b[0mServiceUnavailable\u001b[0m\u001b[0;34m(\u001b[0m\u001b[0;34m\"Cannot acquire connection to {!r}\"\u001b[0m\u001b[0;34m.\u001b[0m\u001b[0mformat\u001b[0m\u001b[0;34m(\u001b[0m\u001b[0mself\u001b[0m\u001b[0;34m.\u001b[0m\u001b[0maddress\u001b[0m\u001b[0;34m)\u001b[0m\u001b[0;34m)\u001b[0m\u001b[0;34m\u001b[0m\u001b[0m\n\u001b[0m\u001b[1;32m     53\u001b[0m \u001b[0;34m\u001b[0m\u001b[0m\n\u001b[1;32m     54\u001b[0m \u001b[0;34m\u001b[0m\u001b[0m\n",
      "\u001b[0;31mServiceUnavailable\u001b[0m: Cannot acquire connection to Address(host='localhost', port=9090)"
     ]
    }
   ],
   "source": [
    "neo_driver_fail = GraphDatabase.driver(\"bolt://localhost:9090\")"
   ]
  },
  {
   "cell_type": "code",
   "execution_count": null,
   "metadata": {},
   "outputs": [],
   "source": []
  },
  {
   "cell_type": "markdown",
   "metadata": {},
   "source": [
    "Using boto3 for testing\n",
    "    - grab the public ip's for the tests"
   ]
  },
  {
   "cell_type": "code",
   "execution_count": 1,
   "metadata": {},
   "outputs": [],
   "source": [
    "import boto3"
   ]
  },
  {
   "cell_type": "code",
   "execution_count": 2,
   "metadata": {},
   "outputs": [],
   "source": [
    "client = boto3.client('ecs')"
   ]
  },
  {
   "cell_type": "code",
   "execution_count": 4,
   "metadata": {},
   "outputs": [
    {
     "data": {
      "text/plain": [
       "{'ResponseMetadata': {'HTTPHeaders': {'connection': 'keep-alive',\n",
       "   'content-length': '126',\n",
       "   'content-type': 'application/x-amz-json-1.1',\n",
       "   'date': 'Tue, 05 Jun 2018 22:08:15 GMT',\n",
       "   'server': 'Server',\n",
       "   'x-amzn-requestid': 'f1b5619d-690c-11e8-9b0a-9df36ce44c46'},\n",
       "  'HTTPStatusCode': 200,\n",
       "  'RequestId': 'f1b5619d-690c-11e8-9b0a-9df36ce44c46',\n",
       "  'RetryAttempts': 0},\n",
       " 'clusterArns': ['arn:aws:ecs:us-east-1:280922329489:cluster/ORS_Test',\n",
       "  'arn:aws:ecs:us-east-1:280922329489:cluster/mycluster']}"
      ]
     },
     "execution_count": 4,
     "metadata": {},
     "output_type": "execute_result"
    }
   ],
   "source": [
    "client.list_clusters()"
   ]
  },
  {
   "cell_type": "code",
   "execution_count": 59,
   "metadata": {},
   "outputs": [],
   "source": [
    "CLUSTER = 'arn:aws:ecs:us-east-1:280922329489:cluster/ORS_Test'"
   ]
  },
  {
   "cell_type": "code",
   "execution_count": 81,
   "metadata": {},
   "outputs": [],
   "source": [
    "taskMetadata = client.list_tasks(\n",
    "    cluster = 'arn:aws:ecs:us-east-1:280922329489:cluster/ORS_Test',\n",
    "    serviceName = 'wsgi_service'\n",
    ")"
   ]
  },
  {
   "cell_type": "code",
   "execution_count": 82,
   "metadata": {},
   "outputs": [],
   "source": [
    "taskArn = taskMetadata['taskArns'][0]"
   ]
  },
  {
   "cell_type": "code",
   "execution_count": 83,
   "metadata": {},
   "outputs": [
    {
     "data": {
      "text/plain": [
       "'arn:aws:ecs:us-east-1:280922329489:task/35a0b838-afac-4f60-a9d9-8a5410c8548c'"
      ]
     },
     "execution_count": 83,
     "metadata": {},
     "output_type": "execute_result"
    }
   ],
   "source": [
    "taskArn"
   ]
  },
  {
   "cell_type": "code",
   "execution_count": 62,
   "metadata": {},
   "outputs": [],
   "source": [
    "tasks = client.describe_tasks(\n",
    "    cluster = CLUSTER,\n",
    "    tasks = [taskArn]\n",
    ")"
   ]
  },
  {
   "cell_type": "code",
   "execution_count": 63,
   "metadata": {},
   "outputs": [],
   "source": [
    " network_interface = [element['value'] for element in tasks['tasks'][0]['attachments'][0]['details'] if element['name'] == \"networkInterfaceId\"]"
   ]
  },
  {
   "cell_type": "code",
   "execution_count": 64,
   "metadata": {},
   "outputs": [],
   "source": [
    "#  aws ec2 describe-network-interfaces --network-interface-ids eni-xxxxxxxx\n",
    "ec2 = boto3.resource('ec2')\n",
    "network_interface = ec2.NetworkInterface(network_interface[0])"
   ]
  },
  {
   "cell_type": "code",
   "execution_count": 66,
   "metadata": {},
   "outputs": [],
   "source": [
    "#network_interface.describe_attribute('public_ip_address')\n",
    "network_interface.load()"
   ]
  },
  {
   "cell_type": "code",
   "execution_count": 77,
   "metadata": {},
   "outputs": [
    {
     "data": {
      "text/plain": [
       "'54.144.27.239'"
      ]
     },
     "execution_count": 77,
     "metadata": {},
     "output_type": "execute_result"
    }
   ],
   "source": [
    "network_interface.association_attribute['PublicIp']"
   ]
  },
  {
   "cell_type": "code",
   "execution_count": 16,
   "metadata": {},
   "outputs": [
    {
     "name": "stdout",
     "output_type": "stream",
     "text": [
      "[{'id': 'f57ca60e-000f-4fe1-89c3-7688dd654bff', 'type': 'ElasticNetworkInterface', 'status': 'ATTACHED', 'details': [{'name': 'subnetId', 'value': 'subnet-47d61d1b'}, {'name': 'networkInterfaceId', 'value': 'eni-e6cd3b7c'}, {'name': 'macAddress', 'value': '0e:62:a9:3f:98:70'}, {'name': 'privateIPv4Address', 'value': '10.0.1.246'}]}]\n"
     ]
    }
   ],
   "source": [
    "for element in tasks['tasks']['attachments']:\n",
    "    if element['name'] == ''"
   ]
  },
  {
   "cell_type": "code",
   "execution_count": 88,
   "metadata": {},
   "outputs": [],
   "source": [
    "# grab cloudwatch logs\n",
    "cloudwatch = boto3.client('logs')"
   ]
  },
  {
   "cell_type": "code",
   "execution_count": 89,
   "metadata": {},
   "outputs": [
    {
     "data": {
      "text/plain": [
       "{'DashboardEntries': [],\n",
       " 'ResponseMetadata': {'HTTPHeaders': {'content-length': '289',\n",
       "   'content-type': 'text/xml',\n",
       "   'date': 'Wed, 06 Jun 2018 22:48:52 GMT',\n",
       "   'x-amzn-requestid': 'c9078f02-69db-11e8-8879-e372925e7cec'},\n",
       "  'HTTPStatusCode': 200,\n",
       "  'RequestId': 'c9078f02-69db-11e8-8879-e372925e7cec',\n",
       "  'RetryAttempts': 0}}"
      ]
     },
     "execution_count": 89,
     "metadata": {},
     "output_type": "execute_result"
    }
   ],
   "source": [
    "# grab log groups\n",
    "cloudwatch.list_dashboards()"
   ]
  },
  {
   "cell_type": "code",
   "execution_count": 34,
   "metadata": {},
   "outputs": [],
   "source": [
    "import re"
   ]
  },
  {
   "cell_type": "code",
   "execution_count": 35,
   "metadata": {},
   "outputs": [],
   "source": [
    "identifier = \"ark:/99999/fk4r8776t\""
   ]
  },
  {
   "cell_type": "code",
   "execution_count": 37,
   "metadata": {},
   "outputs": [
    {
     "name": "stdout",
     "output_type": "stream",
     "text": [
      "hi\n"
     ]
    }
   ],
   "source": [
    "if re.match(\"ark:/\", identifier):\n",
    "    print(\"hi\")"
   ]
  },
  {
   "cell_type": "code",
   "execution_count": 38,
   "metadata": {},
   "outputs": [],
   "source": [
    "bytes_example = b'abcd'"
   ]
  },
  {
   "cell_type": "code",
   "execution_count": 39,
   "metadata": {},
   "outputs": [
    {
     "data": {
      "text/plain": [
       "'abcd'"
      ]
     },
     "execution_count": 39,
     "metadata": {},
     "output_type": "execute_result"
    }
   ],
   "source": [
    "bytes_example.decode('utf-8')"
   ]
  },
  {
   "cell_type": "code",
   "execution_count": 90,
   "metadata": {},
   "outputs": [],
   "source": [
    "test_response = b'success: ark:/99999/fk4r8776t\\nminid.checksumMethod: sha1\\n_profile: minid\\nminid.identifier: ark:/99999/fk4r8776t\\nminid.titles: minid: A BD2K Minimal Viable Identifier Pilot v0.1\\nminid.status: ACTIVE\\n_target: https://ezid.cdlib.org/id/ark:/99999/fk4r8776t\\n_ownergroup: apitest\\n_status: reserved\\n_export: yes\\nminid.checksum: cacc1abf711425d3c554277a5989df269cefaa906d27f1aaa72205d30224ed5f\\nminid.locations: http://bd2k.ini.usc.edu/assets/all-hands-meeting/minid_v0.1_Nov_2015.pdf\\n_updated: 1528331650\\nminid.creator: 0000-0003-2129-5269\\nminid.created: 2015-11-10 04:44:44.387671\\n_owner: apitest\\n_created: 1528331650\\n'"
   ]
  },
  {
   "cell_type": "code",
   "execution_count": 93,
   "metadata": {},
   "outputs": [],
   "source": [
    "def digestANVL(response_text):\n",
    "    ANVLdict = {}\n",
    "    if isinstance(response_text, bytes):\n",
    "        tempANVL = response_text.decode('UTF-8')\n",
    "    else:\n",
    "        tempANVL = response_text\n",
    "        \n",
    "    for element in tempANVL.split(\"\\n\"):\n",
    "        SplitUp = element.split(\": \", 1)\n",
    "        if len(SplitUp)>1:\n",
    "            ANVLdict[SplitUp[0]] = SplitUp[1]\n",
    "    return ANVLdict"
   ]
  },
  {
   "cell_type": "code",
   "execution_count": 94,
   "metadata": {},
   "outputs": [
    {
     "data": {
      "text/plain": [
       "{'_created': '1528331650',\n",
       " '_export': 'yes',\n",
       " '_owner': 'apitest',\n",
       " '_ownergroup': 'apitest',\n",
       " '_profile': 'minid',\n",
       " '_status': 'reserved',\n",
       " '_target': 'https://ezid.cdlib.org/id/ark:/99999/fk4r8776t',\n",
       " '_updated': '1528331650',\n",
       " 'minid.checksum': 'cacc1abf711425d3c554277a5989df269cefaa906d27f1aaa72205d30224ed5f',\n",
       " 'minid.checksumMethod': 'sha1',\n",
       " 'minid.created': '2015-11-10 04:44:44.387671',\n",
       " 'minid.creator': '0000-0003-2129-5269',\n",
       " 'minid.identifier': 'ark:/99999/fk4r8776t',\n",
       " 'minid.locations': 'http://bd2k.ini.usc.edu/assets/all-hands-meeting/minid_v0.1_Nov_2015.pdf',\n",
       " 'minid.status': 'ACTIVE',\n",
       " 'minid.titles': 'minid: A BD2K Minimal Viable Identifier Pilot v0.1',\n",
       " 'success': 'ark:/99999/fk4r8776t'}"
      ]
     },
     "execution_count": 94,
     "metadata": {},
     "output_type": "execute_result"
    }
   ],
   "source": [
    "digestANVL(test_response)"
   ]
  },
  {
   "cell_type": "code",
   "execution_count": null,
   "metadata": {},
   "outputs": [],
   "source": []
  }
 ],
 "metadata": {
  "kernelspec": {
   "display_name": "Python 3",
   "language": "python",
   "name": "python3"
  },
  "language_info": {
   "codemirror_mode": {
    "name": "ipython",
    "version": 3
   },
   "file_extension": ".py",
   "mimetype": "text/x-python",
   "name": "python",
   "nbconvert_exporter": "python",
   "pygments_lexer": "ipython3",
   "version": "3.6.4"
  }
 },
 "nbformat": 4,
 "nbformat_minor": 2
}
