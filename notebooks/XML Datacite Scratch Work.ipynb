{
 "cells": [
  {
   "cell_type": "markdown",
   "metadata": {},
   "source": [
    "### Issue is EZ API converts _profile back to datacite, and returns xml\n",
    "\n",
    "* No Way Around XML Need to translate "
   ]
  },
  {
   "cell_type": "code",
   "execution_count": 48,
   "metadata": {},
   "outputs": [],
   "source": [
    "from lxml import objectify, etree"
   ]
  },
  {
   "cell_type": "code",
   "execution_count": 719,
   "metadata": {},
   "outputs": [],
   "source": [
    "doi = {\n",
    "  \"@context\": \"http://schema.org\",\n",
    "  \"@type\": \"Dataset\",\n",
    "  \"@id\": \"10.5072/test9999OR\",\n",
    "  \"identifier\": \"10.5072/test9999OR\",\n",
    "    \"includedInDataCatalog\": \"ark:/99999/fk4RatDC\",\n",
    "  \"additionalType\": \"Data dictionary\",\n",
    "  \"name\": \"A data dictionary that describes each variable in the GTEx_v7_Annotations_SubjectPhenotypesDS.txt\",\n",
    "  \"author\": {\n",
    "    \"@type\": \"Organization\",\n",
    "    \"name\": \"The GTEx Consortium\"\n",
    "  },\n",
    "  \"keywords\": \"gtex, annotation, phenotype, gene regulation, transcriptomics\",\n",
    "  \"datePublished\": \"2017\",\n",
    "  \"version\": \"v7\",\n",
    "  \"url\": \"https://www.gtexportal.org/home/datasets\",\n",
    "  \"contentSize\": \"5.4 Mb\",\n",
    "  \"fileFormat\": \"application/vnd.openxmlformats-officedocument.spreadsheetml.sheet\",\n",
    "  \"funder\": {\n",
    "   \"@type\": \"Organization\",\n",
    "   \"@id\": \"https://doi.org/10.13039/100000050\",\n",
    "   \"name\": \"National Heart, Lung, and Blood Institute\"\n",
    "  }\n",
    "}"
   ]
  },
  {
   "cell_type": "markdown",
   "metadata": {},
   "source": [
    "### Design of Datacite Payload\n",
    "\n",
    "#### Mandatory Elements\n",
    "\n",
    "Simple\n",
    "\n",
    "* Identifier (with mandatory type sub-property) DOI √\n",
    "* Title (optional type sub-properties) √\n",
    "* PublicationYear √\n",
    "* ResourceType -> Dataset √\n",
    "\n",
    "Need to be unwrapped\n",
    "* Publisher √\n",
    "* Creator (optional, given name, name id) √\n",
    "\n",
    "### Optional Elements\n",
    "\n",
    "* funder √\n",
    "* url √ non homepage url\n",
    "* version √\n",
    "* dateCreated\n",
    "* additionalType\n",
    "* description\n",
    "* keywords\n",
    "* liscence\n",
    "* citation\n",
    "* isBasedOn\n",
    "* isPredecessor\n",
    "* isSuccessor\n",
    "* hasPart\n",
    "* isPartOf\n",
    "* contentSize\n",
    "* fileFormat\n",
    "* contentUrl\n"
   ]
  },
  {
   "cell_type": "code",
   "execution_count": 720,
   "metadata": {},
   "outputs": [],
   "source": [
    "nameType_xml = {\n",
    "    'Organization': 'Organizational',\n",
    "    'Person': 'Personal'\n",
    "}\n",
    "nameType_json = {\n",
    "    'Organizational': 'Organization',\n",
    "    'Person': 'Personal'\n",
    "}"
   ]
  },
  {
   "cell_type": "code",
   "execution_count": 855,
   "metadata": {},
   "outputs": [],
   "source": [
    "def outputDataciteXML(doi_json):\n",
    "    E = objectify.ElementMaker(\n",
    "        annotate=False\n",
    "    )\n",
    "    \n",
    "    resource = E.resource(\n",
    "        E.identifier(doi_json.get('@id'), identifierType=\"DOI\"),\n",
    "      \n",
    "        E.publicationYear(doi_json.get('datePublished')),\n",
    "        E.resourceType(doi_json.get('@type'), resourceTypeGeneral=\"Dataset\")\n",
    "    )\n",
    "    \n",
    "    # add titles\n",
    "    titles = etree.SubElement(resource, \"titles\")\n",
    "    etree.SubElement(titles, \"title\")._setText(doi_json.get('name'))\n",
    "    \n",
    "    # creators tag always a list\n",
    "    creators = etree.SubElement(resource, \"creators\")\n",
    "    \n",
    "    # get the author\n",
    "    auth = doi_json.get('author')\n",
    "    \n",
    "    # is there a list of authors\n",
    "    if isinstance(auth, list):\n",
    "        c = etree.SubElement(creators, \"creator\")\n",
    "        # every author in the list\n",
    "        for author in auth:\n",
    "            auth_name = author.get('name')\n",
    "            auth_type = auth.get('@type')\n",
    "            name_type = nameType_xml.get(auth_type)\n",
    "            etree.SubElement(c, \"name\", nameType=name_type)._setText(auth_name)\n",
    "    \n",
    "    # a single dict for authors\n",
    "    if isinstance(auth, dict):\n",
    "        creator = etree.SubElement(creators, \"creator\")\n",
    "        \n",
    "        auth_name = auth.get('name')\n",
    "        auth_type = auth.get('@type')\n",
    "        name_type = nameType_xml.get(auth_type)\n",
    "            \n",
    "        etree.SubElement(creator, \"creatorName\")._setText(auth_name)\n",
    "        etree.SubElement(resource, \"publisher\")._setText(auth_name)\n",
    "    \n",
    "    \n",
    "    \n",
    "    # Url homepage\n",
    "    url = doi_json.get('url')\n",
    "    related_identifiers = etree.SubElement(resource, \"relatedIdentifiers\")\n",
    "    etree.SubElement(related_identifiers, \"relatedIdentifier\", relatedIdentifierType=\"URL\", \n",
    "                     relationType= \"IsDocumentedBy\")._setText(url)\n",
    "\n",
    "    # includedInDatacatalog\n",
    "    # etree.SubElement(related_identifiers, \"relatedIdentifier\", relatedIdentifierType=\"\",\n",
    "    #                    relationType=\"\")._setText(dc)\n",
    "    \n",
    "    # Version\n",
    "    version = doi_json.get('version')\n",
    "    etree.SubElement(resource, \"version\")._setText(version)\n",
    "    \n",
    "    # description\n",
    "    desc = doi_json.get('description')\n",
    "    descriptions = etree.SubElement(resource, \"descriptions\")\n",
    "    etree.SubElement(descriptions, \"description\", descriptionType=\"Abstract\")._setText(desc)\n",
    "    \n",
    "    \n",
    "    \n",
    "    # keywords\n",
    "    subjects = etree.SubElement(resource, \"subjects\")\n",
    "    subject_list = doi_json.get('keywords').split(',')\n",
    "    \n",
    "    for sub in subject_list:\n",
    "        etree.SubElement(subjects, \"subject\")._setText(sub)\n",
    "    \n",
    "    \n",
    "    # funder \n",
    "    funder = doi_json.get('funder')\n",
    "    funding_reference = etree.SubElement(resource, \"fundingReferences\")\n",
    "    if isinstance(funder,dict):\n",
    "        soleFunder = etree.SubElement(funding_reference, \"fundingReference\")\n",
    "        \n",
    "        fund_name = funder.get('name')\n",
    "        fund_id = funder.get('@id')\n",
    "        \n",
    "        etree.SubElement(soleFunder, \"funderName\")._setText(fund_name)\n",
    "        etree.SubElement(soleFunder, \"funderIdentifier\", funderIdentifierType=\"Other\")._setText(fund_id)\n",
    "        #etree.SubElement(soleFunder, \"awardNumber\")._setText()\n",
    "        #etree.SubElement(soleFunder, \"awardTitle\")._setText()\n",
    "    \n",
    "    \n",
    "    \n",
    "    return etree.tostring(resource)"
   ]
  },
  {
   "cell_type": "code",
   "execution_count": 856,
   "metadata": {},
   "outputs": [
    {
     "name": "stdout",
     "output_type": "stream",
     "text": [
      "<resource xmlns:xsi=\"http://www.w3.org/2001/XMLSchema-instance\" xmlns=\"http://datacite.org/schema/kernel-4\" xsi:schemaLocation=\"http://datacite.org/schema/kernel-4 http://schema.datacite.org/meta/kernel-4/metadata.xsd\"><identifier identifierType=\"DOI\">10.5072/test9999OR</identifier><publicationYear>2017</publicationYear><resourceType resourceTypeGeneral=\"Dataset\">Dataset</resourceType><titles><title>A data dictionary that describes each variable in the GTEx_v7_Annotations_SubjectPhenotypesDS.txt</title></titles><creators><creator><creatorName>The GTEx Consortium</creatorName></creator></creators><publisher>The GTEx Consortium</publisher><relatedIdentifiers><relatedIdentifier relatedIdentifierType=\"URL\" relationType=\"IsDocumentedBy\">https://www.gtexportal.org/home/datasets</relatedIdentifier></relatedIdentifiers><version>v7</version><descriptions><description descriptionType=\"Abstract\"/></descriptions><subjects><subject>gtex</subject><subject> annotation</subject><subject> phenotype</subject><subject> gene regulation</subject><subject> transcriptomics</subject></subjects><fundingReferences><fundingReference><funderName>National Heart, Lung, and Blood Institute</funderName><funderIdentifier funderIdentifierType=\"Other\">https://doi.org/10.13039/100000050</funderIdentifier></fundingReference></fundingReferences></resource>\n"
     ]
    }
   ],
   "source": [
    "output = outputDataciteXML(doi).decode('utf-8').replace('<resource>', properResourceTag)\n",
    "\n",
    "print(output)\n"
   ]
  },
  {
   "cell_type": "code",
   "execution_count": 731,
   "metadata": {},
   "outputs": [],
   "source": [
    "properResourceTag ='<resource xmlns:xsi=\"http://www.w3.org/2001/XMLSchema-instance\" xmlns=\"http://datacite.org/schema/kernel-4\" xsi:schemaLocation=\"http://datacite.org/schema/kernel-4 http://schema.datacite.org/meta/kernel-4/metadata.xsd\">'"
   ]
  },
  {
   "cell_type": "code",
   "execution_count": null,
   "metadata": {},
   "outputs": [],
   "source": []
  },
  {
   "cell_type": "code",
   "execution_count": null,
   "metadata": {},
   "outputs": [],
   "source": []
  },
  {
   "cell_type": "code",
   "execution_count": 527,
   "metadata": {},
   "outputs": [],
   "source": [
    "root = etree.fromstring(output)"
   ]
  },
  {
   "cell_type": "code",
   "execution_count": 530,
   "metadata": {},
   "outputs": [],
   "source": [
    "child_list = root.getchildren()\n",
    "creators = child_list[4]"
   ]
  },
  {
   "cell_type": "code",
   "execution_count": 553,
   "metadata": {},
   "outputs": [
    {
     "data": {
      "text/plain": [
       "'The GTEx Consortium'"
      ]
     },
     "execution_count": 553,
     "metadata": {},
     "output_type": "execute_result"
    }
   ],
   "source": [
    "creators.findtext('{http://datacite.org/schema/kernel-4}creator/{http://datacite.org/schema/kernel-4}name')"
   ]
  },
  {
   "cell_type": "code",
   "execution_count": 552,
   "metadata": {},
   "outputs": [
    {
     "data": {
      "text/plain": [
       "[<Element {http://datacite.org/schema/kernel-4}name at 0x115e78848>]"
      ]
     },
     "execution_count": 552,
     "metadata": {},
     "output_type": "execute_result"
    }
   ],
   "source": [
    "creator.getchildren()"
   ]
  },
  {
   "cell_type": "code",
   "execution_count": 575,
   "metadata": {},
   "outputs": [
    {
     "data": {
      "text/plain": [
       "'The GTEx Consortium'"
      ]
     },
     "execution_count": 575,
     "metadata": {},
     "output_type": "execute_result"
    }
   ],
   "source": [
    "creators.getchildren()[0].getchildren()[0].text"
   ]
  },
  {
   "cell_type": "code",
   "execution_count": 870,
   "metadata": {},
   "outputs": [],
   "source": [
    "def unpack_xml(input_root):\n",
    "    xml_dict = {}\n",
    "    for child in input_root.getchildren():\n",
    "        temp_tag = child.tag.replace(\"{http://datacite.org/schema/kernel-4}\", \"\")\n",
    "        \n",
    "       \n",
    "        # special rule for subjects\n",
    "        if temp_tag == \"Subjects\":\n",
    "            subj_list = []\n",
    "            for sub in child.getchildren():\n",
    "                subj_list.append(sub.text.strip())\n",
    "            xml_dict['Subjects']=subj_list\n",
    "        \n",
    "        if temp_tag == \"creators\":\n",
    "            creat_list = []\n",
    "            for sub in child.getchildren():\n",
    "                creat_list.append(sub.findtext('{http://datacite.org/schema/kernel-4}creatorName'))\n",
    "            xml_dict['creators'] = creat_list\n",
    "        \n",
    "        if temp_tag == 'descriptions':\n",
    "            xml_dict['description']=child.findtext('{http://datacite.org/schema/kernel-4}description')\n",
    "        \n",
    "        if temp_tag == 'fundingReferences':\n",
    "            if len(child.getchildren())>1:\n",
    "                fund_list = []\n",
    "                for funder in child.getchildren():\n",
    "                    \n",
    "                    fund_name = funder.findtext('{http://datacite.org/schema/kernel-4}funderName')\n",
    "                    fund_id = funder.findtext('{http://datacite.org/schema/kernel-4}funderIdentifier')\n",
    "                    \n",
    "                    fund_obj = {\n",
    "                        'name': fund_name,\n",
    "                        '@id': fund_id,\n",
    "                        '@type': 'Organization'\n",
    "                        }\n",
    "                    \n",
    "                    fund_list.append(fund_obj)\n",
    "                    \n",
    "                xml_dict['funder'] = fund_list\n",
    "            else:\n",
    "                fund_name = child.findtext('{http://datacite.org/schema/kernel-4}fundingReference/{http://datacite.org/schema/kernel-4}funderName')\n",
    "                fund_id = child.findtext('{http://datacite.org/schema/kernel-4}fundingReference/{http://datacite.org/schema/kernel-4}funderIdentifier')\n",
    "                    \n",
    "                xml_dict['funder'] = {\n",
    "                        'name': fund_name,\n",
    "                        '@id': fund_id,\n",
    "                        '@type': 'Organization'\n",
    "                        }\n",
    "            \n",
    "        \n",
    "        # unparse attributs\n",
    "        temp_attr = child.attrib\n",
    "        \n",
    "        # unpack value\n",
    "        if child.text != None:\n",
    "            if temp_tag == \"ResourceType\":\n",
    "                xml_dict['@type'] = child.text\n",
    "            else:\n",
    "                xml_dict[temp_tag] = child.text\n",
    "                \n",
    "        # unpack nested values\n",
    "        if len(child.getchildren()) != 0 and temp_tag not in [\"Subjects\", \"creators\", \"descriptions\", 'fundingReferences']:\n",
    "            xml_dict[temp_tag] = unpack_xml(child)\n",
    "        #tags to add to dict\n",
    "        if child.attrib.get('nameType') == \"Organizational\":\n",
    "            # add the name type to dictionary\n",
    "            xml_dict['@type'] = 'Organization'\n",
    "            \n",
    "        if child.attrib.get('nameType') == \"Personal\":\n",
    "            xml_dict['@type'] = 'Person'\n",
    "            \n",
    "            \n",
    "            \n",
    "    return xml_dict"
   ]
  },
  {
   "cell_type": "code",
   "execution_count": 871,
   "metadata": {},
   "outputs": [
    {
     "data": {
      "text/plain": [
       "{'creators': ['The GTEx Consortium'],\n",
       " 'description': '',\n",
       " 'funder': {'@id': None,\n",
       "  '@type': 'Organization',\n",
       "  'name': 'National Heart, Lung, and Blood Institute'},\n",
       " 'identifier': '10.5072/test9999OR',\n",
       " 'publicationYear': '2017',\n",
       " 'publisher': 'The GTEx Consortium',\n",
       " 'relatedIdentifiers': {'relatedIdentifier': 'https://www.gtexportal.org/home/datasets'},\n",
       " 'resourceType': 'Dataset',\n",
       " 'subjects': {'subject': ' transcriptomics'},\n",
       " 'titles': {'title': 'A data dictionary that describes each variable in the GTEx_v7_Annotations_SubjectPhenotypesDS.txt'},\n",
       " 'version': 'v7'}"
      ]
     },
     "execution_count": 871,
     "metadata": {},
     "output_type": "execute_result"
    }
   ],
   "source": [
    "read_xml = ezapi_get.content.decode('utf-8')\n",
    "# need to translate datacite\n",
    "xml_form = read_xml.replace('<?xml version=\"1.0\" encoding=\"UTF-8\"?>', '')\n",
    "xml_form = re.sub(\"%0A\", \"\", xml_form)\n",
    "xml_form = xml_form.strip()\n",
    "\n",
    "\n",
    "unpack_xml(etree.fromstring(xml_form) )"
   ]
  },
  {
   "cell_type": "code",
   "execution_count": 818,
   "metadata": {},
   "outputs": [
    {
     "data": {
      "text/plain": [
       "'<resource xmlns:xsi=\"http://www.w3.org/2001/XMLSchema-instance\" xmlns=\"http://datacite.org/schema/kernel-4\" xsi:schemaLocation=\"http://datacite.org/schema/kernel-4 http://schema.datacite.org/meta/kernel-4/metadata.xsd\"><identifier identifierType=\"DOI\">10.5072/test9999OR</identifier><publicationYear>2017</publicationYear><resourceType resourceTypeGeneral=\"Dataset\">Dataset</resourceType><titles><title>A data dictionary that describes each variable in the GTEx_v7_Annotations_SubjectPhenotypesDS.txt</title></titles><creators><creator><creatorName>The GTEx Consortium</creatorName></creator></creators><publisher>The GTEx Consortium</publisher><relatedIdentifiers><relatedIdentifier relatedIdentifierType=\"URL\" relationType=\"IsDocumentedBy\">https://www.gtexportal.org/home/datasets</relatedIdentifier></relatedIdentifiers><version>v7</version><descriptions><description descriptionType=\"Abstract\"/></descriptions><subjects><subject>gtex</subject><subject> annotation</subject><subject> phenotype</subject><subject> gene regulation</subject><subject> transcriptomics</subject></subjects><fundingReferences><fundingReference><funderName>National Heart, Lung, and Blood Institute</funderName></fundingReference></fundingReferences></resource>'"
      ]
     },
     "execution_count": 818,
     "metadata": {},
     "output_type": "execute_result"
    }
   ],
   "source": [
    "xml_form"
   ]
  },
  {
   "cell_type": "code",
   "execution_count": 815,
   "metadata": {},
   "outputs": [],
   "source": [
    "root = etree.fromstring(xml_form)"
   ]
  },
  {
   "cell_type": "code",
   "execution_count": 830,
   "metadata": {},
   "outputs": [],
   "source": [
    "descriptions= root.getchildren()[8]"
   ]
  },
  {
   "cell_type": "code",
   "execution_count": 835,
   "metadata": {},
   "outputs": [
    {
     "data": {
      "text/plain": [
       "<Element {http://datacite.org/schema/kernel-4}description at 0x116478e88>"
      ]
     },
     "execution_count": 835,
     "metadata": {},
     "output_type": "execute_result"
    }
   ],
   "source": [
    "descriptions.getchildren()[0]"
   ]
  },
  {
   "cell_type": "code",
   "execution_count": 684,
   "metadata": {},
   "outputs": [
    {
     "data": {
      "text/plain": [
       "'<resource xmlns:xsi=\"http://www.w3.org/2001/XMLSchema-instance\" xmlns=\"http://datacite.org/schema/kernel-4\" xsi:schemaLocation=\"http://datacite.org/schema/kernel-4 http://schema.datacite.org/meta/kernel-4/metadata.xsd\">  <identifier identifierType=\"DOI\">10.5072/TEST9999MDSORSTEST</identifier>  <creators/>  <titles>    <title/>  </titles>  <publisher/>  <publicationYear/>  <dates/>  <version/></resource>'"
      ]
     },
     "execution_count": 684,
     "metadata": {},
     "output_type": "execute_result"
    }
   ],
   "source": [
    "xml_form"
   ]
  },
  {
   "cell_type": "code",
   "execution_count": 594,
   "metadata": {},
   "outputs": [
    {
     "data": {
      "text/plain": [
       "{'@type': 'Dataset',\n",
       " 'FundingReference': {'@type': 'Organization',\n",
       "  'funderName': 'National Heart, Lung, and Blood Institute'},\n",
       " 'Identifier': 'doi:10.5072/test9999mdsorstest',\n",
       " 'PublicationYear': '2017',\n",
       " 'RelatedIdentifier': 'https://www.gtexportal.org/home/datasets',\n",
       " 'Subjects': ['gtex',\n",
       "  'annotation',\n",
       "  'phenotype',\n",
       "  'gene regulation',\n",
       "  'transcriptomics'],\n",
       " 'Title': 'A data dictionary that describes each variable in the GTEx_v7_Annotations_SubjectPhenotypesDS.txt',\n",
       " 'Version': 'v7',\n",
       " 'creators': [{'@type': 'Organizational', 'name': 'The GTEx Consortium'}],\n",
       " 'publisher': 'The GTEx Consortium'}"
      ]
     },
     "execution_count": 594,
     "metadata": {},
     "output_type": "execute_result"
    }
   ],
   "source": [
    "almostJson = unpack_xml(etree.fromstring(output) )\n",
    "almostJson"
   ]
  },
  {
   "cell_type": "code",
   "execution_count": 579,
   "metadata": {},
   "outputs": [],
   "source": [
    "# rename keys\n",
    "renamedKeys = {\n",
    "    'FundingReference': \"funder\",\n",
    "    'funderName': 'name',\n",
    "    'Identifier': 'identifier',\n",
    "    'PublicationYear': 'datePublished',\n",
    "    'RelatedIdentifier': 'url', # should be object full of stuff but ok\n",
    "    'Subjects': 'keywords',\n",
    "    'Title': 'title',\n",
    "    'Version': 'version',\n",
    "    'creators': 'author',\n",
    "}\n",
    "\n"
   ]
  },
  {
   "cell_type": "code",
   "execution_count": 591,
   "metadata": {},
   "outputs": [],
   "source": [
    "# add @id @context and @type\n",
    "input_dict = almostJson\n",
    "\n",
    "final['@id'] = input_dict.get('Identifier')\n",
    "final['@context'] = 'https://schema.org'\n",
    "\n",
    "\n",
    "def rename(almost_json):\n",
    "    final = {}\n",
    "    for key, value in almost_json.items():\n",
    "        \n",
    "        if key == '@type':\n",
    "            value = nameType_json.get(value, value)\n",
    "        \n",
    "        new_key = renamedKeys.get(key,key)\n",
    "        if isinstance(value,str): \n",
    "            final[new_key] = value\n",
    "            \n",
    "        if isinstance(value,list):\n",
    "            \n",
    "            final[new_key] = [rename(elem) if isinstance(elem,dict) else elem for elem in value ]\n",
    "\n",
    "                    \n",
    "            \n",
    "        if isinstance(value, dict):\n",
    "            final[new_key] = rename(value)\n",
    "            \n",
    "    return final\n",
    "    \n",
    "\n",
    "json_payload = rename(input_dict)\n",
    "\n"
   ]
  },
  {
   "cell_type": "code",
   "execution_count": 592,
   "metadata": {},
   "outputs": [],
   "source": [
    "json_payload.update(\n",
    "    {\n",
    "        '@id':json_payload['identifier'],\n",
    "        '@context': 'https://schema.org'\n",
    "    }\n",
    ")"
   ]
  },
  {
   "cell_type": "code",
   "execution_count": 593,
   "metadata": {},
   "outputs": [
    {
     "data": {
      "text/plain": [
       "{'@context': 'https://schema.org',\n",
       " '@id': 'doi:10.5072/test9999mdsorstest',\n",
       " '@type': 'Dataset',\n",
       " 'author': [{'@type': 'Organization', 'name': 'The GTEx Consortium'}],\n",
       " 'datePublished': '2017',\n",
       " 'funder': {'@type': 'Organization',\n",
       "  'name': 'National Heart, Lung, and Blood Institute'},\n",
       " 'identifier': 'doi:10.5072/test9999mdsorstest',\n",
       " 'keywords': ['gtex',\n",
       "  'annotation',\n",
       "  'phenotype',\n",
       "  'gene regulation',\n",
       "  'transcriptomics'],\n",
       " 'publisher': 'The GTEx Consortium',\n",
       " 'title': 'A data dictionary that describes each variable in the GTEx_v7_Annotations_SubjectPhenotypesDS.txt',\n",
       " 'url': 'https://www.gtexportal.org/home/datasets',\n",
       " 'version': 'v7'}"
      ]
     },
     "execution_count": 593,
     "metadata": {},
     "output_type": "execute_result"
    }
   ],
   "source": [
    "json_payload"
   ]
  },
  {
   "cell_type": "code",
   "execution_count": 199,
   "metadata": {},
   "outputs": [],
   "source": [
    "# Generate root element with proper datacite attributes\n",
    "NSMAP = {\n",
    "    \"xsi\": \"http://www.w3.org/2001/XMLSchema-instance\",\n",
    "    #\"xlink\" : 'http://www.w3.org/1999/xlink'\n",
    "}\n",
    "\n",
    "# first pass create single elements\n",
    "resource = E.resource(\n",
    "    E.Identifier(doi.get('@id'), IdentifierType=\"DOI\"),\n",
    "    E.Title(doi.get('title') ),\n",
    "    E.PublicationYear(doi.get('datePublished')),\n",
    "    E.ResourceType(doi.get('@type'), resourceTypeGeneral=\"Dataset\")\n",
    ")\n",
    "\n",
    "\n",
    "#creator = resource.SubElement(\"Creator\")\n",
    "#    creator.SubElement(\"\")\n",
    "#resource.SubElement(\"Title\", )\n",
    "\n",
    "# cant set proper attributes whatever\n",
    "#resource.attrib['xmlns:xsi'] = \"http://www.w3.org/2001/XMLSchema-instance\",\n",
    "#resource.attrib['xsi:schemaLocation'] = \"http://datacite.org/schema/kernel-4 http://schema.datacite.org/meta/kernel-4.1/metadata.xsd\"\n",
    "\n",
    "\n",
    "# add subelements\n",
    "#resource.\n",
    "\n",
    "# generate all the required elements for DOI\n"
   ]
  },
  {
   "cell_type": "code",
   "execution_count": 200,
   "metadata": {},
   "outputs": [],
   "source": [
    "# supports many elemnts for creators\n",
    "creators = etree.SubElement(resource, \"creators\")\n",
    "\n",
    "# if author object is a dict there is a single creator\n",
    "if isinstance(doi.get('author'), dict):\n",
    "    creator_element = etree.SubElement(creators, \"creator\")\n",
    "    etree.SubElement(creator_element, \"name\", nameType=\"Organizational\")._setText(doi.get('author').get('name') )"
   ]
  },
  {
   "cell_type": "code",
   "execution_count": 475,
   "metadata": {},
   "outputs": [],
   "source": []
  },
  {
   "cell_type": "code",
   "execution_count": 202,
   "metadata": {},
   "outputs": [
    {
     "name": "stdout",
     "output_type": "stream",
     "text": [
      "<resource xmlns=\"http://datacite.org/schema/kernel-4\"><Identifier IdentifierType=\"DOI\">doi:10.5072/test9999mdsorstest</Identifier><Title>GTEx</Title><PublicationYear>2017</PublicationYear><ResourceType resourceTypeGeneral=\"Dataset\">Dataset</ResourceType><creators><creator><Name nameType=\"Organizational\">The GTEx Consortium</Name></creator></creators><Publisher nameType=\"Organizational\">The GTEx Consortium</Publisher></resource>\n"
     ]
    }
   ],
   "source": [
    "print()"
   ]
  },
  {
   "cell_type": "code",
   "execution_count": 124,
   "metadata": {},
   "outputs": [],
   "source": [
    "import requests\n",
    "from helper_functions import *"
   ]
  },
  {
   "cell_type": "code",
   "execution_count": 182,
   "metadata": {},
   "outputs": [],
   "source": [
    "xml_payload = etree.tostring(resource)"
   ]
  },
  {
   "cell_type": "code",
   "execution_count": 667,
   "metadata": {},
   "outputs": [],
   "source": [
    "payload = {\n",
    "    \n",
    "    '_profile': 'datacite',\n",
    "    '_status': '_reserved',\n",
    "    '_target': 'https://example.org/',\n",
    "    'datacite':  output\n",
    "}"
   ]
  },
  {
   "cell_type": "code",
   "execution_count": 668,
   "metadata": {},
   "outputs": [
    {
     "data": {
      "text/plain": [
       "{'_profile': 'datacite',\n",
       " '_status': '_reserved',\n",
       " '_target': 'https://example.org/',\n",
       " 'datacite': b'<resource xmlns=\"http://datacite.org/schema/kernel-4\"><Identifier identifierType=\"DOI\">doi:10.5072/test9999mdsorstest</Identifier><Title>A data dictionary that describes each variable in the GTEx_v7_Annotations_SubjectPhenotypesDS.txt</Title><PublicationYear>2017</PublicationYear><ResourceType resourceTypeGeneral=\"Dataset\">Dataset</ResourceType><creators/><creator><creatorName nameType=\"Organizational\">The GTEx Consortium</creatorName></creator><Publisher>The GTEx Consortium</Publisher><RelatedIdentifier relatedIdentifierType=\"URL\">https://www.gtexportal.org/home/datasets</RelatedIdentifier><Version>v7</Version><description/><Subjects><subject>gtex</subject><subject> annotation</subject><subject> phenotype</subject><subject> gene regulation</subject><subject> transcriptomics</subject></Subjects><FundingReference><funderName nameType=\"Organizational\">National Heart, Lung, and Blood Institute</funderName></FundingReference></resource>'}"
      ]
     },
     "execution_count": 668,
     "metadata": {},
     "output_type": "execute_result"
    }
   ],
   "source": [
    "payload"
   ]
  },
  {
   "cell_type": "code",
   "execution_count": 669,
   "metadata": {},
   "outputs": [],
   "source": [
    "anvl_payload = outputAnvl(payload)"
   ]
  },
  {
   "cell_type": "code",
   "execution_count": 781,
   "metadata": {},
   "outputs": [
    {
     "data": {
      "text/plain": [
       "b'_profile: datacite\\n_status: _reserved\\n_target: https%3A//example.org/\\ndatacite: b\\'<resource xmlns=\"http%3A//datacite.org/schema/kernel-4\"><Identifier identifierType=\"DOI\">doi%3A10.5072/test9999mdsorstest</Identifier><Title>A data dictionary that describes each variable in the GTEx_v7_Annotations_SubjectPhenotypesDS.txt</Title><PublicationYear>2017</PublicationYear><ResourceType resourceTypeGeneral=\"Dataset\">Dataset</ResourceType><creators/><creator><creatorName nameType=\"Organizational\">The GTEx Consortium</creatorName></creator><Publisher>The GTEx Consortium</Publisher><RelatedIdentifier relatedIdentifierType=\"URL\">https%3A//www.gtexportal.org/home/datasets</RelatedIdentifier><Version>v7</Version><description/><Subjects><subject>gtex</subject><subject> annotation</subject><subject> phenotype</subject><subject> gene regulation</subject><subject> transcriptomics</subject></Subjects><FundingReference><funderName nameType=\"Organizational\">National Heart, Lung, and Blood Institute</funderName></FundingReference></resource>\\''"
      ]
     },
     "execution_count": 781,
     "metadata": {},
     "output_type": "execute_result"
    }
   ],
   "source": [
    "anvl_payload"
   ]
  },
  {
   "cell_type": "code",
   "execution_count": 764,
   "metadata": {},
   "outputs": [
    {
     "data": {
      "text/plain": [
       "b'success: doi:10.5072/test9999or\\n_status: reserved\\n_target: https://example.org/\\ndatacite: <?xml version=\"1.0\" encoding=\"UTF-8\"?>%0A<resource xmlns:xsi=\"http://www.w3.org/2001/XMLSchema-instance\" xmlns=\"http://datacite.org/schema/kernel-4\" xsi:schemaLocation=\"http://datacite.org/schema/kernel-4 http://schema.datacite.org/meta/kernel-4/metadata.xsd\">%0A  <identifier identifierType=\"DOI\">10.5072/TEST9999OR</identifier>%0A  <creators/>%0A  <titles>%0A    <title/>%0A  </titles>%0A  <publisher/>%0A  <publicationYear/>%0A  <dates/>%0A  <version/>%0A</resource>%0A\\n_profile: datacite'"
      ]
     },
     "execution_count": 764,
     "metadata": {},
     "output_type": "execute_result"
    }
   ],
   "source": [
    "# store in the ezapi\n",
    "ezapi_put = requests.put(\n",
    "    url = \"https://ez.test.datacite.org/id/\"+doi['@id'],\n",
    "    data = anvl_payload,\n",
    "    auth = requests.auth.HTTPBasicAuth('DATACITE.DCPPC',  'Player&Chemo+segment')\n",
    ")\n",
    "ezapi_put.content"
   ]
  },
  {
   "cell_type": "code",
   "execution_count": 880,
   "metadata": {},
   "outputs": [],
   "source": [
    "doi_xml ='<resource xmlns:xsi=\"http://www.w3.org/2001/XMLSchema-instance\" xmlns=\"http://datacite.org/schema/kernel-4\" xsi:schemaLocation=\"http://datacite.org/schema/kernel-4 http://schema.datacite.org/meta/kernel-4/metadata.xsd\"><identifier identifierType=\"DOI\">10.5072/test9999OR</identifier><publicationYear>2017</publicationYear><resourceType resourceTypeGeneral=\"Dataset\">Dataset</resourceType><titles><title>A data dictionary that describes each variable in the GTEx_v7_Annotations_SubjectPhenotypesDS.txt</title></titles><creators><creator><creatorName>The GTEx Consortium</creatorName></creator></creators><publisher>The GTEx Consortium</publisher><relatedIdentifiers><relatedIdentifier relatedIdentifierType=\"URL\" relationType=\"IsDocumentedBy\">https://www.gtexportal.org/home/datasets</relatedIdentifier><relatedIdentifier relatedIdentifierType=\"DOI\" relationType=\"IsPartOf\">ark:/99999/fk4RatDC</relatedIdentifier></relatedIdentifiers><version>v7</version><subjects><subject>gtex</subject><subject> annotation</subject><subject> phenotype</subject><subject> gene regulation</subject><subject> transcriptomics</subject></subjects><fundingReferences><fundingReference><funderName>National Heart, Lung, and Blood Institute</funderName><funderIdentifier funderIdentifierType=\"Other\">https://doi.org/10.13039/100000050</funderIdentifier></fundingReference></fundingReferences></resource>'"
   ]
  },
  {
   "cell_type": "code",
   "execution_count": 902,
   "metadata": {},
   "outputs": [],
   "source": [
    "# register metadata\n",
    "create_metadata = requests.post(\n",
    "    url = \"https://mds.test.datacite.org/metadata/\",\n",
    "    data = doi_xml,\n",
    "    auth = requests.auth.HTTPBasicAuth('DATACITE.DCPPC',  'Player&Chemo+segment')\n",
    ")"
   ]
  },
  {
   "cell_type": "code",
   "execution_count": 903,
   "metadata": {},
   "outputs": [
    {
     "data": {
      "text/plain": [
       "b'OK (10.5072/test9999OR)'"
      ]
     },
     "execution_count": 903,
     "metadata": {},
     "output_type": "execute_result"
    }
   ],
   "source": [
    "create_metadata.content"
   ]
  },
  {
   "cell_type": "code",
   "execution_count": 901,
   "metadata": {},
   "outputs": [
    {
     "name": "stdout",
     "output_type": "stream",
     "text": [
      "201\n",
      "b'OK'\n"
     ]
    }
   ],
   "source": [
    "# create doi\n",
    "reserve_doi = requests.put(\n",
    "    url = \"https://mds.test.datacite.org/doi/\"+doi['@id'],\n",
    "    data = \"doi=\"+doi['@id']+\"\\nurl=http://example.com\",\n",
    "    auth = requests.auth.HTTPBasicAuth('DATACITE.DCPPC',  'Player&Chemo+segment')\n",
    ")\n",
    "\n",
    "print(reserve_doi.status_code)\n",
    "print(reserve_doi.content)\n",
    "\n"
   ]
  },
  {
   "cell_type": "code",
   "execution_count": null,
   "metadata": {},
   "outputs": [],
   "source": [
    "# create metadata record"
   ]
  },
  {
   "cell_type": "code",
   "execution_count": 900,
   "metadata": {},
   "outputs": [
    {
     "data": {
      "text/plain": [
       "'doi=10.5072/test9999OR\\nurl=http://example.com'"
      ]
     },
     "execution_count": 900,
     "metadata": {},
     "output_type": "execute_result"
    }
   ],
   "source": [
    "\"doi=\"+doi['@id']+\"\\nurl=http://example.com\""
   ]
  },
  {
   "cell_type": "code",
   "execution_count": 896,
   "metadata": {},
   "outputs": [],
   "source": [
    "# retrieve from ezapi\n",
    "ezapi_get = requests.get(\n",
    "    url = \"https://mds.test.datacite.org/metadata/\"+doi['@id'],\n",
    "    auth = requests.auth.HTTPBasicAuth('DATACITE.DCPPC',  'Player&Chemo+segment')\n",
    ")"
   ]
  },
  {
   "cell_type": "code",
   "execution_count": 897,
   "metadata": {},
   "outputs": [
    {
     "data": {
      "text/plain": [
       "b'dataset inactive'"
      ]
     },
     "execution_count": 897,
     "metadata": {},
     "output_type": "execute_result"
    }
   ],
   "source": [
    "ezapi_get.content"
   ]
  },
  {
   "cell_type": "code",
   "execution_count": 793,
   "metadata": {},
   "outputs": [
    {
     "data": {
      "text/plain": [
       "{}"
      ]
     },
     "execution_count": 793,
     "metadata": {},
     "output_type": "execute_result"
    }
   ],
   "source": [
    "datacite_dict"
   ]
  },
  {
   "cell_type": "code",
   "execution_count": 637,
   "metadata": {},
   "outputs": [
    {
     "data": {
      "text/plain": [
       "'<?xml version=\"1.0\" encoding=\"UTF-8\"?>%0A<resource xmlns:xsi=\"http://www.w3.org/2001/XMLSchema-instance\" xmlns=\"http://datacite.org/schema/kernel-4\" xsi:schemaLocation=\"http://datacite.org/schema/kernel-4 http://schema.datacite.org/meta/kernel-4/metadata.xsd\">%0A  <identifier identifierType=\"DOI\">10.5072/TEST9999MDSORSTEST</identifier>%0A  <creators/>%0A  <titles>%0A    <title/>%0A  </titles>%0A  <publisher/>%0A  <publicationYear/>%0A  <dates/>%0A  <version/>%0A</resource>%0A'"
      ]
     },
     "execution_count": 637,
     "metadata": {},
     "output_type": "execute_result"
    }
   ],
   "source": [
    "read_xml = datacite_dict['datacite']\n",
    "read_xml"
   ]
  },
  {
   "cell_type": "code",
   "execution_count": 904,
   "metadata": {},
   "outputs": [],
   "source": [
    "# delete\n",
    "ezapi_delete = requests.delete(\n",
    "    url = \"https://mds.test.datacite.org/metadata/\"+doi['@id'],\n",
    "    auth = requests.auth.HTTPBasicAuth('DATACITE.DCPPC',  'Player&Chemo+segment')\n",
    ")\n",
    "assert ezapi_delete.status_code == 200"
   ]
  },
  {
   "cell_type": "code",
   "execution_count": 895,
   "metadata": {},
   "outputs": [
    {
     "data": {
      "text/plain": [
       "b'OK'"
      ]
     },
     "execution_count": 895,
     "metadata": {},
     "output_type": "execute_result"
    }
   ],
   "source": [
    "ezapi_delete.content"
   ]
  },
  {
   "cell_type": "code",
   "execution_count": 276,
   "metadata": {},
   "outputs": [],
   "source": [
    "# delete localhost\n",
    "# delete\n",
    "ezapi_delete = requests.delete(\n",
    "    url = \"https://mds.test.datacite.org/metadata/\"+doi['@id'],\n",
    "    auth = requests.auth.HTTPBasicAuth('DATACITE.DCPPC',  'Player&Chemo+segment')\n",
    ")\n",
    "assert ezapi_delete.status_code == 200"
   ]
  },
  {
   "cell_type": "code",
   "execution_count": 309,
   "metadata": {},
   "outputs": [
    {
     "data": {
      "text/plain": [
       "'<resource xmlns=\"http://datacite.org/schema/kernel-4\">  <Identifier IdentifierType=\"DOI\">doi:10.5072/test9999mdsorstest</Identifier>  <Title>GTEx</Title>  <PublicationYear>2017</PublicationYear>  <ResourceType resourceTypeGeneral=\"Dataset\">Dataset</ResourceType>  <creators/>  <creator>    <Name nameType=\"Organizational\">The GTEx Consortium</Name>  </creator>  <Publisher nameType=\"Organizational\">The GTEx Consortium</Publisher></resource>'"
      ]
     },
     "execution_count": 309,
     "metadata": {},
     "output_type": "execute_result"
    }
   ],
   "source": [
    "xml_form"
   ]
  },
  {
   "cell_type": "code",
   "execution_count": 310,
   "metadata": {},
   "outputs": [],
   "source": [
    "# read into lxml\n",
    "root= etree.fromstring(xml_form)"
   ]
  },
  {
   "cell_type": "code",
   "execution_count": 311,
   "metadata": {},
   "outputs": [
    {
     "data": {
      "text/plain": [
       "{None: 'http://datacite.org/schema/kernel-4'}"
      ]
     },
     "execution_count": 311,
     "metadata": {},
     "output_type": "execute_result"
    }
   ],
   "source": [
    "root.nsmap"
   ]
  },
  {
   "cell_type": "code",
   "execution_count": 336,
   "metadata": {},
   "outputs": [
    {
     "name": "stdout",
     "output_type": "stream",
     "text": [
      "doi:10.5072/test9999mdsorstest\n",
      "GTEx\n",
      "2017\n",
      "Dataset\n",
      "None\n",
      "    \n",
      "The GTEx Consortium\n"
     ]
    }
   ],
   "source": [
    "for child in root.getchildren():\n",
    "    print(child.text)"
   ]
  },
  {
   "cell_type": "code",
   "execution_count": 350,
   "metadata": {},
   "outputs": [
    {
     "name": "stdout",
     "output_type": "stream",
     "text": [
      "{'IdentifierType': 'DOI'}\n",
      "{}\n",
      "{}\n",
      "{'resourceTypeGeneral': 'Dataset'}\n",
      "{}\n",
      "{}\n",
      "{'nameType': 'Organizational'}\n",
      "{'nameType': 'Organizational'}\n"
     ]
    },
    {
     "data": {
      "text/plain": [
       "{'@type': 'Organization',\n",
       " 'Identifier': 'doi:10.5072/test9999mdsorstest',\n",
       " 'PublicationYear': '2017',\n",
       " 'Publisher': 'The GTEx Consortium',\n",
       " 'Title': 'GTEx',\n",
       " 'creator': {'@type': 'Organization', 'Name': 'The GTEx Consortium'}}"
      ]
     },
     "execution_count": 350,
     "metadata": {},
     "output_type": "execute_result"
    }
   ],
   "source": [
    "unpack_xml(root)"
   ]
  },
  {
   "cell_type": "code",
   "execution_count": 323,
   "metadata": {},
   "outputs": [],
   "source": [
    "  # if sub object look for attributes to add to object\n",
    "            for key, value in child.attrib.items():\n",
    "                if re.match('.*Type.*', key):\n",
    "                xml_dict['@type'] = value\n",
    "       # check attributes to turn into schema.org metadata\n",
    "        "
   ]
  },
  {
   "cell_type": "code",
   "execution_count": 353,
   "metadata": {},
   "outputs": [],
   "source": [
    "# take xml tag names to json-ld keys\n",
    "translation = {\n",
    "    'Identifier': 'identifier',\n",
    "    'PublicationYear': 'publicationDate',\n",
    "    'Publisher': '',\n",
    "    'Title': '',\n",
    "    'creator': ''\n",
    "    \n",
    "}"
   ]
  },
  {
   "cell_type": "code",
   "execution_count": 874,
   "metadata": {},
   "outputs": [],
   "source": [
    "ver = \"hello\""
   ]
  },
  {
   "cell_type": "code",
   "execution_count": 875,
   "metadata": {},
   "outputs": [
    {
     "name": "stdout",
     "output_type": "stream",
     "text": [
      "hi\n"
     ]
    }
   ],
   "source": [
    "if ver:\n",
    "    print(\"hi\")"
   ]
  },
  {
   "cell_type": "code",
   "execution_count": null,
   "metadata": {},
   "outputs": [],
   "source": []
  }
 ],
 "metadata": {
  "kernelspec": {
   "display_name": "Python 3",
   "language": "python",
   "name": "python3"
  },
  "language_info": {
   "codemirror_mode": {
    "name": "ipython",
    "version": 3
   },
   "file_extension": ".py",
   "mimetype": "text/x-python",
   "name": "python",
   "nbconvert_exporter": "python",
   "pygments_lexer": "ipython3",
   "version": "3.6.4"
  }
 },
 "nbformat": 4,
 "nbformat_minor": 2
}
