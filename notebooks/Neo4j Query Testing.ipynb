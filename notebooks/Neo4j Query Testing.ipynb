{
 "cells": [
  {
   "cell_type": "code",
   "execution_count": 378,
   "metadata": {},
   "outputs": [],
   "source": [
    "from neo4j.v1 import GraphDatabase"
   ]
  },
  {
   "cell_type": "code",
   "execution_count": 471,
   "metadata": {},
   "outputs": [],
   "source": [
    "neo_driver = GraphDatabase.driver(\n",
    "        uri=\"bolt://localhost:7687\",\n",
    "        auth = ('neo4j', 'localtest')\n",
    "\n",
    ")"
   ]
  },
  {
   "cell_type": "code",
   "execution_count": 404,
   "metadata": {},
   "outputs": [],
   "source": [
    "testguid = \"testDatasetGUID\""
   ]
  },
  {
   "cell_type": "code",
   "execution_count": 494,
   "metadata": {},
   "outputs": [],
   "source": [
    "with neo_driver.session() as session:\n",
    "    with session.begin_transaction() as tx:\n",
    "        cs_query = tx.run(\n",
    "            \"MATCH (data {guid: $guid})-[*]->(dl:Download:awsResource)-[:checksum]->(cs) \"\n",
    "            \"RETURN DISTINCT cs\",\n",
    "            guid = 'testDatasetGUID',\n",
    "                        )\n",
    "        dl_query = tx.run(\n",
    "            \"MATCH (data {guid: $guid})-[*]->(dl:Download:awsResource)-[:checksum]->(cs) \"\n",
    "            \"RETURN DISTINCT dl\",\n",
    "            guid = 'testDatasetGUID',\n",
    "                        )\n",
    "# have sub properties nodes\n",
    "#data_list = [record.data() for record in query.records()]"
   ]
  },
  {
   "cell_type": "code",
   "execution_count": 495,
   "metadata": {},
   "outputs": [],
   "source": [
    "cs_records = cs_query.data()\n",
    "dl_records = dl_query.data()"
   ]
  },
  {
   "cell_type": "code",
   "execution_count": 499,
   "metadata": {},
   "outputs": [
    {
     "data": {
      "text/plain": [
       "[{'method': 'sha-256',\n",
       "  'value': 'cacc1abf711425d3c554277a5989df269cefaa906d27f1aaa72205d30224ed5f'},\n",
       " {'method': 'md5', 'value': 'madeupchecksum'}]"
      ]
     },
     "execution_count": 499,
     "metadata": {},
     "output_type": "execute_result"
    }
   ],
   "source": [
    "[record.get('cs').properties for record in cs_records]"
   ]
  },
  {
   "cell_type": "code",
   "execution_count": 500,
   "metadata": {},
   "outputs": [
    {
     "data": {
      "text/plain": [
       "[{'fileFormat': 'pdf',\n",
       "  'url': 'tREqPZfcZtX12xI+ZMUU6GVqsUsLdKT/EtvffiQG4kqKc63WkikZB438Cfui92wkp4hfZFpa8raoo0XQLVhWiaEteH24IjHf1dlaDVWGycw='},\n",
       " {'fileFormat': 'pdf',\n",
       "  'url': 'YCRJ5aE05oYdIBSpFAQ4Wv/kne5tARCgraokUgaIVehpzHMIjwQhbvkid33Tr6e3ir4VUFwP9VWvM1yUkrz2I6sHBIOa1FHfD6E+a4+jDy4='},\n",
       " {'fileFormat': 'pdf',\n",
       "  'url': 'jzsy64KXwqFZpl+fSdT7U+3Ad0pRzyeE5chERcYOecCjCRNxtK8abEvT3Coi8rrbYAPNv6IvRu4TOnkQ9QalViUH0heIBxIZcCFVT+ZodQQ='},\n",
       " {'fileFormat': 'pdf',\n",
       "  'url': 'w4iSkQI+a3Dd50LzgGeZXh+9p7Dpdq44UPaFkAQSeMjr4Z8skSAn+WSiq3lvNzt2j7SJ+wtQWemb2h2JtGTB8W9JeMzMgIvGhWcwtUZHFV8='},\n",
       " {'fileFormat': 'pdf',\n",
       "  'url': '7fD0q9CWZi4B7fJniCz9UXS1IDPitrXthQ38ODtUK7Pl5WJ0znCxO3IRXNDudVwzanDlqfS2SvgpMs/BUI48J1aHvlPGdpKKFGXfzh2pfgY='},\n",
       " {'fileFormat': 'pdf',\n",
       "  'url': 'oSwBq5m+ZH9pvE2Kc7kF9BdHEvnyhpoFHB4V1lQm7iXEzKHXk7Nzob1iXn5+ea3gw2PO2ChFme3i6DNkwuUeKzgCCIvqxBsej+G5Yj73C7w='},\n",
       " {'fileFormat': 'pdf',\n",
       "  'url': 'Ai1nq9H14ffmTEfs89KGRJsOYQ9Qs6Ghdr/aOhW/c2rkGf0boTuSOvchBgABCnA8/+k2sw+kj8SsNAaE3rC8LaRhvkv1H+MrdDJJP0OiZyI='},\n",
       " {'fileFormat': 'pdf',\n",
       "  'url': 'nrsam50Xo5gxoJ52IicCq1bhPpiN2J+joRSJwm6kiXEXXLFl1Mu/UTkF244DMc8qc+hxZwSf9wJ94vC/CIuyzPlns1ZGrNGLFj1LiLUNzqE='}]"
      ]
     },
     "execution_count": 500,
     "metadata": {},
     "output_type": "execute_result"
    }
   ],
   "source": [
    "    [record.get('dl').properties for record in dl_records]"
   ]
  },
  {
   "cell_type": "code",
   "execution_count": null,
   "metadata": {},
   "outputs": [],
   "source": [
    "Node"
   ]
  },
  {
   "cell_type": "code",
   "execution_count": 464,
   "metadata": {},
   "outputs": [],
   "source": [
    "response = {\n",
    "    'id': Node.id,\n",
    "    'labels': Node.labels,\n",
    "    'properties': Node.properties\n",
    "}"
   ]
  },
  {
   "cell_type": "code",
   "execution_count": 466,
   "metadata": {},
   "outputs": [
    {
     "data": {
      "text/plain": [
       "{'id': 8,\n",
       " 'labels': {'Ark', 'DataCatalog'},\n",
       " 'properties': {'datePublished': '2015-11-10T04:44:44.387671Z',\n",
       "  'guid': 'testDConeAuth',\n",
       "  'name': 'Ark DataCatalog'}}"
      ]
     },
     "execution_count": 466,
     "metadata": {},
     "output_type": "execute_result"
    }
   ],
   "source": [
    "response"
   ]
  },
  {
   "cell_type": "code",
   "execution_count": 421,
   "metadata": {},
   "outputs": [
    {
     "data": {
      "text/plain": [
       "[{'properties(cs)': {'method': 'sha-256',\n",
       "   'value': 'cacc1abf711425d3c554277a5989df269cefaa906d27f1aaa72205d30224ed5f'},\n",
       "  'properties(node)': {'fileFormat': 'pdf',\n",
       "   'url': 'tREqPZfcZtX12xI+ZMUU6GVqsUsLdKT/EtvffiQG4kqKc63WkikZB438Cfui92wkp4hfZFpa8raoo0XQLVhWiaEteH24IjHf1dlaDVWGycw='}},\n",
       " {'properties(cs)': {'method': 'md5', 'value': 'madeupchecksum'},\n",
       "  'properties(node)': {'fileFormat': 'pdf',\n",
       "   'url': 'tREqPZfcZtX12xI+ZMUU6GVqsUsLdKT/EtvffiQG4kqKc63WkikZB438Cfui92wkp4hfZFpa8raoo0XQLVhWiaEteH24IjHf1dlaDVWGycw='}},\n",
       " {'properties(cs)': {'method': 'md5', 'value': 'madeupchecksum'},\n",
       "  'properties(node)': {'fileFormat': 'pdf',\n",
       "   'url': 'YCRJ5aE05oYdIBSpFAQ4Wv/kne5tARCgraokUgaIVehpzHMIjwQhbvkid33Tr6e3ir4VUFwP9VWvM1yUkrz2I6sHBIOa1FHfD6E+a4+jDy4='}},\n",
       " {'properties(cs)': {'method': 'sha-256',\n",
       "   'value': 'cacc1abf711425d3c554277a5989df269cefaa906d27f1aaa72205d30224ed5f'},\n",
       "  'properties(node)': {'fileFormat': 'pdf',\n",
       "   'url': 'YCRJ5aE05oYdIBSpFAQ4Wv/kne5tARCgraokUgaIVehpzHMIjwQhbvkid33Tr6e3ir4VUFwP9VWvM1yUkrz2I6sHBIOa1FHfD6E+a4+jDy4='}},\n",
       " {'properties(cs)': {'method': 'sha-256',\n",
       "   'value': 'cacc1abf711425d3c554277a5989df269cefaa906d27f1aaa72205d30224ed5f'},\n",
       "  'properties(node)': {'fileFormat': 'pdf',\n",
       "   'url': 'jzsy64KXwqFZpl+fSdT7U+3Ad0pRzyeE5chERcYOecCjCRNxtK8abEvT3Coi8rrbYAPNv6IvRu4TOnkQ9QalViUH0heIBxIZcCFVT+ZodQQ='}},\n",
       " {'properties(cs)': {'method': 'md5', 'value': 'madeupchecksum'},\n",
       "  'properties(node)': {'fileFormat': 'pdf',\n",
       "   'url': 'jzsy64KXwqFZpl+fSdT7U+3Ad0pRzyeE5chERcYOecCjCRNxtK8abEvT3Coi8rrbYAPNv6IvRu4TOnkQ9QalViUH0heIBxIZcCFVT+ZodQQ='}},\n",
       " {'properties(cs)': {'method': 'sha-256',\n",
       "   'value': 'cacc1abf711425d3c554277a5989df269cefaa906d27f1aaa72205d30224ed5f'},\n",
       "  'properties(node)': {'fileFormat': 'pdf',\n",
       "   'url': 'w4iSkQI+a3Dd50LzgGeZXh+9p7Dpdq44UPaFkAQSeMjr4Z8skSAn+WSiq3lvNzt2j7SJ+wtQWemb2h2JtGTB8W9JeMzMgIvGhWcwtUZHFV8='}},\n",
       " {'properties(cs)': {'method': 'md5', 'value': 'madeupchecksum'},\n",
       "  'properties(node)': {'fileFormat': 'pdf',\n",
       "   'url': 'w4iSkQI+a3Dd50LzgGeZXh+9p7Dpdq44UPaFkAQSeMjr4Z8skSAn+WSiq3lvNzt2j7SJ+wtQWemb2h2JtGTB8W9JeMzMgIvGhWcwtUZHFV8='}},\n",
       " {'properties(cs)': {'method': 'md5', 'value': 'madeupchecksum'},\n",
       "  'properties(node)': {'fileFormat': 'pdf',\n",
       "   'url': '7fD0q9CWZi4B7fJniCz9UXS1IDPitrXthQ38ODtUK7Pl5WJ0znCxO3IRXNDudVwzanDlqfS2SvgpMs/BUI48J1aHvlPGdpKKFGXfzh2pfgY='}},\n",
       " {'properties(cs)': {'method': 'sha-256',\n",
       "   'value': 'cacc1abf711425d3c554277a5989df269cefaa906d27f1aaa72205d30224ed5f'},\n",
       "  'properties(node)': {'fileFormat': 'pdf',\n",
       "   'url': '7fD0q9CWZi4B7fJniCz9UXS1IDPitrXthQ38ODtUK7Pl5WJ0znCxO3IRXNDudVwzanDlqfS2SvgpMs/BUI48J1aHvlPGdpKKFGXfzh2pfgY='}},\n",
       " {'properties(cs)': {'method': 'sha-256',\n",
       "   'value': 'cacc1abf711425d3c554277a5989df269cefaa906d27f1aaa72205d30224ed5f'},\n",
       "  'properties(node)': {'fileFormat': 'pdf',\n",
       "   'url': 'oSwBq5m+ZH9pvE2Kc7kF9BdHEvnyhpoFHB4V1lQm7iXEzKHXk7Nzob1iXn5+ea3gw2PO2ChFme3i6DNkwuUeKzgCCIvqxBsej+G5Yj73C7w='}},\n",
       " {'properties(cs)': {'method': 'md5', 'value': 'madeupchecksum'},\n",
       "  'properties(node)': {'fileFormat': 'pdf',\n",
       "   'url': 'oSwBq5m+ZH9pvE2Kc7kF9BdHEvnyhpoFHB4V1lQm7iXEzKHXk7Nzob1iXn5+ea3gw2PO2ChFme3i6DNkwuUeKzgCCIvqxBsej+G5Yj73C7w='}},\n",
       " {'properties(cs)': {'method': 'md5', 'value': 'madeupchecksum'},\n",
       "  'properties(node)': {'fileFormat': 'pdf',\n",
       "   'url': 'Ai1nq9H14ffmTEfs89KGRJsOYQ9Qs6Ghdr/aOhW/c2rkGf0boTuSOvchBgABCnA8/+k2sw+kj8SsNAaE3rC8LaRhvkv1H+MrdDJJP0OiZyI='}},\n",
       " {'properties(cs)': {'method': 'sha-256',\n",
       "   'value': 'cacc1abf711425d3c554277a5989df269cefaa906d27f1aaa72205d30224ed5f'},\n",
       "  'properties(node)': {'fileFormat': 'pdf',\n",
       "   'url': 'Ai1nq9H14ffmTEfs89KGRJsOYQ9Qs6Ghdr/aOhW/c2rkGf0boTuSOvchBgABCnA8/+k2sw+kj8SsNAaE3rC8LaRhvkv1H+MrdDJJP0OiZyI='}},\n",
       " {'properties(cs)': {'method': 'md5', 'value': 'madeupchecksum'},\n",
       "  'properties(node)': {'fileFormat': 'pdf',\n",
       "   'url': 'nrsam50Xo5gxoJ52IicCq1bhPpiN2J+joRSJwm6kiXEXXLFl1Mu/UTkF244DMc8qc+hxZwSf9wJ94vC/CIuyzPlns1ZGrNGLFj1LiLUNzqE='}},\n",
       " {'properties(cs)': {'method': 'sha-256',\n",
       "   'value': 'cacc1abf711425d3c554277a5989df269cefaa906d27f1aaa72205d30224ed5f'},\n",
       "  'properties(node)': {'fileFormat': 'pdf',\n",
       "   'url': 'nrsam50Xo5gxoJ52IicCq1bhPpiN2J+joRSJwm6kiXEXXLFl1Mu/UTkF244DMc8qc+hxZwSf9wJ94vC/CIuyzPlns1ZGrNGLFj1LiLUNzqE='}}]"
      ]
     },
     "execution_count": 421,
     "metadata": {},
     "output_type": "execute_result"
    }
   ],
   "source": [
    "data_list"
   ]
  },
  {
   "cell_type": "code",
   "execution_count": 417,
   "metadata": {},
   "outputs": [],
   "source": [
    "# unpack\n"
   ]
  },
  {
   "cell_type": "code",
   "execution_count": 407,
   "metadata": {},
   "outputs": [
    {
     "data": {
      "text/plain": [
       "[{'dataset': 'testDatasetGUID',\n",
       "  'labels': {'DataCatalog', 'Doi'},\n",
       "  'properties': {'datePublished': '2017',\n",
       "   'guid': '10.5072/test9999schemaorgtest',\n",
       "   'name': 'GTEx Public Files'}}]"
      ]
     },
     "execution_count": 407,
     "metadata": {},
     "output_type": "execute_result"
    }
   ],
   "source": [
    "[{'dataset': testguid, 'labels': node.labels, 'properties': node.properties}]"
   ]
  },
  {
   "cell_type": "code",
   "execution_count": 402,
   "metadata": {},
   "outputs": [
    {
     "name": "stdout",
     "output_type": "stream",
     "text": [
      "{'labels': {'awsResource', 'Download'}, 'properties': {'url': 'nrsam50Xo5gxoJ52IicCq1bhPpiN2J+joRSJwm6kiXEXXLFl1Mu/UTkF244DMc8qc+hxZwSf9wJ94vC/CIuyzPlns1ZGrNGLFj1LiLUNzqE=', 'fileFormat': 'pdf'}}\n"
     ]
    }
   ],
   "source": [
    "for dict_elem in data_list:\n",
    "    aws_resource =  dict_elem.get('node')\n",
    "    print(\n",
    "        {\n",
    "            'labels': aws_resource.labels,\n",
    "            'properties': aws_resource.properties\n",
    "        }\n",
    "    )"
   ]
  },
  {
   "cell_type": "code",
   "execution_count": null,
   "metadata": {},
   "outputs": [],
   "source": []
  },
  {
   "cell_type": "code",
   "execution_count": 397,
   "metadata": {},
   "outputs": [
    {
     "data": {
      "text/plain": [
       "{'node': <Node id=41 labels={'awsResource', 'Download'} properties={'url': 'nrsam50Xo5gxoJ52IicCq1bhPpiN2J+joRSJwm6kiXEXXLFl1Mu/UTkF244DMc8qc+hxZwSf9wJ94vC/CIuyzPlns1ZGrNGLFj1LiLUNzqE=', 'fileFormat': 'pdf'}>}"
      ]
     },
     "execution_count": 397,
     "metadata": {},
     "output_type": "execute_result"
    }
   ],
   "source": []
  },
  {
   "cell_type": "code",
   "execution_count": 372,
   "metadata": {},
   "outputs": [
    {
     "data": {
      "text/plain": [
       "{'cs': <Node id=3 labels={'Checksum'} properties={'method': 'sha-256', 'value': 'cacc1abf711425d3c554277a5989df269cefaa906d27f1aaa72205d30224ed5f'}>,\n",
       " 'node': <Node id=2 labels={'awsResource', 'Download'} properties={'url': b'owTfdmWxbBCWydwdHLarBhKQaKIvagO6TFBXJNuHFWorW43pQrPQsTUUep2OnSJJCoILmPkQHKZTF9VImcrGiWjsagDJAohvNWiBiJlcT4s=', 'fileFormat': 'pdf'}>}"
      ]
     },
     "execution_count": 372,
     "metadata": {},
     "output_type": "execute_result"
    }
   ],
   "source": [
    "record_list[0].data()"
   ]
  },
  {
   "cell_type": "code",
   "execution_count": 97,
   "metadata": {},
   "outputs": [],
   "source": [
    "node  = val.single().data().get('n')"
   ]
  },
  {
   "cell_type": "code",
   "execution_count": 102,
   "metadata": {},
   "outputs": [
    {
     "data": {
      "text/plain": [
       "{'datePublished': '2017',\n",
       " 'guid': '10.5072/test9999schemaorgtest',\n",
       " 'name': 'GTEx Public Files'}"
      ]
     },
     "execution_count": 102,
     "metadata": {},
     "output_type": "execute_result"
    }
   ],
   "source": [
    "dict(node.items())"
   ]
  },
  {
   "cell_type": "code",
   "execution_count": 75,
   "metadata": {},
   "outputs": [],
   "source": [
    "records_list = list(val)\n",
    "node = records_list[0].data().get('n')"
   ]
  },
  {
   "cell_type": "code",
   "execution_count": 76,
   "metadata": {},
   "outputs": [
    {
     "data": {
      "text/plain": [
       "{'datePublished': '2017',\n",
       " 'guid': '10.5072/test9999schemaorgtest',\n",
       " 'name': 'GTEx Public Files'}"
      ]
     },
     "execution_count": 76,
     "metadata": {},
     "output_type": "execute_result"
    }
   ],
   "source": [
    "node.properties"
   ]
  },
  {
   "cell_type": "code",
   "execution_count": 80,
   "metadata": {},
   "outputs": [
    {
     "data": {
      "text/plain": [
       "{'datePublished': '2017',\n",
       " 'guid': '10.5072/test9999schemaorgtest',\n",
       " 'name': 'GTEx Public Files'}"
      ]
     },
     "execution_count": 80,
     "metadata": {},
     "output_type": "execute_result"
    }
   ],
   "source": [
    "node.properties"
   ]
  },
  {
   "cell_type": "code",
   "execution_count": 85,
   "metadata": {},
   "outputs": [],
   "source": [
    "def unpackNode(rec):\n",
    "    node = rec.data().get('n')\n",
    "    \n",
    "    node_obj = {\n",
    "        'labels': node.labels,\n",
    "        'properties': node.properties\n",
    "    }\n",
    "    return node_obj"
   ]
  },
  {
   "cell_type": "code",
   "execution_count": 86,
   "metadata": {},
   "outputs": [
    {
     "data": {
      "text/plain": [
       "[{'labels': {'DataCatalog', 'Doi'},\n",
       "  'properties': {'datePublished': '2017',\n",
       "   'guid': '10.5072/test9999schemaorgtest',\n",
       "   'name': 'GTEx Public Files'}},\n",
       " {'labels': {'Author', 'Org'}, 'properties': {'name': 'The GTEx Consortium'}},\n",
       " {'labels': {'Funder', 'Org'},\n",
       "  'properties': {'guid': 'doi:/10.13039/100000050',\n",
       "   'name': 'National Heart, Lung, and Blood Institute'}}]"
      ]
     },
     "execution_count": 86,
     "metadata": {},
     "output_type": "execute_result"
    }
   ],
   "source": [
    "[unpackNode(rec) for rec in val]"
   ]
  },
  {
   "cell_type": "code",
   "execution_count": null,
   "metadata": {},
   "outputs": [],
   "source": []
  },
  {
   "cell_type": "code",
   "execution_count": null,
   "metadata": {},
   "outputs": [],
   "source": []
  },
  {
   "cell_type": "code",
   "execution_count": 146,
   "metadata": {},
   "outputs": [],
   "source": [
    "from Crypto.Cipher import AES\n",
    "from Crypto import Random\n",
    "import base64"
   ]
  },
  {
   "cell_type": "code",
   "execution_count": 105,
   "metadata": {},
   "outputs": [],
   "source": [
    "key = b'\\xc5\\x89\\x01)\\xecC\\xe2\\x00L\\xd3\\xc2\\x82+\\xec\\xb1r'\n",
    "iv = b'\\x1a\\xe6\\xd6\\x95\\xf0e\\x10eb$\\x81\\xad\\x8c\\xd7;\\xf1'"
   ]
  },
  {
   "cell_type": "code",
   "execution_count": 302,
   "metadata": {},
   "outputs": [
    {
     "ename": "TypeError",
     "evalue": "'counter' keyword parameter is required with CTR mode",
     "output_type": "error",
     "traceback": [
      "\u001b[0;31m---------------------------------------------------------------------------\u001b[0m",
      "\u001b[0;31mTypeError\u001b[0m                                 Traceback (most recent call last)",
      "\u001b[0;32m<ipython-input-302-db35224a7842>\u001b[0m in \u001b[0;36m<module>\u001b[0;34m()\u001b[0m\n\u001b[0;32m----> 1\u001b[0;31m \u001b[0mcipher\u001b[0m \u001b[0;34m=\u001b[0m \u001b[0mAES\u001b[0m\u001b[0;34m.\u001b[0m\u001b[0mnew\u001b[0m\u001b[0;34m(\u001b[0m\u001b[0mkey\u001b[0m\u001b[0;34m,\u001b[0m \u001b[0mAES\u001b[0m\u001b[0;34m.\u001b[0m\u001b[0mMODE_CTR\u001b[0m\u001b[0;34m,\u001b[0m \u001b[0miv\u001b[0m\u001b[0;34m)\u001b[0m\u001b[0;34m\u001b[0m\u001b[0m\n\u001b[0m",
      "\u001b[0;32m/anaconda3/lib/python3.6/site-packages/Crypto/Cipher/AES.py\u001b[0m in \u001b[0;36mnew\u001b[0;34m(key, *args, **kwargs)\u001b[0m\n\u001b[1;32m     93\u001b[0m     \u001b[0;34m:\u001b[0m\u001b[0mReturn\u001b[0m\u001b[0;34m:\u001b[0m \u001b[0man\u001b[0m\u001b[0;31m \u001b[0m\u001b[0;31m`\u001b[0m\u001b[0mAESCipher\u001b[0m\u001b[0;31m`\u001b[0m \u001b[0mobject\u001b[0m\u001b[0;34m\u001b[0m\u001b[0m\n\u001b[1;32m     94\u001b[0m     \"\"\"\n\u001b[0;32m---> 95\u001b[0;31m     \u001b[0;32mreturn\u001b[0m \u001b[0mAESCipher\u001b[0m\u001b[0;34m(\u001b[0m\u001b[0mkey\u001b[0m\u001b[0;34m,\u001b[0m \u001b[0;34m*\u001b[0m\u001b[0margs\u001b[0m\u001b[0;34m,\u001b[0m \u001b[0;34m**\u001b[0m\u001b[0mkwargs\u001b[0m\u001b[0;34m)\u001b[0m\u001b[0;34m\u001b[0m\u001b[0m\n\u001b[0m\u001b[1;32m     96\u001b[0m \u001b[0;34m\u001b[0m\u001b[0m\n\u001b[1;32m     97\u001b[0m \u001b[0;31m#: Electronic Code Book (ECB). See `blockalgo.MODE_ECB`.\u001b[0m\u001b[0;34m\u001b[0m\u001b[0;34m\u001b[0m\u001b[0m\n",
      "\u001b[0;32m/anaconda3/lib/python3.6/site-packages/Crypto/Cipher/AES.py\u001b[0m in \u001b[0;36m__init__\u001b[0;34m(self, key, *args, **kwargs)\u001b[0m\n\u001b[1;32m     57\u001b[0m \u001b[0;34m\u001b[0m\u001b[0m\n\u001b[1;32m     58\u001b[0m         See also `new()` at the module level.\"\"\"\n\u001b[0;32m---> 59\u001b[0;31m         \u001b[0mblockalgo\u001b[0m\u001b[0;34m.\u001b[0m\u001b[0mBlockAlgo\u001b[0m\u001b[0;34m.\u001b[0m\u001b[0m__init__\u001b[0m\u001b[0;34m(\u001b[0m\u001b[0mself\u001b[0m\u001b[0;34m,\u001b[0m \u001b[0m_AES\u001b[0m\u001b[0;34m,\u001b[0m \u001b[0mkey\u001b[0m\u001b[0;34m,\u001b[0m \u001b[0;34m*\u001b[0m\u001b[0margs\u001b[0m\u001b[0;34m,\u001b[0m \u001b[0;34m**\u001b[0m\u001b[0mkwargs\u001b[0m\u001b[0;34m)\u001b[0m\u001b[0;34m\u001b[0m\u001b[0m\n\u001b[0m\u001b[1;32m     60\u001b[0m \u001b[0;34m\u001b[0m\u001b[0m\n\u001b[1;32m     61\u001b[0m \u001b[0;32mdef\u001b[0m \u001b[0mnew\u001b[0m\u001b[0;34m(\u001b[0m\u001b[0mkey\u001b[0m\u001b[0;34m,\u001b[0m \u001b[0;34m*\u001b[0m\u001b[0margs\u001b[0m\u001b[0;34m,\u001b[0m \u001b[0;34m**\u001b[0m\u001b[0mkwargs\u001b[0m\u001b[0;34m)\u001b[0m\u001b[0;34m:\u001b[0m\u001b[0;34m\u001b[0m\u001b[0m\n",
      "\u001b[0;32m/anaconda3/lib/python3.6/site-packages/Crypto/Cipher/blockalgo.py\u001b[0m in \u001b[0;36m__init__\u001b[0;34m(self, factory, key, *args, **kwargs)\u001b[0m\n\u001b[1;32m    139\u001b[0m \u001b[0;34m\u001b[0m\u001b[0m\n\u001b[1;32m    140\u001b[0m         \u001b[0;32mif\u001b[0m \u001b[0mself\u001b[0m\u001b[0;34m.\u001b[0m\u001b[0mmode\u001b[0m \u001b[0;34m!=\u001b[0m \u001b[0mMODE_OPENPGP\u001b[0m\u001b[0;34m:\u001b[0m\u001b[0;34m\u001b[0m\u001b[0m\n\u001b[0;32m--> 141\u001b[0;31m             \u001b[0mself\u001b[0m\u001b[0;34m.\u001b[0m\u001b[0m_cipher\u001b[0m \u001b[0;34m=\u001b[0m \u001b[0mfactory\u001b[0m\u001b[0;34m.\u001b[0m\u001b[0mnew\u001b[0m\u001b[0;34m(\u001b[0m\u001b[0mkey\u001b[0m\u001b[0;34m,\u001b[0m \u001b[0;34m*\u001b[0m\u001b[0margs\u001b[0m\u001b[0;34m,\u001b[0m \u001b[0;34m**\u001b[0m\u001b[0mkwargs\u001b[0m\u001b[0;34m)\u001b[0m\u001b[0;34m\u001b[0m\u001b[0m\n\u001b[0m\u001b[1;32m    142\u001b[0m             \u001b[0mself\u001b[0m\u001b[0;34m.\u001b[0m\u001b[0mIV\u001b[0m \u001b[0;34m=\u001b[0m \u001b[0mself\u001b[0m\u001b[0;34m.\u001b[0m\u001b[0m_cipher\u001b[0m\u001b[0;34m.\u001b[0m\u001b[0mIV\u001b[0m\u001b[0;34m\u001b[0m\u001b[0m\n\u001b[1;32m    143\u001b[0m         \u001b[0;32melse\u001b[0m\u001b[0;34m:\u001b[0m\u001b[0;34m\u001b[0m\u001b[0m\n",
      "\u001b[0;31mTypeError\u001b[0m: 'counter' keyword parameter is required with CTR mode"
     ]
    }
   ],
   "source": [
    "cipher = AES.new(key, AES.MODE_CTR, iv)"
   ]
  },
  {
   "cell_type": "code",
   "execution_count": 285,
   "metadata": {},
   "outputs": [],
   "source": [
    "message = \"hello my name is max\""
   ]
  },
  {
   "cell_type": "code",
   "execution_count": 269,
   "metadata": {},
   "outputs": [],
   "source": [
    "BS = 16\n",
    "pad = lambda s: s + (BS - len(s) % BS) * chr(BS - len(s) % BS) \n",
    "unpad = lambda s : s[:-ord(s[len(s)-1:])]"
   ]
  },
  {
   "cell_type": "code",
   "execution_count": null,
   "metadata": {},
   "outputs": [],
   "source": [
    "\n"
   ]
  },
  {
   "cell_type": "code",
   "execution_count": 295,
   "metadata": {},
   "outputs": [
    {
     "data": {
      "text/plain": [
       "'hello my name is max\\x0c\\x0c\\x0c\\x0c\\x0c\\x0c\\x0c\\x0c\\x0c\\x0c\\x0c\\x0c'"
      ]
     },
     "execution_count": 295,
     "metadata": {},
     "output_type": "execute_result"
    }
   ],
   "source": [
    "pad(message)"
   ]
  },
  {
   "cell_type": "code",
   "execution_count": 300,
   "metadata": {},
   "outputs": [],
   "source": [
    "encrypted = cipher.encrypt(pad(message) )"
   ]
  },
  {
   "cell_type": "code",
   "execution_count": 301,
   "metadata": {},
   "outputs": [
    {
     "data": {
      "text/plain": [
       "b'\\xdb\\x80\\x07\\x1a1\\xd8d\\xaajm\\x8fn_\\x89,Zi}\\xb1`\\xc7\\xabJ\\xc9\\xec\\xc4:q\\xf9\\xf0)\\xd0'"
      ]
     },
     "execution_count": 301,
     "metadata": {},
     "output_type": "execute_result"
    }
   ],
   "source": [
    "encrypted"
   ]
  },
  {
   "cell_type": "code",
   "execution_count": 279,
   "metadata": {},
   "outputs": [
    {
     "data": {
      "text/plain": [
       "b'E2AVjiaNtJh8/tIl9ECYjjjYSKJRXLtfDQ4jtPPMOMw='"
      ]
     },
     "execution_count": 279,
     "metadata": {},
     "output_type": "execute_result"
    }
   ],
   "source": [
    "enc = base64.b64encode(encrypted)\n",
    "enc"
   ]
  },
  {
   "cell_type": "code",
   "execution_count": 280,
   "metadata": {},
   "outputs": [
    {
     "data": {
      "text/plain": [
       "b'\\x13`\\x15\\x8e&\\x8d\\xb4\\x98|\\xfe\\xd2%\\xf4@\\x98\\x8e8\\xd8H\\xa2Q\\\\\\xbb_\\r\\x0e#\\xb4\\xf3\\xcc8\\xcc'"
      ]
     },
     "execution_count": 280,
     "metadata": {},
     "output_type": "execute_result"
    }
   ],
   "source": [
    "dec = base64.b64decode(enc)\n",
    "dec"
   ]
  },
  {
   "cell_type": "code",
   "execution_count": 281,
   "metadata": {},
   "outputs": [
    {
     "data": {
      "text/plain": [
       "b'J[\\xf2[\\xce\\x19\\xc6COD\\xc3t\\x1a;jN max\\x0c\\x0c\\x0c\\x0c\\x0c\\x0c\\x0c\\x0c\\x0c\\x0c\\x0c\\x0c'"
      ]
     },
     "execution_count": 281,
     "metadata": {},
     "output_type": "execute_result"
    }
   ],
   "source": [
    "cipher.decrypt(dec)"
   ]
  },
  {
   "cell_type": "code",
   "execution_count": 242,
   "metadata": {},
   "outputs": [
    {
     "data": {
      "text/plain": [
       "b''"
      ]
     },
     "execution_count": 242,
     "metadata": {},
     "output_type": "execute_result"
    }
   ],
   "source": []
  },
  {
   "cell_type": "code",
   "execution_count": 311,
   "metadata": {},
   "outputs": [],
   "source": [
    "import base64\n",
    "import hashlib\n",
    "from Crypto import Random\n",
    "from Crypto.Cipher import AES\n",
    "\n",
    "class AESCipher(object):\n",
    "\n",
    "    def __init__(self, key, iv): \n",
    "        self.bs = 32\n",
    "        self.key = hashlib.sha256(key.encode()).digest()\n",
    "        self.iv = iv\n",
    "\n",
    "        \n",
    "    def encrypt(self, raw):\n",
    "        raw = self._pad(raw)\n",
    "        cipher = AES.new(self.key, AES.MODE_CBC, self.iv)\n",
    "        return base64.b64encode(iv + cipher.encrypt(raw))\n",
    "\n",
    "    def decrypt(self, enc):\n",
    "        enc = base64.b64decode(enc)\n",
    "        iv = enc[:AES.block_size]\n",
    "        cipher = AES.new(self.key, AES.MODE_CBC, iv)\n",
    "        return self._unpad(cipher.decrypt(enc[AES.block_size:])).decode('utf-8')\n",
    "\n",
    "    def _pad(self, s):\n",
    "        return s + (self.bs - len(s) % self.bs) * chr(self.bs - len(s) % self.bs)\n",
    "\n",
    "    @staticmethod\n",
    "    def _unpad(s):\n",
    "        return s[:-ord(s[len(s)-1:])]"
   ]
  },
  {
   "cell_type": "code",
   "execution_count": 305,
   "metadata": {},
   "outputs": [],
   "source": [
    "myCipher = AESCipher(\"myrandomkey\")"
   ]
  },
  {
   "cell_type": "code",
   "execution_count": 331,
   "metadata": {},
   "outputs": [],
   "source": [
    "encrypted = myCipher.encrypt(\"hello \")"
   ]
  },
  {
   "cell_type": "code",
   "execution_count": null,
   "metadata": {},
   "outputs": [],
   "source": []
  },
  {
   "cell_type": "code",
   "execution_count": 336,
   "metadata": {},
   "outputs": [
    {
     "data": {
      "text/plain": [
       "True"
      ]
     },
     "execution_count": 336,
     "metadata": {},
     "output_type": "execute_result"
    }
   ],
   "source": [
    "encrypted.decode().encode() == encrypted"
   ]
  },
  {
   "cell_type": "code",
   "execution_count": null,
   "metadata": {},
   "outputs": [],
   "source": []
  },
  {
   "cell_type": "code",
   "execution_count": 307,
   "metadata": {},
   "outputs": [
    {
     "data": {
      "text/plain": [
       "'hello '"
      ]
     },
     "execution_count": 307,
     "metadata": {},
     "output_type": "execute_result"
    }
   ],
   "source": [
    "myCipher.decrypt(b'27lE5fdesFDPqNGFjl+8+cxeDwQCYLxXnyguv0oon4mzQiHYwBZkuaZ/T4cW1ghv')"
   ]
  },
  {
   "cell_type": "code",
   "execution_count": 308,
   "metadata": {},
   "outputs": [
    {
     "name": "stdout",
     "output_type": "stream",
     "text": [
      "Help on built-in function ord in module builtins:\n",
      "\n",
      "ord(c, /)\n",
      "    Return the Unicode code point for a one-character string.\n",
      "\n"
     ]
    }
   ],
   "source": [
    "help(ord)"
   ]
  },
  {
   "cell_type": "code",
   "execution_count": 309,
   "metadata": {},
   "outputs": [
    {
     "name": "stdout",
     "output_type": "stream",
     "text": [
      "Help on built-in function chr in module builtins:\n",
      "\n",
      "chr(i, /)\n",
      "    Return a Unicode string of one character with ordinal i; 0 <= i <= 0x10ffff.\n",
      "\n"
     ]
    }
   ],
   "source": [
    "help(chr)"
   ]
  },
  {
   "cell_type": "code",
   "execution_count": 315,
   "metadata": {},
   "outputs": [],
   "source": [
    "def pad(s):\n",
    "\n",
    "    return s + (32 - len(s) % 32) * chr(32 - len(s) % 32)"
   ]
  },
  {
   "cell_type": "code",
   "execution_count": 318,
   "metadata": {},
   "outputs": [
    {
     "data": {
      "text/plain": [
       "'hi\\x1e\\x1e\\x1e\\x1e\\x1e\\x1e\\x1e\\x1e\\x1e\\x1e\\x1e\\x1e\\x1e\\x1e\\x1e\\x1e\\x1e\\x1e\\x1e\\x1e\\x1e\\x1e\\x1e\\x1e\\x1e\\x1e\\x1e\\x1e\\x1e\\x1e'"
      ]
     },
     "execution_count": 318,
     "metadata": {},
     "output_type": "execute_result"
    }
   ],
   "source": [
    "pad('hi')"
   ]
  },
  {
   "cell_type": "code",
   "execution_count": 324,
   "metadata": {},
   "outputs": [
    {
     "data": {
      "text/plain": [
       "4"
      ]
     },
     "execution_count": 324,
     "metadata": {},
     "output_type": "execute_result"
    }
   ],
   "source": [
    "32- ord(chr(32 - 4 % 32))"
   ]
  },
  {
   "cell_type": "code",
   "execution_count": 327,
   "metadata": {},
   "outputs": [
    {
     "ename": "TypeError",
     "evalue": "string argument without an encoding",
     "output_type": "error",
     "traceback": [
      "\u001b[0;31m---------------------------------------------------------------------------\u001b[0m",
      "\u001b[0;31mTypeError\u001b[0m                                 Traceback (most recent call last)",
      "\u001b[0;32m<ipython-input-327-53534e19a3a3>\u001b[0m in \u001b[0;36m<module>\u001b[0;34m()\u001b[0m\n\u001b[0;32m----> 1\u001b[0;31m \u001b[0mbytes\u001b[0m\u001b[0;34m(\u001b[0m\u001b[0mstr\u001b[0m\u001b[0;34m(\u001b[0m\u001b[0;34mb'27lE5fdesFDPqNGFjl+8+cxeDwQCYLxXnyguv0oon4mzQiHYwBZkuaZ/T4cW1ghv'\u001b[0m\u001b[0;34m)\u001b[0m\u001b[0;34m)\u001b[0m\u001b[0;34m\u001b[0m\u001b[0m\n\u001b[0m",
      "\u001b[0;31mTypeError\u001b[0m: string argument without an encoding"
     ]
    }
   ],
   "source": [
    "bytes(str(b'27lE5fdesFDPqNGFjl+8+cxeDwQCYLxXnyguv0oon4mzQiHYwBZkuaZ/T4cW1ghv'))"
   ]
  },
  {
   "cell_type": "code",
   "execution_count": 326,
   "metadata": {},
   "outputs": [
    {
     "ename": "TypeError",
     "evalue": "string argument without an encoding",
     "output_type": "error",
     "traceback": [
      "\u001b[0;31m---------------------------------------------------------------------------\u001b[0m",
      "\u001b[0;31mTypeError\u001b[0m                                 Traceback (most recent call last)",
      "\u001b[0;32m<ipython-input-326-90e8d91ce547>\u001b[0m in \u001b[0;36m<module>\u001b[0;34m()\u001b[0m\n\u001b[0;32m----> 1\u001b[0;31m \u001b[0mbytes\u001b[0m\u001b[0;34m(\u001b[0m\u001b[0;34m\"b'27lE5fdesFDPqNGFjl+8+cxeDwQCYLxXnyguv0oon4mzQiHYwBZkuaZ/T4cW1ghv'\"\u001b[0m\u001b[0;34m)\u001b[0m\u001b[0;34m\u001b[0m\u001b[0m\n\u001b[0m",
      "\u001b[0;31mTypeError\u001b[0m: string argument without an encoding"
     ]
    }
   ],
   "source": []
  },
  {
   "cell_type": "code",
   "execution_count": null,
   "metadata": {},
   "outputs": [],
   "source": []
  }
 ],
 "metadata": {
  "kernelspec": {
   "display_name": "Python 3",
   "language": "python",
   "name": "python3"
  },
  "language_info": {
   "codemirror_mode": {
    "name": "ipython",
    "version": 3
   },
   "file_extension": ".py",
   "mimetype": "text/x-python",
   "name": "python",
   "nbconvert_exporter": "python",
   "pygments_lexer": "ipython3",
   "version": "3.6.4"
  }
 },
 "nbformat": 4,
 "nbformat_minor": 2
}
