{
 "cells": [
  {
   "cell_type": "markdown",
   "metadata": {},
   "source": [
    "### Perspective User: Bioinformatician\n",
    "Use case would be “A recent GWAS paper said genetic variant rs1361754 is important for heart health, I want to know if that rs-number effects gene expression a.k.a. has any eQTLs.\n",
    "\n",
    "#### Overview of Steps\n",
    "\n",
    "#1) Use the correct GUID to download the GTEx file “GTEx_Analysis_v7_eQTL.tar.gz”\n",
    "#2) tar xf GTEx_Analysis_v7_eQTL.tar.gz\n",
    "#2) Convert the dbSNP variant id “rs1361754” to GTEx’s variant id “1_205801872_A_G_b37”\n",
    "#3) Grep all significant eQTLs with the variant id “1_205801872_A_G_b37” from all tissue files\n",
    "#4) Convert Gencode gene id’s in the grep results to HGNC gene symbols\n",
    "#5) Create new GUID for resulting file"
   ]
  },
  {
   "cell_type": "markdown",
   "metadata": {},
   "source": [
    "## Behind the Scenes Minting the Identifiers\n",
    "\n",
    "### Invisibe to the user, data stewards have responsibility for minting GUIDs"
   ]
  },
  {
   "cell_type": "code",
   "execution_count": 3,
   "metadata": {},
   "outputs": [],
   "source": [
    "ADDR = \"http://54.242.133.97\"\n",
    "BAGIT = \"http://52.204.34.204\""
   ]
  },
  {
   "cell_type": "code",
   "execution_count": 14,
   "metadata": {},
   "outputs": [
    {
     "name": "stdout",
     "output_type": "stream",
     "text": [
      "201\n",
      "201\n",
      "201\n"
     ]
    }
   ],
   "source": [
    "# Build Test Identifiers\n",
    "import requests\n",
    "import json\n",
    "\n",
    "# Data Catalog\n",
    "gtex = {\"@context\" : \"http://schema.org\", \n",
    "        \"@id\" : \"ark:/99999/fk4DownloadTestDC\", \n",
    "        \"@type\": \"DataCatalog\", \n",
    "        \"identifier\": \"https://www.gtexportal.org/home/\", \n",
    "        \"name\": \"GTEx Portal\"}  \n",
    "\n",
    "# Dataset\n",
    "gtex_eQTL = {\"@context\": \"http://schema.org\",\n",
    "        \"@type\": \"Dataset\",\n",
    "        \"@id\": \"ark:/99999/fk4DownloadTestDS\", \n",
    "        \"identifier\": \"ark:/99999/fk4DownloadTestDS\", \n",
    "        \"includedInDataCatalog\": \"ark:/99999/fk4DownloadTestDC\", \n",
    "        \"dateCreated\": \"01-29-2018\"}\n",
    "\n",
    "# DataDownload\n",
    "gtex_eQTL_download = {\"@context\": \"http://schema.org\",\n",
    "        \"@type\": \"DatasetDownload\" , \n",
    "        \"@id\": \"ark:/99999/fk4DownloadTestDD\",\n",
    "        \"identifier\": \"ark:/99999/fk4DownloadTestDD\", \n",
    "        \"version\": \"1.0.0\", \n",
    "        \"includedInDataset\": \"ark:/99999/fk4DownloadTestDS\", \n",
    "        \"contentSize\": \" bytes\", \n",
    "        \"fileFormat\": \".tar.gz\",\n",
    "        \"contentUrl\": \"http://s3.amazonaws.com/dcppc/test.txt\",\n",
    "        \"checksum\": \"madeupchecksum123\",\n",
    "        \"checksumMethod\": \"md5\",\n",
    "        \"filename\": \"test.txt\"}\n",
    "\n",
    "# basic authentication\n",
    "basicAuth = requests.auth.HTTPBasicAuth('apitest', 'apitest')\n",
    "\n",
    "response =  requests.put(\n",
    "    url = ADDR+'/mint',\n",
    "    auth = basicAuth,\n",
    "    data = json.dumps(gtex)\n",
    ")\n",
    "\n",
    "print(response.status_code)\n",
    "\n",
    "response =  requests.put(\n",
    "    url = ADDR+'/mint',\n",
    "    auth = basicAuth,\n",
    "    data = json.dumps(gtex_eQTL)\n",
    ")\n",
    "print(response.status_code)\n",
    "\n",
    "response =  requests.put(\n",
    "    url = ADDR+'/mint',\n",
    "    auth = basicAuth,\n",
    "    data = json.dumps(gtex_eQTL_download)\n",
    ")\n",
    "\n",
    "print(response.status_code)"
   ]
  },
  {
   "cell_type": "code",
   "execution_count": 10,
   "metadata": {},
   "outputs": [
    {
     "data": {
      "text/plain": [
       "<Response [200]>"
      ]
     },
     "execution_count": 10,
     "metadata": {},
     "output_type": "execute_result"
    }
   ],
   "source": [
    "requests.delete(\n",
    "    url=ADDR+'/ark:/99999/fk4DownloadTestDD',\n",
    "    auth=basicAuth\n",
    ")\n",
    "\n",
    "requests.delete(\n",
    "    url=ADDR+'/ark:/99999/fk4DownloadTestDS',\n",
    "    auth=basicAuth\n",
    ")\n",
    "\n",
    "requests.delete(\n",
    "    url=ADDR+'/ark:/99999/fk4DownloadTestDC',\n",
    "    auth=basicAuth\n",
    ")"
   ]
  },
  {
   "cell_type": "markdown",
   "metadata": {},
   "source": [
    "### Finding the File\n",
    "- Landing page for the service generated from Identifier Level metadata\n",
    "    - http:// ark:/99999/fk4DownloadTestDD \n",
    "- Resolving to a bucket using api\n",
    "    - download directly or using cloud provider tools\n",
    "- Build a Bag Using the BagIt Service\n",
    "    - fetch the files"
   ]
  },
  {
   "cell_type": "code",
   "execution_count": 17,
   "metadata": {},
   "outputs": [],
   "source": [
    "# Using the API find the content url\n",
    "# transfer using cloud provider tools\n",
    "api_response = requests.get(url = ADDR+'/ark:/99999/fk4DownloadTestDD', headers= {\"Accept\":\"application/json\"})"
   ]
  },
  {
   "cell_type": "code",
   "execution_count": 20,
   "metadata": {},
   "outputs": [
    {
     "data": {
      "text/plain": [
       "'http://s3.amazonaws.com/dcppc/test.txt'"
      ]
     },
     "execution_count": 20,
     "metadata": {},
     "output_type": "execute_result"
    }
   ],
   "source": [
    "data = api_response.json()\n",
    "data.get('contentUrl', None)"
   ]
  },
  {
   "cell_type": "code",
   "execution_count": 45,
   "metadata": {},
   "outputs": [],
   "source": [
    "# transfer using AWS tools\n",
    "import boto3\n",
    "s3_resource = boto3.resource(\"s3\")\n",
    "bucket = s3_resource.Bucket('dcppctest')\n",
    "\n",
    "with open('test.txt', 'wb') as data:\n",
    "    bucket.download_fileobj('test.txt', data)\n"
   ]
  },
  {
   "cell_type": "code",
   "execution_count": 35,
   "metadata": {},
   "outputs": [],
   "source": [
    "# Build a Bag, which can then be built with the \n",
    "response = requests.get(url = BAGIT+'/bag/ark:/99999/fk4DownloadTestDS')\n",
    "assert response.status_code == 200"
   ]
  },
  {
   "cell_type": "code",
   "execution_count": 41,
   "metadata": {},
   "outputs": [],
   "source": [
    "# save response content as bagit.zip\n",
    "with open('bagit.zip', 'wb') as bag:\n",
    "    bag.write(response.content)\n",
    "    \n",
    "# unzip file\n",
    "import zipfile\n",
    "with zipfile.ZipFile(\"bagit.zip\",\"r\") as zip_ref:\n",
    "    zip_ref.extractall()\n",
    "\n",
    "# use bag utilities to fetch files"
   ]
  },
  {
   "cell_type": "code",
   "execution_count": 46,
   "metadata": {},
   "outputs": [],
   "source": [
    "#Import seven bridges\n",
    "\n",
    "# Do some amazing research that outputs a file\n",
    "\n",
    "with open(\"research.txt\", 'w') as research:\n",
    "    research.write('My Awesome Research')"
   ]
  },
  {
   "cell_type": "code",
   "execution_count": 50,
   "metadata": {},
   "outputs": [],
   "source": [
    "# Upload the resulting analysis to the Cloud\n",
    "# upload to an s3 bucket in the cloud\n",
    "s3_client = boto3.client(\"s3\")\n",
    "\n",
    "with open(\"research.txt\", \"rb\") as f:\n",
    "    s3_client.upload_fileobj(f, \"dcppctest\", \"analysis\")"
   ]
  },
  {
   "cell_type": "code",
   "execution_count": 33,
   "metadata": {},
   "outputs": [],
   "source": [
    "# Mint a Minid Identifier for our new analysis file\n",
    "\n",
    "\n",
    "analysis = {\"identifier\": \"ark:/99999/fk4r8776t\",\n",
    "            \"created\": \"2015-11-10 04:44:44.387671\",\n",
    "            \"creator\": \"0000-0003-2129-5269\",\n",
    "            \"checksum\": \"cacc1abf711425d3c554277a5989df269cefaa906d27f1aaa72205d30224ed5f\",\n",
    "            \"checksumMethod\": \"sha1\",\n",
    "            \"status\": \"ACTIVE\",\n",
    "            \"locations\": [\"http://http://s3.amazonaws.com/dcppctest/analysis\"],\n",
    "            \"titles\": [\"minid: A BD2K Minimal Viable Identifier Pilot v0.1\"]}\n",
    "\n",
    "response = requests.put(\n",
    "    url = ADDR+'/mint',\n",
    "    auth = basicAuth,\n",
    "    data = json.dumps(analysis)\n",
    ")\n"
   ]
  },
  {
   "cell_type": "code",
   "execution_count": 34,
   "metadata": {},
   "outputs": [
    {
     "data": {
      "text/plain": [
       "201"
      ]
     },
     "execution_count": 34,
     "metadata": {},
     "output_type": "execute_result"
    }
   ],
   "source": [
    "response.status_code"
   ]
  },
  {
   "cell_type": "code",
   "execution_count": null,
   "metadata": {},
   "outputs": [],
   "source": []
  },
  {
   "cell_type": "markdown",
   "metadata": {},
   "source": [
    "# Analysis now Has a landing page!\n",
    "\n",
    "http://54.242.133.97/ark:/99999/fk4r8776t"
   ]
  },
  {
   "cell_type": "code",
   "execution_count": null,
   "metadata": {},
   "outputs": [],
   "source": []
  }
 ],
 "metadata": {
  "kernelspec": {
   "display_name": "Python 3",
   "language": "python",
   "name": "python3"
  },
  "language_info": {
   "codemirror_mode": {
    "name": "ipython",
    "version": 3
   },
   "file_extension": ".py",
   "mimetype": "text/x-python",
   "name": "python",
   "nbconvert_exporter": "python",
   "pygments_lexer": "ipython3",
   "version": "3.6.4"
  }
 },
 "nbformat": 4,
 "nbformat_minor": 2
}
