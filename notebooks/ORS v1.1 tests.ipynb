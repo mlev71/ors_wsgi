{
 "cells": [
  {
   "cell_type": "code",
   "execution_count": 1,
   "metadata": {},
   "outputs": [],
   "source": [
    "import requests\n",
    "import json\n",
    "from time import sleep"
   ]
  },
  {
   "cell_type": "code",
   "execution_count": 2,
   "metadata": {},
   "outputs": [],
   "source": [
    "# quiet warnings for local testing\n",
    "from requests.packages.urllib3.exceptions import InsecureRequestWarning\n",
    "requests.packages.urllib3.disable_warnings(InsecureRequestWarning)"
   ]
  },
  {
   "cell_type": "markdown",
   "metadata": {},
   "source": [
    "## Get Access Token from Visiting Site\n",
    "\n",
    "#### TODO add POST /token path to return a valid access token \n",
    "    based on email and username  "
   ]
  },
  {
   "cell_type": "code",
   "execution_count": 334,
   "metadata": {},
   "outputs": [],
   "source": [
    "ACCESS_TOKEN =\"AglelDrxP41EozEGrxQzOn35vVk1mDgQKjzQ8Jp948mKBayaD6u8Cm4glPwyNvwDbrE760ekpQ61gvIJ7bpDNiy0bdtea23HJy8l\"\n",
    "AC = \"?access_token=\" + ACCESS_TOKEN\n",
    "REFRESH_TOKEN = \"Ag8bzYrgxJQ4YllpD7E4a3D9jngw9jYg8elkovjN0MKeoyEz0dUaU76nGbv4kl0Yw38nOBoXz5m52z2EDK2DnM1aYV0ok\"\n",
    "RE = \"?refresh_token=\" + REFRESH_TOKEN"
   ]
  },
  {
   "cell_type": "code",
   "execution_count": 335,
   "metadata": {},
   "outputs": [],
   "source": [
    "ACCESS = AC"
   ]
  },
  {
   "cell_type": "code",
   "execution_count": 12,
   "metadata": {},
   "outputs": [],
   "source": [
    "# example options, set custom landing page, delete in 6 minutes\n",
    "options = {\n",
    "        \"_target\": 'http://example.com',\n",
    "        \"_status\": 'reserved',\n",
    "        \"ttl\": '360'\n",
    "    } "
   ]
  },
  {
   "cell_type": "markdown",
   "metadata": {},
   "source": [
    "# Data Catalog Test\n",
    "\n",
    "Landing Page : \"https://localhost:8080/dc/landing/ark:/99999/fk4RatDC\""
   ]
  },
  {
   "cell_type": "code",
   "execution_count": 13,
   "metadata": {},
   "outputs": [],
   "source": [
    "dc = {\n",
    "    \"@context\": \"http://schema.org/\",\n",
    "    \"@id\": \"ark:/99999/fk4RatDC\",\n",
    "    \"@type\": \"DataCatalog\",\n",
    "    \"identifier\": \"ark:/99999/fk4RatDC\",\n",
    "    \"name\": \"Rat Genome Database\",\n",
    "    \"url\": \"http://rgd.mcw.edu/\"\n",
    "}\n",
    "\n",
    "# with options \n",
    "dc_options = {\n",
    "    'metadata': dc,\n",
    "    'options': options\n",
    "}"
   ]
  },
  {
   "cell_type": "markdown",
   "metadata": {},
   "source": [
    "### Example Put Request"
   ]
  },
  {
   "cell_type": "code",
   "execution_count": 42,
   "metadata": {},
   "outputs": [
    {
     "data": {
      "text/plain": [
       "{'api': {'messsage': 'error: bad request - identifier already exists',\n",
       "  'status': 400},\n",
       " 'cache': {'created': {'guid': 'ark:/99999/fk4RatDC',\n",
       "   'name': 'Rat Genome Database',\n",
       "   'type': 'DataCatalog',\n",
       "   'url': 'http://rgd.mcw.edu/'}}}"
      ]
     },
     "execution_count": 42,
     "metadata": {},
     "output_type": "execute_result"
    }
   ],
   "source": [
    "dc_response = requests.put(\n",
    "    url = \"https://localhost/dc/put\"+ ACCESS,\n",
    "    data = json.dumps(dc),\n",
    "    verify = False\n",
    ")\n",
    "json.loads(dc_response.content)"
   ]
  },
  {
   "cell_type": "markdown",
   "metadata": {},
   "source": [
    "## Example Put with options\n",
    "\n",
    "Will create an identifier, but also will delete it in 6 minutes"
   ]
  },
  {
   "cell_type": "code",
   "execution_count": 17,
   "metadata": {},
   "outputs": [
    {
     "data": {
      "text/plain": [
       "b'{\"api\": {\"status\": 400, \"messsage\": \"error: bad request - identifier already exists\"}, \"cache\": {\"created\": {\"name\": \"Rat Genome Database\", \"guid\": \"ark:/99999/fk4RatDC\", \"type\": \"DataCatalog\", \"url\": \"http://rgd.mcw.edu/\"}}}'"
      ]
     },
     "execution_count": 17,
     "metadata": {},
     "output_type": "execute_result"
    }
   ],
   "source": [
    "# put with options\n",
    "options_response = requests.put(\n",
    "    url = \"https://localhost/dc/put\"+ ACCESS,\n",
    "    data = json.dumps(dc_options),\n",
    "    verify = False\n",
    ")\n",
    "options_response.content"
   ]
  },
  {
   "cell_type": "markdown",
   "metadata": {},
   "source": [
    "Test if its still there"
   ]
  },
  {
   "cell_type": "code",
   "execution_count": 16,
   "metadata": {},
   "outputs": [
    {
     "data": {
      "text/plain": [
       "b'{\"success\": \"ark:/99999/fk4RatDC\", \"name\": \"Rat Genome Database\", \"url\": \"http://rgd.mcw.edu/\", \"identifier\": \"ark:/99999/fk4RatDC\", \"@context\": \"http://schema.org/\", \"@id\": \"ark:/99999/fk4RatDC\", \"@type\": \"DataCatalog\"}'"
      ]
     },
     "execution_count": 16,
     "metadata": {},
     "output_type": "execute_result"
    }
   ],
   "source": [
    "dc_get_response = requests.get(\n",
    "    url = \"https://localhost/dc/get/ark:/99999/fk4RatDC\" + ACCESS,\n",
    "    verify = False\n",
    ")\n",
    "dc_get_response.content"
   ]
  },
  {
   "cell_type": "markdown",
   "metadata": {},
   "source": [
    "Wait 6 minutes and test again"
   ]
  },
  {
   "cell_type": "code",
   "execution_count": 18,
   "metadata": {},
   "outputs": [
    {
     "ename": "KeyboardInterrupt",
     "evalue": "",
     "output_type": "error",
     "traceback": [
      "\u001b[0;31m---------------------------------------------------------------------------\u001b[0m",
      "\u001b[0;31mKeyboardInterrupt\u001b[0m                         Traceback (most recent call last)",
      "\u001b[0;32m<ipython-input-18-15798a4361fc>\u001b[0m in \u001b[0;36m<module>\u001b[0;34m()\u001b[0m\n\u001b[0;32m----> 1\u001b[0;31m \u001b[0msleep\u001b[0m\u001b[0;34m(\u001b[0m\u001b[0;36m360\u001b[0m\u001b[0;34m)\u001b[0m\u001b[0;34m\u001b[0m\u001b[0m\n\u001b[0m\u001b[1;32m      2\u001b[0m dc_get_response = requests.get(\n\u001b[1;32m      3\u001b[0m     \u001b[0murl\u001b[0m \u001b[0;34m=\u001b[0m \u001b[0;34m\"https://localhost/dc/get/ark:/99999/fk4RatDC\"\u001b[0m \u001b[0;34m+\u001b[0m \u001b[0mACCESS\u001b[0m\u001b[0;34m,\u001b[0m\u001b[0;34m\u001b[0m\u001b[0m\n\u001b[1;32m      4\u001b[0m     \u001b[0mverify\u001b[0m \u001b[0;34m=\u001b[0m \u001b[0;32mFalse\u001b[0m\u001b[0;34m\u001b[0m\u001b[0m\n\u001b[1;32m      5\u001b[0m )\n",
      "\u001b[0;31mKeyboardInterrupt\u001b[0m: "
     ]
    }
   ],
   "source": [
    "sleep(360)\n",
    "dc_get_response = requests.get(\n",
    "    url = \"https://localhost/dc/get/ark:/99999/fk4RatDC\" + ACCESS,\n",
    "    verify = False\n",
    ")\n",
    "dc_get_response.content"
   ]
  },
  {
   "cell_type": "markdown",
   "metadata": {},
   "source": [
    "### Retrieve the identifier metadata from the cache\n",
    "\n",
    "Properties about the Data Catalog itself, not members"
   ]
  },
  {
   "cell_type": "code",
   "execution_count": 35,
   "metadata": {},
   "outputs": [],
   "source": [
    "# get from cache\n",
    "cache_get_response = requests.get(\n",
    "    url = \"https://localhost/cache/get/ark:/99999/fk4RatDC\"+ ACCESS,\n",
    "    verify = False\n",
    ")\n",
    "json.loads(cache_get_response.content.decode('utf-8'))"
   ]
  },
  {
   "cell_type": "markdown",
   "metadata": {},
   "source": [
    "### Delete the DC from the cache"
   ]
  },
  {
   "cell_type": "code",
   "execution_count": 34,
   "metadata": {},
   "outputs": [],
   "source": [
    "# delete from cache\n",
    "cache_delete = requests.delete(\n",
    "    url = \"https://localhost/cache/delete/ark:/99999/fk4RatDC\"+ACCESS,\n",
    "    verify = False\n",
    ")\n",
    "json.loads(cache_delete.content.decode('utf-8'))"
   ]
  },
  {
   "cell_type": "code",
   "execution_count": 23,
   "metadata": {},
   "outputs": [
    {
     "data": {
      "text/plain": [
       "{'cache': {'imported': {'guid': 'ark:/99999/fk4RatDC',\n",
       "   'name': 'Rat Genome Database',\n",
       "   'type': 'DataCatalog',\n",
       "   'url': 'http://rgd.mcw.edu/'}}}"
      ]
     },
     "execution_count": 23,
     "metadata": {},
     "output_type": "execute_result"
    }
   ],
   "source": [
    "# import from ezid to neo4j\n",
    "cache_import = requests.get(\n",
    "    url = \"https://localhost/dc/import/ark:/99999/fk4RatDC\"+ ACCESS,\n",
    "    verify = False\n",
    ")\n",
    "json.loads(cache_import.content.decode('utf-8'))"
   ]
  },
  {
   "cell_type": "markdown",
   "metadata": {},
   "source": [
    "### Delete from both cache and external API"
   ]
  },
  {
   "cell_type": "code",
   "execution_count": 597,
   "metadata": {},
   "outputs": [
    {
     "name": "stderr",
     "output_type": "stream",
     "text": [
      "/anaconda3/lib/python3.6/site-packages/urllib3/connectionpool.py:858: InsecureRequestWarning: Unverified HTTPS request is being made. Adding certificate verification is strongly advised. See: https://urllib3.readthedocs.io/en/latest/advanced-usage.html#ssl-warnings\n",
      "  InsecureRequestWarning)\n"
     ]
    },
    {
     "data": {
      "text/plain": [
       "b'{\"cache\": {\"metadata\": {\"name\": \"Rat Genome Database\", \"guid\": \"ark:/99999/fk4RatDC\", \"type\": \"DataCatalog\", \"url\": \"http://rgd.mcw.edu/\"}, \"message\": \"Removed from cache\"}, \"api\": {\"status_code\": 200, \"message\": \"success: ark:/99999/fk4RatDC\"}}'"
      ]
     },
     "execution_count": 597,
     "metadata": {},
     "output_type": "execute_result"
    }
   ],
   "source": [
    "dc_delete = requests.delete(\n",
    "    url = \"https://localhost:8080/dc/delete/ark:/99999/fk4RatDC\"+ACCESS,\n",
    "    verify = False\n",
    ")\n",
    "dc_delete.content"
   ]
  },
  {
   "cell_type": "markdown",
   "metadata": {},
   "source": [
    "## ARK test\n",
    "\n",
    "Landing Page https://localhost:8080/ark/landing/ark:/99999/fk4TestDepArk"
   ]
  },
  {
   "cell_type": "code",
   "execution_count": 24,
   "metadata": {},
   "outputs": [],
   "source": [
    "ark = {\n",
    "  \"@context\": \"http://schema.org\",\n",
    "  \"@id\": \"ark:/99999/fk4TestDepArk\",\n",
    "  \"@type\": \"CreativeWork\",\n",
    "    \"includedInDataCatalog\": \"ark:/99999/fk4RatDC\",\n",
    "  \"identifier\": [\n",
    "   \"ark:/88120/r8059v\",\n",
    "   {\n",
    "      \"@type\": \"PropertyValue\",\n",
    "      \"name\": \"sha-256\",\n",
    "      \"value\": \"cacc1abf711425d3c554277a5989df269cefaa906d27f1aaa72205d30224ed5f\"\n",
    "    }\n",
    "  ],\n",
    "  \"url\": \"http://minid.bd2k.org/minid/landingpage/ark:/88120/r8059v\",\n",
    "  \"contentUrl\": {\"aws\": \"http://bd2k.ini.usc.edu/assets/all-hands-meeting/minid_v0.1_Nov_2015.pdf\"},\n",
    "  \"name\": \"minid: A BD2K Minimal Viable Identifier Pilot v0.1\",\n",
    "  \"author\": {\n",
    "    \"@id\": \"http://orcid.org/0000-0003-2129-5269\",\n",
    "    \"@type\": \"Person\",\n",
    "    \"name\": \"Ian Foster\"\n",
    "  },\n",
    "  \"dateCreated\": \"2015-11-10T04:44:44.387671Z\"\n",
    "}\n",
    "\n",
    "ark_options = {\n",
    "    'metadata': ark,\n",
    "    'options': options\n",
    "}\n"
   ]
  },
  {
   "cell_type": "markdown",
   "metadata": {},
   "source": [
    "## Put Ark "
   ]
  },
  {
   "cell_type": "code",
   "execution_count": 52,
   "metadata": {},
   "outputs": [
    {
     "data": {
      "text/plain": [
       "{'api': {'messsage': 'success: ark:/99999/fk4TestDepArk', 'status': 201},\n",
       " 'cache': {'created': {'author': 'Ian Foster',\n",
       "   'dateCreated': '2015-11-10T04:44:44.387671Z',\n",
       "   'guid': 'ark:/99999/fk4TestDepArk',\n",
       "   'name': 'minid: A BD2K Minimal Viable Identifier Pilot v0.1',\n",
       "   'type': 'Dataset',\n",
       "   'url': 'http://minid.bd2k.org/minid/landingpage/ark:/88120/r8059v'}}}"
      ]
     },
     "execution_count": 52,
     "metadata": {},
     "output_type": "execute_result"
    }
   ],
   "source": [
    "local_ark = requests.put(\n",
    "    url = \"https://localhost/ark/put\"+ACCESS,\n",
    "    data = json.dumps(ark),\n",
    "    verify = False\n",
    ")\n",
    "json.loads(local_ark.content.decode('utf-8'))"
   ]
  },
  {
   "cell_type": "markdown",
   "metadata": {},
   "source": [
    "## Put with Options"
   ]
  },
  {
   "cell_type": "code",
   "execution_count": 666,
   "metadata": {},
   "outputs": [
    {
     "data": {
      "text/plain": [
       "b'{\"api\": {\"status\": 201, \"messsage\": \"success: ark:/99999/fk4TestDepArk\"}, \"cache\": {\"created\": {\"name\": \"minid: A BD2K Minimal Viable Identifier Pilot v0.1\", \"guid\": \"ark:/99999/fk4TestDepArk\", \"dateCreated\": \"2015-11-10T04:44:44.387671Z\", \"type\": \"Dataset\", \"author\": \"Ian Foster\", \"url\": \"http://minid.bd2k.org/minid/landingpage/ark:/88120/r8059v\"}}}'"
      ]
     },
     "execution_count": 666,
     "metadata": {},
     "output_type": "execute_result"
    }
   ],
   "source": [
    "local_ark = requests.put(\n",
    "    url = \"https://localhost/ark/put\"+ACCESS,\n",
    "    data = json.dumps(ark_options),\n",
    "    verify = False\n",
    ")\n",
    "json.loads(local_ark.content.decode('utf-8'))"
   ]
  },
  {
   "cell_type": "code",
   "execution_count": 45,
   "metadata": {},
   "outputs": [
    {
     "data": {
      "text/plain": [
       "{'@context': 'http://schema.org',\n",
       " '@id': 'ark:/99999/fk4TestDepArk',\n",
       " '@type': 'CreativeWork',\n",
       " 'author': {'id': 'http://orcid.org/0000-0003-2129-5269',\n",
       "  'name': 'Ian Foster',\n",
       "  'type': 'Person'},\n",
       " 'dateCreated': '2015-11-10T04:44:44.387671Z',\n",
       " 'identifier': ['ark:/88120/r8059v',\n",
       "  {'name': 'sha-256',\n",
       "   'type': 'PropertyValue',\n",
       "   'value': 'cacc1abf711425d3c554277a5989df269cefaa906d27f1aaa72205d30224ed5f'}],\n",
       " 'includedInDataCatalog': 'ark:/99999/fk4RatDC',\n",
       " 'name': 'minid: A BD2K Minimal Viable Identifier Pilot v0.1',\n",
       " 'success': 'ark:/99999/fk4TestDepArk',\n",
       " 'url': 'http://minid.bd2k.org/minid/landingpage/ark:/88120/r8059v'}"
      ]
     },
     "execution_count": 45,
     "metadata": {},
     "output_type": "execute_result"
    }
   ],
   "source": [
    "# get from api\n",
    "api_response = requests.get(\n",
    "    url = \"https://localhost/ark/get/ark:/99999/fk4TestDepArk\"+ACCESS,\n",
    "    verify = False\n",
    ")\n",
    "json.loads(api_response.content)"
   ]
  },
  {
   "cell_type": "code",
   "execution_count": 46,
   "metadata": {},
   "outputs": [
    {
     "data": {
      "text/plain": [
       "{'author': 'Ian Foster',\n",
       " 'dateCreated': '2015-11-10T04:44:44.387671Z',\n",
       " 'guid': 'ark:/99999/fk4TestDepArk',\n",
       " 'name': 'minid: A BD2K Minimal Viable Identifier Pilot v0.1',\n",
       " 'type': 'Dataset',\n",
       " 'url': 'http://minid.bd2k.org/minid/landingpage/ark:/88120/r8059v'}"
      ]
     },
     "execution_count": 46,
     "metadata": {},
     "output_type": "execute_result"
    }
   ],
   "source": [
    "# get from cache\n",
    "cache_get_response = requests.get(\n",
    "    url = \"https://localhost/cache/get/ark:/99999/fk4TestDepArk\"+ACCESS,\n",
    "    verify = False\n",
    ")\n",
    "json.loads(cache_get_response.content)"
   ]
  },
  {
   "cell_type": "code",
   "execution_count": 47,
   "metadata": {},
   "outputs": [
    {
     "data": {
      "text/plain": [
       "{'author': 'Ian Foster',\n",
       " 'dateCreated': '2015-11-10T04:44:44.387671Z',\n",
       " 'guid': 'ark:/99999/fk4TestDepArk',\n",
       " 'name': 'minid: A BD2K Minimal Viable Identifier Pilot v0.1',\n",
       " 'type': 'Dataset',\n",
       " 'url': 'http://minid.bd2k.org/minid/landingpage/ark:/88120/r8059v'}"
      ]
     },
     "execution_count": 47,
     "metadata": {},
     "output_type": "execute_result"
    }
   ],
   "source": [
    "# delete from cache\n",
    "cache_delete = requests.delete(\n",
    "    url = \"https://localhost/cache/delete/ark:/99999/fk4TestDepArk\"+ACCESS,\n",
    "    verify = False\n",
    ")\n",
    "json.loads(cache_delete.content)"
   ]
  },
  {
   "cell_type": "code",
   "execution_count": 59,
   "metadata": {},
   "outputs": [
    {
     "data": {
      "text/plain": [
       "b'<!DOCTYPE HTML PUBLIC \"-//W3C//DTD HTML 3.2 Final//EN\">\\n<title>500 Internal Server Error</title>\\n<h1>Internal Server Error</h1>\\n<p>The server encountered an internal error and was unable to complete your request.  Either the server is overloaded or there is an error in the application.</p>\\n'"
      ]
     },
     "execution_count": 59,
     "metadata": {},
     "output_type": "execute_result"
    }
   ],
   "source": [
    "# import from ezid to neo4j\n",
    "cache_import = requests.get(\n",
    "    url = \"https://localhost/ark/import/ark:/99999/fk4TestDepArk\"+ACCESS,\n",
    "    verify = False\n",
    ")\n",
    "cache_import.content"
   ]
  },
  {
   "cell_type": "markdown",
   "metadata": {},
   "source": [
    "ERROR when self.data.get('identifier') is none"
   ]
  },
  {
   "cell_type": "code",
   "execution_count": 53,
   "metadata": {},
   "outputs": [
    {
     "data": {
      "text/plain": [
       "b'{\"cache\": {\"metadata\": {\"name\": \"minid: A BD2K Minimal Viable Identifier Pilot v0.1\", \"guid\": \"ark:/99999/fk4TestDepArk\", \"dateCreated\": \"2015-11-10T04:44:44.387671Z\", \"type\": \"Dataset\", \"author\": \"Ian Foster\", \"url\": \"http://minid.bd2k.org/minid/landingpage/ark:/88120/r8059v\"}, \"message\": \"Removed from cache\"}, \"api\": {\"status_code\": 200, \"message\": \"success: ark:/99999/fk4TestDepArk\"}}'"
      ]
     },
     "execution_count": 53,
     "metadata": {},
     "output_type": "execute_result"
    }
   ],
   "source": [
    "# delete from all\n",
    "ark_delete = requests.delete(\n",
    "    url = \"https://localhost/ark/delete/ark:/99999/fk4TestDepArk\"+ACCESS,\n",
    "    verify = False\n",
    ")\n",
    "ark_delete.content"
   ]
  },
  {
   "cell_type": "markdown",
   "metadata": {},
   "source": [
    "## DOI Test"
   ]
  },
  {
   "cell_type": "code",
   "execution_count": 418,
   "metadata": {},
   "outputs": [],
   "source": [
    "doi_dc = {\n",
    "    \"@context\": \"http://schema.org\",\n",
    "    \"@type\": \"DataCatalog\",\n",
    "    \"@id\": \"10.5072/test9999schemaorgtest\",\n",
    "    \"identifier\": \"10.5072/test9999schemaorgtest\",\n",
    "    \"additionalType\": \"Data dictionary\",\n",
    "    \"name\": \"GTEx Public Files\",\n",
    "    \"description\": \"A data dictionary that describes each variable in the GTEx_v7_Annotations_SubjectPhenotypesDS.txt\",\n",
    "  \n",
    "    \"author\": {\n",
    "        \"@type\": \"Organization\",\n",
    "        \"name\": \"The GTEx Consortium\"\n",
    "    },\n",
    "  \"keywords\": \"gtex, annotation, phenotype, gene regulation, transcriptomics\",\n",
    "  \"datePublished\": \"2017\",\n",
    "  \"version\": \"v7\",\n",
    "  \"url\": \"https://www.gtexportal.org/home/datasets\",\n",
    "  \"contentSize\": \"5.4 Mb\",\n",
    "  \"funder\": {\n",
    "   \"@type\": \"Organization\",\n",
    "   \"@id\": \"doi:/10.13039/100000050\",\n",
    "   \"name\": \"National Heart, Lung, and Blood Institute\"\n",
    "  }\n",
    "}"
   ]
  },
  {
   "cell_type": "code",
   "execution_count": 448,
   "metadata": {},
   "outputs": [],
   "source": [
    "doi_dataset = {\n",
    "    \"@context\": \"http://schema.org\",\n",
    "    \"@type\": \"Dataset\",\n",
    "    \"@id\": \"10.5072/test9999datatest\",\n",
    "    \"identifier\": [\n",
    "        \"10.5072/test9999datatest\",\n",
    "        {\n",
    "          \"@type\": \"PropertyValue\",\n",
    "          \"name\": \"sha-256\",\n",
    "          \"value\": \"cacc1abf711425d3c554277a5989df269cefaa906d27f1aaa72205d30224ed5f\"\n",
    "        }\n",
    "                  ],\n",
    "    \"includedInDataCatalog\": \"10.5072/test9999schemaorgtest\",\n",
    "    \"name\": \"Download File 1\",\n",
    "    \"description\": \"example download file\",\n",
    "    \"keywords\": \"gtex, annotation, phenotype, gene regulation, transcriptomics\",\n",
    "    \"datePublished\": \"2017\",\n",
    "    \"version\": \"v7\",\n",
    "    \"url\": \"https://www.gtexportal.org/home/datasets\",\n",
    "    \"contentSize\": \"5.4 Mb\",\n",
    "    \"fileFormat\": \"application/vnd.openxmlformats-officedocument.spreadsheetml.sheet\",\n",
    "    \"contentUrl\": [\"aws://examplebucket\", \"gpc://examplebucket\"]\n",
    "}"
   ]
  },
  {
   "cell_type": "code",
   "execution_count": 231,
   "metadata": {},
   "outputs": [],
   "source": [
    "payload = {\n",
    "    \n",
    "    '_profile': 'schema_org',\n",
    "    '_status': '_reserved',\n",
    "    '_target': 'https://example.org/',\n",
    "    'schema_org':  doi\n",
    "}"
   ]
  },
  {
   "cell_type": "code",
   "execution_count": 232,
   "metadata": {},
   "outputs": [
    {
     "data": {
      "text/plain": [
       "'doi:10.5072/test9999schemaorgtest'"
      ]
     },
     "execution_count": 232,
     "metadata": {},
     "output_type": "execute_result"
    }
   ],
   "source": [
    "doi['@id']"
   ]
  },
  {
   "cell_type": "code",
   "execution_count": 273,
   "metadata": {},
   "outputs": [],
   "source": [
    "ezapi_get = requests.get(\n",
    "url = \"https://ez.test.datacite.org/id/\"+doi['@id']\n",
    ")"
   ]
  },
  {
   "cell_type": "code",
   "execution_count": 218,
   "metadata": {},
   "outputs": [
    {
     "data": {
      "text/plain": [
       "{'_created': '',\n",
       " '_datacenter': 'DATACITE.DCPPC',\n",
       " '_export': 'yes',\n",
       " '_profile': 'datacite',\n",
       " '_status': 'reserved',\n",
       " '_target': 'https://example.org/',\n",
       " '_updated': '1529419918',\n",
       " 'datacite': '<?xml version=\"1.0\" encoding=\"UTF-8\"?>%0A<resource xmlns:xsi=\"http://www.w3.org/2001/XMLSchema-instance\" xmlns=\"http://datacite.org/schema/kernel-4\" xsi:schemaLocation=\"http://datacite.org/schema/kernel-4 http://schema.datacite.org/meta/kernel-4/metadata.xsd\">%0A  <identifier identifierType=\"DOI\">10.5072/TEST9999SCHEMAORGTEST</identifier>%0A  <creators/>%0A  <titles>%0A    <title/>%0A  </titles>%0A  <publisher/>%0A  <publicationYear/>%0A  <resourceType resourceTypeGeneral=\"Text\">error</resourceType>%0A  <dates/>%0A  <version/>%0A  <rightsList>%0A    <rights/>%0A  </rightsList>%0A  <descriptions>%0A    <description descriptionType=\"Abstract\"/>%0A  </descriptions>%0A</resource>%0A',\n",
       " 'success': 'doi:10.5072/test9999schemaorgtest'}"
      ]
     },
     "execution_count": 218,
     "metadata": {},
     "output_type": "execute_result"
    }
   ],
   "source": [
    "ingestAnvl(ezapi_get.content.decode('utf-8'))"
   ]
  },
  {
   "cell_type": "code",
   "execution_count": 212,
   "metadata": {},
   "outputs": [],
   "source": []
  },
  {
   "cell_type": "code",
   "execution_count": 373,
   "metadata": {},
   "outputs": [
    {
     "data": {
      "text/plain": [
       "'10.5072/test9999schemaorgtest'"
      ]
     },
     "execution_count": 373,
     "metadata": {},
     "output_type": "execute_result"
    }
   ],
   "source": [
    "doi['@id']"
   ]
  },
  {
   "cell_type": "code",
   "execution_count": 444,
   "metadata": {},
   "outputs": [],
   "source": [
    "put_dc = requests.put(\n",
    "    url = \"https://localhost/doi/put\"+ ACCESS,\n",
    "    data = json.dumps(doi_dc),\n",
    "    verify = False\n",
    ") \n",
    "put_dc.content"
   ]
  },
  {
   "cell_type": "code",
   "execution_count": 449,
   "metadata": {},
   "outputs": [
    {
     "data": {
      "text/plain": [
       "b'<html>\\r\\n<head><title>504 Gateway Time-out</title></head>\\r\\n<body bgcolor=\"white\">\\r\\n<center><h1>504 Gateway Time-out</h1></center>\\r\\n<hr><center>nginx/1.13.12</center>\\r\\n</body>\\r\\n</html>\\r\\n'"
      ]
     },
     "execution_count": 449,
     "metadata": {},
     "output_type": "execute_result"
    }
   ],
   "source": [
    "put_dataset = requests.put(\n",
    "    url = \"https://localhost/doi/put\"+ ACCESS,\n",
    "    data = json.dumps(doi_dataset),\n",
    "    verify = False\n",
    ") \n",
    "put_dataset.content"
   ]
  },
  {
   "cell_type": "code",
   "execution_count": null,
   "metadata": {},
   "outputs": [],
   "source": []
  },
  {
   "cell_type": "code",
   "execution_count": 417,
   "metadata": {},
   "outputs": [
    {
     "data": {
      "text/plain": [
       "b'{\"@context\": \"https://schema.org\", \"keywords\": \"gtex, annotation, phenotype, gene regulation, transcriptomics\", \"author\": {\"name\": \"The GTEx Consortium\"}, \"description\": \"A data dictionary that describes each variable in the GTEx_v7_Annotations_SubjectPhenotypesDS.txt\", \"funder\": {\"name\": \"National Heart, Lung, and Blood Institute\", \"@type\": \"Organization\", \"@id\": \"doi:/10.13039/100000050\"}, \"@type\": \"DataCatalog\", \"url\": \"https://www.gtexportal.org/home/datasets\", \"includedInDataCatalog\": \"ark:/99999/fk4RatDC\", \"name\": \"GTEx Public Files\", \"version\": \"v7\", \"datePublished\": \"v7\"}'"
      ]
     },
     "execution_count": 417,
     "metadata": {},
     "output_type": "execute_result"
    }
   ],
   "source": [
    "# retrieve from api\n",
    "get_response = requests.get(\n",
    "    url = \"https://localhost/doi/get/10.5072/test9999schemaorgtest\"+ACCESS,\n",
    "    verify = False\n",
    ")\n",
    "\n",
    "get_response.content"
   ]
  },
  {
   "cell_type": "code",
   "execution_count": null,
   "metadata": {},
   "outputs": [],
   "source": []
  },
  {
   "cell_type": "code",
   "execution_count": 279,
   "metadata": {},
   "outputs": [
    {
     "data": {
      "text/plain": [
       "'https://localhost/doi/get/10.5072/test9999schemaorgtest?token=Ag8bzYrgxJQ4YllpD7E4a3D9jngw9jYg8elkovjN0MKeoyEz0dUaU76nGbv4kl0Yw38nOBoXz5m52z2EDK2DnM1aYV0ok'"
      ]
     },
     "execution_count": 279,
     "metadata": {},
     "output_type": "execute_result"
    }
   ],
   "source": [
    "\"https://localhost/doi/get/10.5072/test9999schemaorgtest\"+ACCESS"
   ]
  },
  {
   "cell_type": "markdown",
   "metadata": {},
   "source": [
    "Landing Page\n",
    "https://localhost/doi/landing/10.5072/test9999schemaorgtest\n"
   ]
  },
  {
   "cell_type": "code",
   "execution_count": null,
   "metadata": {},
   "outputs": [],
   "source": []
  },
  {
   "cell_type": "code",
   "execution_count": 258,
   "metadata": {},
   "outputs": [],
   "source": [
    "# check what you get from ez.datacite\n",
    "api_get = requests.get(\n",
    "    url = \"https://mds.test.datacite.org/metadata/doi:10.5072/test9999schemaorgtest\",\n",
    "    auth = requests.auth.HTTPBasicAuth('DATACITE.DCPPC', 'Player&Chemo+segment')\n",
    ")"
   ]
  },
  {
   "cell_type": "code",
   "execution_count": 259,
   "metadata": {},
   "outputs": [
    {
     "name": "stdout",
     "output_type": "stream",
     "text": [
      "DOI is unknown to MDS\n"
     ]
    }
   ],
   "source": [
    "print(api_get.content.decode('utf-8'))"
   ]
  },
  {
   "cell_type": "code",
   "execution_count": 121,
   "metadata": {},
   "outputs": [],
   "source": [
    "# test put with different keys\n",
    "test_body = b'_status: reserver\\nMYkey: test'\n",
    "api_put = requests.put(\n",
    "    url = \"https://ez.test.datacite.org/id/doi:10.5072/test9999randomkeytest\",\n",
    "    data = test_body,\n",
    "    auth = requests.auth.HTTPBasicAuth('DATACITE.DCPPC', 'Player&Chemo+segment')\n",
    ")"
   ]
  },
  {
   "cell_type": "code",
   "execution_count": 122,
   "metadata": {},
   "outputs": [
    {
     "data": {
      "text/plain": [
       "b'error: no _profile provided'"
      ]
     },
     "execution_count": 122,
     "metadata": {},
     "output_type": "execute_result"
    }
   ],
   "source": [
    "api_put.content"
   ]
  },
  {
   "cell_type": "code",
   "execution_count": 381,
   "metadata": {},
   "outputs": [],
   "source": [
    "# retrieve from doi \n",
    "get_cache = requests.get(\n",
    "    url = \"https://localhost/cache/get/doi:10.5072/test9999randomkeytest\"+ACCESS,\n",
    "    verify = False\n",
    ")\n",
    "json.loads(get_cache.content)"
   ]
  },
  {
   "cell_type": "code",
   "execution_count": 345,
   "metadata": {},
   "outputs": [],
   "source": [
    "# delete from all\n",
    "del_all = requests.delete(\n",
    "    url = \"https://localhost/doi/delete/10.5072/test9999test\"+ACCESS,\n",
    "    verify = False\n",
    ")"
   ]
  },
  {
   "cell_type": "code",
   "execution_count": 346,
   "metadata": {},
   "outputs": [
    {
     "data": {
      "text/plain": [
       "b'{\"cache\": {\"metadata\": null, \"message\": \"Removed from cache\"}, \"api\": {\"status_code\": 404, \"message\": \"DOI doesn\\'t exist\"}}'"
      ]
     },
     "execution_count": 346,
     "metadata": {},
     "output_type": "execute_result"
    }
   ],
   "source": [
    "del_all.content"
   ]
  },
  {
   "cell_type": "code",
   "execution_count": null,
   "metadata": {},
   "outputs": [],
   "source": []
  },
  {
   "cell_type": "code",
   "execution_count": null,
   "metadata": {},
   "outputs": [],
   "source": [
    "# encode into xml?"
   ]
  },
  {
   "cell_type": "code",
   "execution_count": 458,
   "metadata": {},
   "outputs": [],
   "source": [
    "# why is postNeo for Doi failing \n",
    "from neo4j.v1 import GraphDatabase\n",
    "driver = GraphDatabase.driver(\"bolt://localhost:7687\", auth=None)"
   ]
  },
  {
   "cell_type": "code",
   "execution_count": 519,
   "metadata": {},
   "outputs": [],
   "source": [
    "with driver.session() as session:\n",
    "    with session.begin_transaction() as tx:\n",
    "        node = tx.run(\n",
    "            \"MATCH (parent:dataCatalog) WHERE parent.guid = $parent \"\n",
    "            \"CREATE (node:Doi {guid: $guid, name: $name}) \"\n",
    "            \"CREATE (node)-[parentRel:includedIn]->(parent) \"\n",
    "            \"RETURN properties(node) \",\n",
    "            parent = test_doi.get('includedInDataCatalog'),\n",
    "            guid = test_doi.get('@id'),\n",
    "            name = test_doi.get('name')\n",
    "        )"
   ]
  },
  {
   "cell_type": "code",
   "execution_count": 520,
   "metadata": {},
   "outputs": [
    {
     "data": {
      "text/plain": [
       "<neo4j.v1.result.BoltStatementResult at 0x10b5c7a20>"
      ]
     },
     "execution_count": 520,
     "metadata": {},
     "output_type": "execute_result"
    }
   ],
   "source": [
    "node"
   ]
  },
  {
   "cell_type": "code",
   "execution_count": 521,
   "metadata": {},
   "outputs": [],
   "source": [
    "#node_data = node.data()\n",
    "node_data = node.single()"
   ]
  },
  {
   "cell_type": "code",
   "execution_count": 522,
   "metadata": {},
   "outputs": [
    {
     "data": {
      "text/plain": [
       "{'guid': 'doi:0.5072/0000-03VC',\n",
       " 'name': 'A data dictionary that describes each variable in the GTEx_v7_Annotations_SubjectPhenotypesDS.txt'}"
      ]
     },
     "execution_count": 522,
     "metadata": {},
     "output_type": "execute_result"
    }
   ],
   "source": [
    "node_data.value()"
   ]
  },
  {
   "cell_type": "code",
   "execution_count": 525,
   "metadata": {},
   "outputs": [],
   "source": [
    "with driver.session() as session:\n",
    "    with session.begin_transaction() as tx:\n",
    "        query = tx.run(\n",
    "            \"MATCH (node:Doi) WHERE node.guid = $guid \"\n",
    "            \"RETURN properties(node) \",\n",
    "            guid = test_doi.get('@id')\n",
    "        )"
   ]
  },
  {
   "cell_type": "code",
   "execution_count": 526,
   "metadata": {},
   "outputs": [
    {
     "data": {
      "text/plain": [
       "{'guid': 'doi:0.5072/0000-03VC',\n",
       " 'name': 'A data dictionary that describes each variable in the GTEx_v7_Annotations_SubjectPhenotypesDS.txt'}"
      ]
     },
     "execution_count": 526,
     "metadata": {},
     "output_type": "execute_result"
    }
   ],
   "source": [
    "query.single().value()"
   ]
  },
  {
   "cell_type": "code",
   "execution_count": 517,
   "metadata": {},
   "outputs": [],
   "source": [
    "with driver.session() as session:\n",
    "    with session.begin_transaction() as tx:\n",
    "        parent = tx.run(\n",
    "            \"MATCH (parent:dataCatalog) WHERE parent.guid = $parent \"\n",
    "            \"RETURN properties(parent) \",\n",
    "            parent = test_doi.get('includedInDataCatalog'),\n",
    "        )"
   ]
  },
  {
   "cell_type": "code",
   "execution_count": 518,
   "metadata": {},
   "outputs": [
    {
     "data": {
      "text/plain": [
       "{'guid': 'ark:/99999/fk4RatDC',\n",
       " 'name': 'Rat Genome Database',\n",
       " 'type': 'DataCatalog',\n",
       " 'url': 'http://rgd.mcw.edu/'}"
      ]
     },
     "execution_count": 518,
     "metadata": {},
     "output_type": "execute_result"
    }
   ],
   "source": [
    "parent.single().value()"
   ]
  },
  {
   "cell_type": "code",
   "execution_count": 511,
   "metadata": {},
   "outputs": [
    {
     "data": {
      "text/plain": [
       "'ark:/99999/fk4RatDC'"
      ]
     },
     "execution_count": 511,
     "metadata": {},
     "output_type": "execute_result"
    }
   ],
   "source": [
    "test_doi.get('includedInDataCatalog')"
   ]
  },
  {
   "cell_type": "code",
   "execution_count": 527,
   "metadata": {},
   "outputs": [],
   "source": [
    "with driver.session() as session:\n",
    "    with session.begin_transaction() as tx:\n",
    "        clear = tx.run(\n",
    "            \"MATCH (node:Doi) WHERE node.guid = $guid \"\n",
    "            \"DETACH DELETE node \",\n",
    "            guid = test_doi.get('@id')\n",
    "        )"
   ]
  },
  {
   "cell_type": "code",
   "execution_count": 528,
   "metadata": {},
   "outputs": [
    {
     "data": {
      "text/plain": [
       "[]"
      ]
     },
     "execution_count": 528,
     "metadata": {},
     "output_type": "execute_result"
    }
   ],
   "source": [
    "clear.data()"
   ]
  },
  {
   "cell_type": "code",
   "execution_count": 290,
   "metadata": {},
   "outputs": [],
   "source": [
    "from functools import wraps"
   ]
  },
  {
   "cell_type": "code",
   "execution_count": 300,
   "metadata": {},
   "outputs": [],
   "source": [
    "def execute(f):\n",
    "    for elem in f:\n",
    "        print(elem)"
   ]
  },
  {
   "cell_type": "code",
   "execution_count": 305,
   "metadata": {},
   "outputs": [],
   "source": [
    "listIter = iter([{'key':'val'}, {'key2':'val2'}])"
   ]
  },
  {
   "cell_type": "code",
   "execution_count": 308,
   "metadata": {},
   "outputs": [
    {
     "data": {
      "text/plain": [
       "{'key': 'val'}"
      ]
     },
     "execution_count": 308,
     "metadata": {},
     "output_type": "execute_result"
    }
   ],
   "source": [
    "next(listIter)"
   ]
  },
  {
   "cell_type": "code",
   "execution_count": 306,
   "metadata": {},
   "outputs": [],
   "source": [
    "dictIter = iter([{'key':'val'}])"
   ]
  },
  {
   "cell_type": "code",
   "execution_count": 307,
   "metadata": {},
   "outputs": [
    {
     "data": {
      "text/plain": [
       "{'key': 'val'}"
      ]
     },
     "execution_count": 307,
     "metadata": {},
     "output_type": "execute_result"
    }
   ],
   "source": [
    "next(dictIter)"
   ]
  },
  {
   "cell_type": "code",
   "execution_count": 312,
   "metadata": {},
   "outputs": [],
   "source": [
    "myDict = {'key':'val'}"
   ]
  },
  {
   "cell_type": "code",
   "execution_count": 315,
   "metadata": {},
   "outputs": [],
   "source": [
    "myDict = [{'key':'val'}, {'key2':'val2'}]"
   ]
  },
  {
   "cell_type": "code",
   "execution_count": 317,
   "metadata": {},
   "outputs": [
    {
     "data": {
      "text/plain": [
       "[{'key': 'val'}, {'key2': 'val2'}]"
      ]
     },
     "execution_count": 317,
     "metadata": {},
     "output_type": "execute_result"
    }
   ],
   "source": [
    "next(iter([myDict]))"
   ]
  },
  {
   "cell_type": "code",
   "execution_count": 321,
   "metadata": {},
   "outputs": [
    {
     "ename": "TypeError",
     "evalue": "'list' object is not an iterator",
     "output_type": "error",
     "traceback": [
      "\u001b[0;31m---------------------------------------------------------------------------\u001b[0m",
      "\u001b[0;31mTypeError\u001b[0m                                 Traceback (most recent call last)",
      "\u001b[0;32m<ipython-input-321-08423bf191a0>\u001b[0m in \u001b[0;36m<module>\u001b[0;34m()\u001b[0m\n\u001b[0;32m----> 1\u001b[0;31m \u001b[0mnext\u001b[0m\u001b[0;34m(\u001b[0m\u001b[0mlist\u001b[0m\u001b[0;34m(\u001b[0m\u001b[0mfilter\u001b[0m\u001b[0;34m(\u001b[0m\u001b[0;32mlambda\u001b[0m \u001b[0mx\u001b[0m\u001b[0;34m:\u001b[0m \u001b[0misinstance\u001b[0m\u001b[0;34m(\u001b[0m\u001b[0mx\u001b[0m\u001b[0;34m,\u001b[0m \u001b[0mdict\u001b[0m\u001b[0;34m)\u001b[0m\u001b[0;34m,\u001b[0m \u001b[0;34m[\u001b[0m\u001b[0;34m\"hi\"\u001b[0m\u001b[0;34m,\u001b[0m \u001b[0;34m{\u001b[0m\u001b[0;34m}\u001b[0m \u001b[0;34m]\u001b[0m\u001b[0;34m)\u001b[0m\u001b[0;34m)\u001b[0m\u001b[0;34m)\u001b[0m\u001b[0;34m\u001b[0m\u001b[0m\n\u001b[0m",
      "\u001b[0;31mTypeError\u001b[0m: 'list' object is not an iterator"
     ]
    }
   ],
   "source": [
    "list(filter(lambda x: isinstance(x, dict), [\"hi\", {} ]))"
   ]
  },
  {
   "cell_type": "code",
   "execution_count": 299,
   "metadata": {},
   "outputs": [
    {
     "name": "stdout",
     "output_type": "stream",
     "text": [
      "mykey\n"
     ]
    }
   ],
   "source": [
    "execute(iter({'mykey':'myval'}))"
   ]
  },
  {
   "cell_type": "code",
   "execution_count": null,
   "metadata": {},
   "outputs": [],
   "source": [
    "execute(iter)"
   ]
  },
  {
   "cell_type": "code",
   "execution_count": 322,
   "metadata": {},
   "outputs": [],
   "source": [
    "content = ['awsloc', 'gpcloc']"
   ]
  },
  {
   "cell_type": "code",
   "execution_count": 323,
   "metadata": {},
   "outputs": [
    {
     "data": {
      "text/plain": [
       "['awsloc']"
      ]
     },
     "execution_count": 323,
     "metadata": {},
     "output_type": "execute_result"
    }
   ],
   "source": [
    "list(filter(lambda x: re.match('aws', x), content))"
   ]
  },
  {
   "cell_type": "code",
   "execution_count": 324,
   "metadata": {},
   "outputs": [],
   "source": [
    "from os import urandom"
   ]
  },
  {
   "cell_type": "code",
   "execution_count": 325,
   "metadata": {},
   "outputs": [
    {
     "data": {
      "text/plain": [
       "b'\\xc5\\x89\\x01)\\xecC\\xe2\\x00L\\xd3\\xc2\\x82+\\xec\\xb1r'"
      ]
     },
     "execution_count": 325,
     "metadata": {},
     "output_type": "execute_result"
    }
   ],
   "source": [
    "urandom(16)"
   ]
  },
  {
   "cell_type": "code",
   "execution_count": 326,
   "metadata": {},
   "outputs": [],
   "source": [
    "key = b'\\xc5\\x89\\x01)\\xecC\\xe2\\x00L\\xd3\\xc2\\x82+\\xec\\xb1r'"
   ]
  },
  {
   "cell_type": "code",
   "execution_count": 329,
   "metadata": {},
   "outputs": [],
   "source": [
    "from Crypto.Cipher import AES\n",
    "from Crypto import Random"
   ]
  },
  {
   "cell_type": "code",
   "execution_count": 330,
   "metadata": {},
   "outputs": [
    {
     "data": {
      "text/plain": [
       "b'\\x1a\\xe6\\xd6\\x95\\xf0e\\x10eb$\\x81\\xad\\x8c\\xd7;\\xf1'"
      ]
     },
     "execution_count": 330,
     "metadata": {},
     "output_type": "execute_result"
    }
   ],
   "source": [
    "Random.new().read(AES.block_size)"
   ]
  },
  {
   "cell_type": "code",
   "execution_count": null,
   "metadata": {},
   "outputs": [],
   "source": []
  }
 ],
 "metadata": {
  "kernelspec": {
   "display_name": "Python 3",
   "language": "python",
   "name": "python3"
  },
  "language_info": {
   "codemirror_mode": {
    "name": "ipython",
    "version": 3
   },
   "file_extension": ".py",
   "mimetype": "text/x-python",
   "name": "python",
   "nbconvert_exporter": "python",
   "pygments_lexer": "ipython3",
   "version": "3.6.4"
  }
 },
 "nbformat": 4,
 "nbformat_minor": 2
}
