{
 "cells": [
  {
   "cell_type": "code",
   "execution_count": 644,
   "metadata": {},
   "outputs": [],
   "source": [
    "import requests\n",
    "import json\n",
    "from time import sleep"
   ]
  },
  {
   "cell_type": "code",
   "execution_count": 652,
   "metadata": {},
   "outputs": [],
   "source": [
    "# quiet warnings for local testing\n",
    "from requests.packages.urllib3.exceptions import InsecureRequestWarning\n",
    "requests.packages.urllib3.disable_warnings(InsecureRequestWarning)"
   ]
  },
  {
   "cell_type": "markdown",
   "metadata": {},
   "source": [
    "## Get Access Token from Visiting Site\n",
    "\n",
    "#### TODO add POST /token path to return a valid access token \n",
    "    based on email and username  "
   ]
  },
  {
   "cell_type": "code",
   "execution_count": 541,
   "metadata": {},
   "outputs": [],
   "source": [
    "ACCESS_TOKEN =\"AgJ876az32OYpDm7DDg9E1QeDVM1k3zY3qw69X7wDJEV47p491U0C3jrzGpv9Ke2WqKBEqoBEy0aQEF3gxeqoIWbapHkWBEFNkP1\""
   ]
  },
  {
   "cell_type": "code",
   "execution_count": 601,
   "metadata": {},
   "outputs": [],
   "source": [
    "ACCESS = \"?access_token=\" + ACCESS_TOKEN"
   ]
  },
  {
   "cell_type": "code",
   "execution_count": 654,
   "metadata": {},
   "outputs": [],
   "source": [
    "# example options, set custom landing page, delete in 6 minutes\n",
    "options = {\n",
    "        \"_target\": 'http://example.com',\n",
    "        \"_status\": 'reserved',\n",
    "        \"ttl\": '360'\n",
    "    } "
   ]
  },
  {
   "cell_type": "markdown",
   "metadata": {},
   "source": [
    "# Data Catalog Test\n",
    "\n",
    "Landing Page : \"https://localhost:8080/dc/landing/ark:/99999/fk4RatDC\""
   ]
  },
  {
   "cell_type": "code",
   "execution_count": 655,
   "metadata": {},
   "outputs": [],
   "source": [
    "dc = {\n",
    "    \"@context\": \"http://schema.org/\",\n",
    "    \"@id\": \"ark:/99999/fk4RatDC\",\n",
    "    \"@type\": \"DataCatalog\",\n",
    "    \"identifier\": \"ark:/99999/fk4RatDC\",\n",
    "    \"name\": \"Rat Genome Database\",\n",
    "    \"url\": \"http://rgd.mcw.edu/\"\n",
    "}\n",
    "\n",
    "# with options \n",
    "dc_options = {\n",
    "    'metadata': testDC,\n",
    "    'options': options\n",
    "}"
   ]
  },
  {
   "cell_type": "markdown",
   "metadata": {},
   "source": [
    "### Example Put Request"
   ]
  },
  {
   "cell_type": "code",
   "execution_count": 653,
   "metadata": {},
   "outputs": [
    {
     "data": {
      "text/plain": [
       "b'{\"api\": {\"status\": 201, \"messsage\": \"success: ark:/99999/fk4RatDC\"}, \"cache\": {\"created\": {\"name\": \"Rat Genome Database\", \"guid\": \"ark:/99999/fk4RatDC\", \"type\": \"DataCatalog\", \"url\": \"http://rgd.mcw.edu/\"}}}'"
      ]
     },
     "execution_count": 653,
     "metadata": {},
     "output_type": "execute_result"
    }
   ],
   "source": [
    "dc_response = requests.put(\n",
    "    url = \"https://localhost:8080/dc/put\"+ ACCESS,\n",
    "    data = json.dumps(dc),\n",
    "    verify = False\n",
    ")\n",
    "dc_response.content"
   ]
  },
  {
   "cell_type": "markdown",
   "metadata": {},
   "source": [
    "## Example Put with options\n",
    "\n",
    "Will create an identifier, but also will delete it in 6 minutes"
   ]
  },
  {
   "cell_type": "code",
   "execution_count": 641,
   "metadata": {},
   "outputs": [
    {
     "name": "stderr",
     "output_type": "stream",
     "text": [
      "/anaconda3/lib/python3.6/site-packages/urllib3/connectionpool.py:858: InsecureRequestWarning: Unverified HTTPS request is being made. Adding certificate verification is strongly advised. See: https://urllib3.readthedocs.io/en/latest/advanced-usage.html#ssl-warnings\n",
      "  InsecureRequestWarning)\n"
     ]
    },
    {
     "data": {
      "text/plain": [
       "b'{\"api\": {\"status\": 400, \"messsage\": \"error: bad request - identifier already exists\"}, \"cache\": {\"created\": {\"name\": \"Rat Genome Database\", \"guid\": \"ark:/99999/fk4RatDC\", \"type\": \"DataCatalog\", \"url\": \"http://rgd.mcw.edu/\"}}}'"
      ]
     },
     "execution_count": 641,
     "metadata": {},
     "output_type": "execute_result"
    }
   ],
   "source": [
    "# put with options\n",
    "options_response = requests.put(\n",
    "    url = \"https://localhost:8080/dc/put\"+ ACCESS,\n",
    "    data = json.dumps(dc_options),\n",
    "    verify = False\n",
    ")\n",
    "options_response.content"
   ]
  },
  {
   "cell_type": "markdown",
   "metadata": {},
   "source": [
    "Test if its still there"
   ]
  },
  {
   "cell_type": "code",
   "execution_count": 648,
   "metadata": {},
   "outputs": [
    {
     "name": "stderr",
     "output_type": "stream",
     "text": [
      "/anaconda3/lib/python3.6/site-packages/urllib3/connectionpool.py:858: InsecureRequestWarning: Unverified HTTPS request is being made. Adding certificate verification is strongly advised. See: https://urllib3.readthedocs.io/en/latest/advanced-usage.html#ssl-warnings\n",
      "  InsecureRequestWarning)\n"
     ]
    },
    {
     "data": {
      "text/plain": [
       "b'{\"api\": \"error: bad request - no such identifier\"}'"
      ]
     },
     "execution_count": 648,
     "metadata": {},
     "output_type": "execute_result"
    }
   ],
   "source": [
    "dc_get_response = requests.get(\n",
    "    url = \"https://localhost:8080/dc/get/ark:/99999/fk4RatDC\" + ACCESS,\n",
    "    verify = False\n",
    ")\n",
    "dc_get_response.content"
   ]
  },
  {
   "cell_type": "markdown",
   "metadata": {},
   "source": [
    "Wait 6 minutes and test again"
   ]
  },
  {
   "cell_type": "code",
   "execution_count": 646,
   "metadata": {},
   "outputs": [
    {
     "name": "stderr",
     "output_type": "stream",
     "text": [
      "/anaconda3/lib/python3.6/site-packages/urllib3/connectionpool.py:858: InsecureRequestWarning: Unverified HTTPS request is being made. Adding certificate verification is strongly advised. See: https://urllib3.readthedocs.io/en/latest/advanced-usage.html#ssl-warnings\n",
      "  InsecureRequestWarning)\n"
     ]
    },
    {
     "data": {
      "text/plain": [
       "b'{\"api\": \"error: bad request - no such identifier\"}'"
      ]
     },
     "execution_count": 646,
     "metadata": {},
     "output_type": "execute_result"
    }
   ],
   "source": [
    "sleep(360)\n",
    "dc_get_response = requests.get(\n",
    "    url = \"https://localhost:8080/dc/get/ark:/99999/fk4RatDC\" + ACCESS,\n",
    "    verify = False\n",
    ")\n",
    "dc_get_response.content"
   ]
  },
  {
   "cell_type": "markdown",
   "metadata": {},
   "source": [
    "### Retrieve the identifier metadata from the cache\n",
    "\n",
    "Properties about the Data Catalog itself, not members"
   ]
  },
  {
   "cell_type": "code",
   "execution_count": 625,
   "metadata": {},
   "outputs": [
    {
     "name": "stderr",
     "output_type": "stream",
     "text": [
      "/anaconda3/lib/python3.6/site-packages/urllib3/connectionpool.py:858: InsecureRequestWarning: Unverified HTTPS request is being made. Adding certificate verification is strongly advised. See: https://urllib3.readthedocs.io/en/latest/advanced-usage.html#ssl-warnings\n",
      "  InsecureRequestWarning)\n"
     ]
    },
    {
     "data": {
      "text/plain": [
       "b'{\"name\": \"Rat Genome Database\", \"guid\": \"ark:/99999/fk4RatDC\", \"type\": \"DataCatalog\", \"url\": \"http://rgd.mcw.edu/\"}'"
      ]
     },
     "execution_count": 625,
     "metadata": {},
     "output_type": "execute_result"
    }
   ],
   "source": [
    "# get from cache\n",
    "cache_get_response = requests.get(\n",
    "    url = \"https://localhost:8080/cache/get/ark:/99999/fk4RatDC\"+ ACCESS,\n",
    "    verify = False\n",
    ")\n",
    "cache_get_response.content"
   ]
  },
  {
   "cell_type": "markdown",
   "metadata": {},
   "source": [
    "### Delete the DC from the cache"
   ]
  },
  {
   "cell_type": "code",
   "execution_count": 628,
   "metadata": {},
   "outputs": [
    {
     "name": "stderr",
     "output_type": "stream",
     "text": [
      "/anaconda3/lib/python3.6/site-packages/urllib3/connectionpool.py:858: InsecureRequestWarning: Unverified HTTPS request is being made. Adding certificate verification is strongly advised. See: https://urllib3.readthedocs.io/en/latest/advanced-usage.html#ssl-warnings\n",
      "  InsecureRequestWarning)\n"
     ]
    },
    {
     "data": {
      "text/plain": [
       "b'{\"name\": \"Rat Genome Database\", \"guid\": \"ark:/99999/fk4RatDC\", \"type\": \"DataCatalog\", \"url\": \"http://rgd.mcw.edu/\"}'"
      ]
     },
     "execution_count": 628,
     "metadata": {},
     "output_type": "execute_result"
    }
   ],
   "source": [
    "# delete from cache\n",
    "cache_delete = requests.delete(\n",
    "    url = \"https://localhost:8080/cache/delete/ark:/99999/fk4RatDC\"+ACCESS,\n",
    "    verify = False\n",
    ")\n",
    "cache_delete.content"
   ]
  },
  {
   "cell_type": "code",
   "execution_count": 631,
   "metadata": {},
   "outputs": [
    {
     "name": "stderr",
     "output_type": "stream",
     "text": [
      "/anaconda3/lib/python3.6/site-packages/urllib3/connectionpool.py:858: InsecureRequestWarning: Unverified HTTPS request is being made. Adding certificate verification is strongly advised. See: https://urllib3.readthedocs.io/en/latest/advanced-usage.html#ssl-warnings\n",
      "  InsecureRequestWarning)\n"
     ]
    },
    {
     "data": {
      "text/plain": [
       "'{\"cache\": {\"imported\": {\"name\": \"Rat Genome Database\", \"guid\": \"ark:/99999/fk4RatDC\", \"type\": \"DataCatalog\", \"url\": \"http://rgd.mcw.edu/\"}}}'"
      ]
     },
     "execution_count": 631,
     "metadata": {},
     "output_type": "execute_result"
    }
   ],
   "source": [
    "# import from ezid to neo4j\n",
    "cache_import = requests.get(\n",
    "    url = \"https://localhost:8080/dc/import/ark:/99999/fk4RatDC\"+ ACCESS,\n",
    "    verify = False\n",
    ")\n",
    "cache_import.content.decode('utf-8')"
   ]
  },
  {
   "cell_type": "markdown",
   "metadata": {},
   "source": [
    "### Delete from both cache and external API"
   ]
  },
  {
   "cell_type": "code",
   "execution_count": 597,
   "metadata": {},
   "outputs": [
    {
     "name": "stderr",
     "output_type": "stream",
     "text": [
      "/anaconda3/lib/python3.6/site-packages/urllib3/connectionpool.py:858: InsecureRequestWarning: Unverified HTTPS request is being made. Adding certificate verification is strongly advised. See: https://urllib3.readthedocs.io/en/latest/advanced-usage.html#ssl-warnings\n",
      "  InsecureRequestWarning)\n"
     ]
    },
    {
     "data": {
      "text/plain": [
       "b'{\"cache\": {\"metadata\": {\"name\": \"Rat Genome Database\", \"guid\": \"ark:/99999/fk4RatDC\", \"type\": \"DataCatalog\", \"url\": \"http://rgd.mcw.edu/\"}, \"message\": \"Removed from cache\"}, \"api\": {\"status_code\": 200, \"message\": \"success: ark:/99999/fk4RatDC\"}}'"
      ]
     },
     "execution_count": 597,
     "metadata": {},
     "output_type": "execute_result"
    }
   ],
   "source": [
    "dc_delete = requests.delete(\n",
    "    url = \"https://localhost:8080/dc/delete/ark:/99999/fk4RatDC\"+ACCESS,\n",
    "    verify = False\n",
    ")\n",
    "dc_delete.content"
   ]
  },
  {
   "cell_type": "markdown",
   "metadata": {},
   "source": [
    "## ARK test\n",
    "\n",
    "Landing Page https://localhost:8080/ark/landing/ark:/99999/fk4TestDepArk"
   ]
  },
  {
   "cell_type": "code",
   "execution_count": 657,
   "metadata": {},
   "outputs": [],
   "source": [
    "ark = {\n",
    "  \"@context\": \"http://schema.org\",\n",
    "  \"@id\": \"ark:/99999/fk4TestDepArk\",\n",
    "  \"@type\": \"CreativeWork\",\n",
    "    \"includedInDataCatalog\": \"ark:/99999/fk4RatDC\",\n",
    "  \"identifier\": [\n",
    "   \"ark:/88120/r8059v\",\n",
    "   {\n",
    "      \"@type\": \"PropertyValue\",\n",
    "      \"name\": \"sha-256\",\n",
    "      \"value\": \"cacc1abf711425d3c554277a5989df269cefaa906d27f1aaa72205d30224ed5f\"\n",
    "    }\n",
    "  ],\n",
    "  \"url\": \"http://minid.bd2k.org/minid/landingpage/ark:/88120/r8059v\",\n",
    "  \"contentUrl\": {\"aws\": \"http://bd2k.ini.usc.edu/assets/all-hands-meeting/minid_v0.1_Nov_2015.pdf\"},\n",
    "  \"name\": \"minid: A BD2K Minimal Viable Identifier Pilot v0.1\",\n",
    "  \"author\": {\n",
    "    \"@id\": \"http://orcid.org/0000-0003-2129-5269\",\n",
    "    \"@type\": \"Person\",\n",
    "    \"name\": \"Ian Foster\"\n",
    "  },\n",
    "  \"dateCreated\": \"2015-11-10T04:44:44.387671Z\"\n",
    "}\n",
    "\n",
    "ark_options = {\n",
    "    'metadata': ark,\n",
    "    'options': options\n",
    "}\n"
   ]
  },
  {
   "cell_type": "markdown",
   "metadata": {},
   "source": [
    "## Put Ark "
   ]
  },
  {
   "cell_type": "code",
   "execution_count": 666,
   "metadata": {},
   "outputs": [
    {
     "data": {
      "text/plain": [
       "b'{\"api\": {\"status\": 201, \"messsage\": \"success: ark:/99999/fk4TestDepArk\"}, \"cache\": {\"created\": {\"name\": \"minid: A BD2K Minimal Viable Identifier Pilot v0.1\", \"guid\": \"ark:/99999/fk4TestDepArk\", \"dateCreated\": \"2015-11-10T04:44:44.387671Z\", \"type\": \"Dataset\", \"author\": \"Ian Foster\", \"url\": \"http://minid.bd2k.org/minid/landingpage/ark:/88120/r8059v\"}}}'"
      ]
     },
     "execution_count": 666,
     "metadata": {},
     "output_type": "execute_result"
    }
   ],
   "source": [
    "local_ark = requests.put(\n",
    "    url = \"https://localhost:8080/ark/put\"+ACCESS,\n",
    "    data = json.dumps(ark),\n",
    "    verify = False\n",
    ")\n",
    "local_ark.content"
   ]
  },
  {
   "cell_type": "markdown",
   "metadata": {},
   "source": [
    "## Put with Options"
   ]
  },
  {
   "cell_type": "code",
   "execution_count": 666,
   "metadata": {},
   "outputs": [
    {
     "data": {
      "text/plain": [
       "b'{\"api\": {\"status\": 201, \"messsage\": \"success: ark:/99999/fk4TestDepArk\"}, \"cache\": {\"created\": {\"name\": \"minid: A BD2K Minimal Viable Identifier Pilot v0.1\", \"guid\": \"ark:/99999/fk4TestDepArk\", \"dateCreated\": \"2015-11-10T04:44:44.387671Z\", \"type\": \"Dataset\", \"author\": \"Ian Foster\", \"url\": \"http://minid.bd2k.org/minid/landingpage/ark:/88120/r8059v\"}}}'"
      ]
     },
     "execution_count": 666,
     "metadata": {},
     "output_type": "execute_result"
    }
   ],
   "source": [
    "local_ark = requests.put(\n",
    "    url = \"https://localhost:8080/ark/put\"+ACCESS,\n",
    "    data = json.dumps(ark_options),\n",
    "    verify = False\n",
    ")\n",
    "local_ark.content"
   ]
  },
  {
   "cell_type": "code",
   "execution_count": 676,
   "metadata": {},
   "outputs": [
    {
     "data": {
      "text/plain": [
       "{'@context': 'http://schema.org',\n",
       " '@id': 'ark:/99999/fk4TestDepArk',\n",
       " '@type': 'CreativeWork',\n",
       " 'author': {'id': 'http://orcid.org/0000-0003-2129-5269',\n",
       "  'name': 'Ian Foster',\n",
       "  'type': 'Person'},\n",
       " 'dateCreated': '2015-11-10T04:44:44.387671Z',\n",
       " 'identifier': ['ark:/88120/r8059v',\n",
       "  {'name': 'sha-256',\n",
       "   'type': 'PropertyValue',\n",
       "   'value': 'cacc1abf711425d3c554277a5989df269cefaa906d27f1aaa72205d30224ed5f'}],\n",
       " 'includedInDataCatalog': 'ark:/99999/fk4RatDC',\n",
       " 'name': 'minid: A BD2K Minimal Viable Identifier Pilot v0.1',\n",
       " 'success': 'ark:/99999/fk4TestDepArk',\n",
       " 'url': 'http://minid.bd2k.org/minid/landingpage/ark:/88120/r8059v'}"
      ]
     },
     "execution_count": 676,
     "metadata": {},
     "output_type": "execute_result"
    }
   ],
   "source": [
    "# get from api\n",
    "api_response = requests.get(\n",
    "    url = \"https://localhost:8080/ark/get/ark:/99999/fk4TestDepArk\"+ACCESS,\n",
    "    verify = False\n",
    ")\n",
    "json.loads(api_response.content)"
   ]
  },
  {
   "cell_type": "code",
   "execution_count": 677,
   "metadata": {},
   "outputs": [
    {
     "data": {
      "text/plain": [
       "{'author': 'Ian Foster',\n",
       " 'dateCreated': '2015-11-10T04:44:44.387671Z',\n",
       " 'guid': 'ark:/99999/fk4TestDepArk',\n",
       " 'name': 'minid: A BD2K Minimal Viable Identifier Pilot v0.1',\n",
       " 'type': 'Dataset',\n",
       " 'url': 'http://minid.bd2k.org/minid/landingpage/ark:/88120/r8059v'}"
      ]
     },
     "execution_count": 677,
     "metadata": {},
     "output_type": "execute_result"
    }
   ],
   "source": [
    "# get from cache\n",
    "cache_get_response = requests.get(\n",
    "    url = \"https://localhost:8080/cache/get/ark:/99999/fk4TestDepArk\"+ACCESS,\n",
    "    verify = False\n",
    ")\n",
    "json.loads(cache_get_response.content)"
   ]
  },
  {
   "cell_type": "code",
   "execution_count": 672,
   "metadata": {},
   "outputs": [
    {
     "data": {
      "text/plain": [
       "b'{\"name\": \"minid: A BD2K Minimal Viable Identifier Pilot v0.1\", \"guid\": \"ark:/99999/fk4TestDepArk\", \"dateCreated\": \"2015-11-10T04:44:44.387671Z\", \"type\": \"Dataset\", \"author\": \"Ian Foster\", \"url\": \"http://minid.bd2k.org/minid/landingpage/ark:/88120/r8059v\"}'"
      ]
     },
     "execution_count": 672,
     "metadata": {},
     "output_type": "execute_result"
    }
   ],
   "source": [
    "# delete from cache\n",
    "cache_delete = requests.delete(\n",
    "    url = \"https://localhost:8080/cache/delete/ark:/99999/fk4TestDepArk\"+ACCESS,\n",
    "    verify = False\n",
    ")\n",
    "json.loads(cache_delete.content)"
   ]
  },
  {
   "cell_type": "code",
   "execution_count": 675,
   "metadata": {},
   "outputs": [
    {
     "data": {
      "text/plain": [
       "{'cache': {'imported': {'author': 'Ian Foster',\n",
       "   'dateCreated': '2015-11-10T04:44:44.387671Z',\n",
       "   'guid': 'ark:/99999/fk4TestDepArk',\n",
       "   'name': 'minid: A BD2K Minimal Viable Identifier Pilot v0.1',\n",
       "   'type': 'Dataset',\n",
       "   'url': 'http://minid.bd2k.org/minid/landingpage/ark:/88120/r8059v'}}}"
      ]
     },
     "execution_count": 675,
     "metadata": {},
     "output_type": "execute_result"
    }
   ],
   "source": [
    "# import from ezid to neo4j\n",
    "cache_import = requests.get(\n",
    "    url = \"https://localhost:8080/ark/import/ark:/99999/fk4TestDepArk\"+ACCESS,\n",
    "    verify = False\n",
    ")\n",
    "json.loads(cache_import.content)"
   ]
  },
  {
   "cell_type": "code",
   "execution_count": 406,
   "metadata": {},
   "outputs": [
    {
     "data": {
      "text/plain": [
       "b'{\"cache\": {\"metadata\": {\"name\": \"minid: A BD2K Minimal Viable Identifier Pilot v0.1\", \"guid\": \"ark:/99999/fk4TestDepArk\", \"dateCreated\": \"2015-11-10T04:44:44.387671Z\", \"type\": \"Dataset\", \"author\": \"Ian Foster\", \"url\": \"http://minid.bd2k.org/minid/landingpage/ark:/88120/r8059v\"}, \"message\": \"Removed from cache\"}, \"api\": {\"status_code\": 200, \"message\": \"b\\'success: ark:/99999/fk4TestDepArk\\'\"}}'"
      ]
     },
     "execution_count": 406,
     "metadata": {},
     "output_type": "execute_result"
    }
   ],
   "source": [
    "# delete from all\n",
    "ark_delete = requests.delete(\n",
    "    url = \"http://localhost:8080/ark/delete/ark:/99999/fk4TestDepArk\",\n",
    "    auth = basicAuth\n",
    ")\n",
    "ark_delete.content"
   ]
  },
  {
   "cell_type": "markdown",
   "metadata": {},
   "source": [
    "## DOI Test"
   ]
  },
  {
   "cell_type": "code",
   "execution_count": 535,
   "metadata": {},
   "outputs": [],
   "source": [
    "test_doi = {\n",
    "  \"@context\": \"http://schema.org\",\n",
    "  \"@type\": \"Dataset\",\n",
    "  \"@id\": \"doi:10.5072/test9999test\",\n",
    "  \"identifier\": \"doi:10.5072/test9999test\",\n",
    "    \"includedInDataCatalog\": \"ark:/99999/fk4RatDC\",\n",
    "  \"additionalType\": \"Data dictionary\",\n",
    "  \"name\": \"A data dictionary that describes each variable in the GTEx_v7_Annotations_SubjectPhenotypesDS.txt\",\n",
    "  \"author\": {\n",
    "    \"@type\": \"Organization\",\n",
    "    \"name\": \"The GTEx Consortium\"\n",
    "  },\n",
    "  \"keywords\": \"gtex, annotation, phenotype, gene regulation, transcriptomics\",\n",
    "  \"datePublished\": \"2017\",\n",
    "  \"version\": \"v7\",\n",
    "  \"url\": \"https://www.gtexportal.org/home/datasets\",\n",
    "  \"contentSize\": \"5.4 Mb\",\n",
    "  \"fileFormat\": \"application/vnd.openxmlformats-officedocument.spreadsheetml.sheet\",\n",
    "  \"funder\": {\n",
    "   \"@type\": \"Organization\",\n",
    "   \"@id\": \"https://doi.org/10.13039/100000050\",\n",
    "   \"name\": \"National Heart, Lung, and Blood Institute\"\n",
    "  }\n",
    "}"
   ]
  },
  {
   "cell_type": "code",
   "execution_count": 536,
   "metadata": {},
   "outputs": [],
   "source": [
    "dataciteAuth = requests.auth.HTTPBasicAuth(\"DATACITE.DCPPC\", \"Deviation6Trickster9landmark\")"
   ]
  },
  {
   "cell_type": "code",
   "execution_count": 537,
   "metadata": {},
   "outputs": [],
   "source": [
    "put_response = requests.put(\n",
    "    url = \"http://localhost:8080/doi/put\",\n",
    "    data = json.dumps(test_doi),\n",
    "    auth = dataciteAuth\n",
    ") "
   ]
  },
  {
   "cell_type": "code",
   "execution_count": 538,
   "metadata": {},
   "outputs": [
    {
     "data": {
      "text/plain": [
       "b'{\"api\": {\"status\": 401, \"messsage\": \"b\\'error: unauthorized\\'\"}, \"cache\": {\"created\": {\"name\": \"A data dictionary that describes each variable in the GTEx_v7_Annotations_SubjectPhenotypesDS.txt\", \"guid\": \"doi:10.5072/test9999test\", \"type\": \"Dataset\", \"author\": \"The GTEx Consortium\", \"url\": \"https://www.gtexportal.org/home/datasets\"}}}'"
      ]
     },
     "execution_count": 538,
     "metadata": {},
     "output_type": "execute_result"
    }
   ],
   "source": [
    "put_response.content"
   ]
  },
  {
   "cell_type": "code",
   "execution_count": 454,
   "metadata": {},
   "outputs": [],
   "source": [
    "get_cache = requests.get(\n",
    "    url = \"http://localhost:8080/cache/get/doi:/0.5072/0000-03VC\"\n",
    ")"
   ]
  },
  {
   "cell_type": "code",
   "execution_count": 455,
   "metadata": {},
   "outputs": [
    {
     "data": {
      "text/plain": [
       "b'null'"
      ]
     },
     "execution_count": 455,
     "metadata": {},
     "output_type": "execute_result"
    }
   ],
   "source": [
    "get_cache.content"
   ]
  },
  {
   "cell_type": "code",
   "execution_count": null,
   "metadata": {},
   "outputs": [],
   "source": [
    "# encode into xml?"
   ]
  },
  {
   "cell_type": "code",
   "execution_count": 458,
   "metadata": {},
   "outputs": [],
   "source": [
    "# why is postNeo for Doi failing \n",
    "from neo4j.v1 import GraphDatabase\n",
    "driver = GraphDatabase.driver(\"bolt://localhost:7687\", auth=None)"
   ]
  },
  {
   "cell_type": "code",
   "execution_count": 519,
   "metadata": {},
   "outputs": [],
   "source": [
    "with driver.session() as session:\n",
    "    with session.begin_transaction() as tx:\n",
    "        node = tx.run(\n",
    "            \"MATCH (parent:dataCatalog) WHERE parent.guid = $parent \"\n",
    "            \"CREATE (node:Doi {guid: $guid, name: $name}) \"\n",
    "            \"CREATE (node)-[parentRel:includedIn]->(parent) \"\n",
    "            \"RETURN properties(node) \",\n",
    "            parent = test_doi.get('includedInDataCatalog'),\n",
    "            guid = test_doi.get('@id'),\n",
    "            name = test_doi.get('name')\n",
    "        )"
   ]
  },
  {
   "cell_type": "code",
   "execution_count": 520,
   "metadata": {},
   "outputs": [
    {
     "data": {
      "text/plain": [
       "<neo4j.v1.result.BoltStatementResult at 0x10b5c7a20>"
      ]
     },
     "execution_count": 520,
     "metadata": {},
     "output_type": "execute_result"
    }
   ],
   "source": [
    "node"
   ]
  },
  {
   "cell_type": "code",
   "execution_count": 521,
   "metadata": {},
   "outputs": [],
   "source": [
    "#node_data = node.data()\n",
    "node_data = node.single()"
   ]
  },
  {
   "cell_type": "code",
   "execution_count": 522,
   "metadata": {},
   "outputs": [
    {
     "data": {
      "text/plain": [
       "{'guid': 'doi:0.5072/0000-03VC',\n",
       " 'name': 'A data dictionary that describes each variable in the GTEx_v7_Annotations_SubjectPhenotypesDS.txt'}"
      ]
     },
     "execution_count": 522,
     "metadata": {},
     "output_type": "execute_result"
    }
   ],
   "source": [
    "node_data.value()"
   ]
  },
  {
   "cell_type": "code",
   "execution_count": 525,
   "metadata": {},
   "outputs": [],
   "source": [
    "with driver.session() as session:\n",
    "    with session.begin_transaction() as tx:\n",
    "        query = tx.run(\n",
    "            \"MATCH (node:Doi) WHERE node.guid = $guid \"\n",
    "            \"RETURN properties(node) \",\n",
    "            guid = test_doi.get('@id')\n",
    "        )"
   ]
  },
  {
   "cell_type": "code",
   "execution_count": 526,
   "metadata": {},
   "outputs": [
    {
     "data": {
      "text/plain": [
       "{'guid': 'doi:0.5072/0000-03VC',\n",
       " 'name': 'A data dictionary that describes each variable in the GTEx_v7_Annotations_SubjectPhenotypesDS.txt'}"
      ]
     },
     "execution_count": 526,
     "metadata": {},
     "output_type": "execute_result"
    }
   ],
   "source": [
    "query.single().value()"
   ]
  },
  {
   "cell_type": "code",
   "execution_count": 517,
   "metadata": {},
   "outputs": [],
   "source": [
    "with driver.session() as session:\n",
    "    with session.begin_transaction() as tx:\n",
    "        parent = tx.run(\n",
    "            \"MATCH (parent:dataCatalog) WHERE parent.guid = $parent \"\n",
    "            \"RETURN properties(parent) \",\n",
    "            parent = test_doi.get('includedInDataCatalog'),\n",
    "        )"
   ]
  },
  {
   "cell_type": "code",
   "execution_count": 518,
   "metadata": {},
   "outputs": [
    {
     "data": {
      "text/plain": [
       "{'guid': 'ark:/99999/fk4RatDC',\n",
       " 'name': 'Rat Genome Database',\n",
       " 'type': 'DataCatalog',\n",
       " 'url': 'http://rgd.mcw.edu/'}"
      ]
     },
     "execution_count": 518,
     "metadata": {},
     "output_type": "execute_result"
    }
   ],
   "source": [
    "parent.single().value()"
   ]
  },
  {
   "cell_type": "code",
   "execution_count": 511,
   "metadata": {},
   "outputs": [
    {
     "data": {
      "text/plain": [
       "'ark:/99999/fk4RatDC'"
      ]
     },
     "execution_count": 511,
     "metadata": {},
     "output_type": "execute_result"
    }
   ],
   "source": [
    "test_doi.get('includedInDataCatalog')"
   ]
  },
  {
   "cell_type": "code",
   "execution_count": 527,
   "metadata": {},
   "outputs": [],
   "source": [
    "with driver.session() as session:\n",
    "    with session.begin_transaction() as tx:\n",
    "        clear = tx.run(\n",
    "            \"MATCH (node:Doi) WHERE node.guid = $guid \"\n",
    "            \"DETACH DELETE node \",\n",
    "            guid = test_doi.get('@id')\n",
    "        )"
   ]
  },
  {
   "cell_type": "code",
   "execution_count": 528,
   "metadata": {},
   "outputs": [
    {
     "data": {
      "text/plain": [
       "[]"
      ]
     },
     "execution_count": 528,
     "metadata": {},
     "output_type": "execute_result"
    }
   ],
   "source": [
    "clear.data()"
   ]
  },
  {
   "cell_type": "code",
   "execution_count": null,
   "metadata": {},
   "outputs": [],
   "source": []
  }
 ],
 "metadata": {
  "kernelspec": {
   "display_name": "Python 3",
   "language": "python",
   "name": "python3"
  },
  "language_info": {
   "codemirror_mode": {
    "name": "ipython",
    "version": 3
   },
   "file_extension": ".py",
   "mimetype": "text/x-python",
   "name": "python",
   "nbconvert_exporter": "python",
   "pygments_lexer": "ipython3",
   "version": "3.6.4"
  }
 },
 "nbformat": 4,
 "nbformat_minor": 2
}
