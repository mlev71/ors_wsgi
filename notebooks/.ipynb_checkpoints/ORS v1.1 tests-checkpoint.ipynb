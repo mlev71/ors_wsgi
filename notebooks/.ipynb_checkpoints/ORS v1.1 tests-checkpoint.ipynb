{
 "cells": [
  {
   "cell_type": "code",
   "execution_count": 1,
   "metadata": {},
   "outputs": [],
   "source": [
    "import requests\n",
    "import json\n",
    "from time import sleep"
   ]
  },
  {
   "cell_type": "code",
   "execution_count": 2,
   "metadata": {},
   "outputs": [],
   "source": [
    "# quiet warnings for local testing\n",
    "from requests.packages.urllib3.exceptions import InsecureRequestWarning\n",
    "requests.packages.urllib3.disable_warnings(InsecureRequestWarning)"
   ]
  },
  {
   "cell_type": "markdown",
   "metadata": {},
   "source": [
    "## Get Access Token from Visiting Site\n",
    "\n",
    "#### TODO add POST /token path to return a valid access token \n",
    "    based on email and username  "
   ]
  },
  {
   "cell_type": "code",
   "execution_count": 10,
   "metadata": {},
   "outputs": [],
   "source": [
    "ACCESS_TOKEN =\"AgnwOj6g3xa36gJMpl27Moyq8v1DXO70xQ7Xb1vdMlGvM98l3DU9CaK3zW8KNPDpD07E5JjGzYPXrgc0W6OmrCOYVzHq2K0Hdb5V\""
   ]
  },
  {
   "cell_type": "code",
   "execution_count": 11,
   "metadata": {},
   "outputs": [],
   "source": [
    "ACCESS = \"?access_token=\" + ACCESS_TOKEN"
   ]
  },
  {
   "cell_type": "code",
   "execution_count": 12,
   "metadata": {},
   "outputs": [],
   "source": [
    "# example options, set custom landing page, delete in 6 minutes\n",
    "options = {\n",
    "        \"_target\": 'http://example.com',\n",
    "        \"_status\": 'reserved',\n",
    "        \"ttl\": '360'\n",
    "    } "
   ]
  },
  {
   "cell_type": "markdown",
   "metadata": {},
   "source": [
    "# Data Catalog Test\n",
    "\n",
    "Landing Page : \"https://localhost:8080/dc/landing/ark:/99999/fk4RatDC\""
   ]
  },
  {
   "cell_type": "code",
   "execution_count": 13,
   "metadata": {},
   "outputs": [],
   "source": [
    "dc = {\n",
    "    \"@context\": \"http://schema.org/\",\n",
    "    \"@id\": \"ark:/99999/fk4RatDC\",\n",
    "    \"@type\": \"DataCatalog\",\n",
    "    \"identifier\": \"ark:/99999/fk4RatDC\",\n",
    "    \"name\": \"Rat Genome Database\",\n",
    "    \"url\": \"http://rgd.mcw.edu/\"\n",
    "}\n",
    "\n",
    "# with options \n",
    "dc_options = {\n",
    "    'metadata': dc,\n",
    "    'options': options\n",
    "}"
   ]
  },
  {
   "cell_type": "markdown",
   "metadata": {},
   "source": [
    "### Example Put Request"
   ]
  },
  {
   "cell_type": "code",
   "execution_count": 42,
   "metadata": {},
   "outputs": [
    {
     "data": {
      "text/plain": [
       "{'api': {'messsage': 'error: bad request - identifier already exists',\n",
       "  'status': 400},\n",
       " 'cache': {'created': {'guid': 'ark:/99999/fk4RatDC',\n",
       "   'name': 'Rat Genome Database',\n",
       "   'type': 'DataCatalog',\n",
       "   'url': 'http://rgd.mcw.edu/'}}}"
      ]
     },
     "execution_count": 42,
     "metadata": {},
     "output_type": "execute_result"
    }
   ],
   "source": [
    "dc_response = requests.put(\n",
    "    url = \"https://localhost/dc/put\"+ ACCESS,\n",
    "    data = json.dumps(dc),\n",
    "    verify = False\n",
    ")\n",
    "json.loads(dc_response.content)"
   ]
  },
  {
   "cell_type": "markdown",
   "metadata": {},
   "source": [
    "## Example Put with options\n",
    "\n",
    "Will create an identifier, but also will delete it in 6 minutes"
   ]
  },
  {
   "cell_type": "code",
   "execution_count": 17,
   "metadata": {},
   "outputs": [
    {
     "data": {
      "text/plain": [
       "b'{\"api\": {\"status\": 400, \"messsage\": \"error: bad request - identifier already exists\"}, \"cache\": {\"created\": {\"name\": \"Rat Genome Database\", \"guid\": \"ark:/99999/fk4RatDC\", \"type\": \"DataCatalog\", \"url\": \"http://rgd.mcw.edu/\"}}}'"
      ]
     },
     "execution_count": 17,
     "metadata": {},
     "output_type": "execute_result"
    }
   ],
   "source": [
    "# put with options\n",
    "options_response = requests.put(\n",
    "    url = \"https://localhost/dc/put\"+ ACCESS,\n",
    "    data = json.dumps(dc_options),\n",
    "    verify = False\n",
    ")\n",
    "options_response.content"
   ]
  },
  {
   "cell_type": "markdown",
   "metadata": {},
   "source": [
    "Test if its still there"
   ]
  },
  {
   "cell_type": "code",
   "execution_count": 16,
   "metadata": {},
   "outputs": [
    {
     "data": {
      "text/plain": [
       "b'{\"success\": \"ark:/99999/fk4RatDC\", \"name\": \"Rat Genome Database\", \"url\": \"http://rgd.mcw.edu/\", \"identifier\": \"ark:/99999/fk4RatDC\", \"@context\": \"http://schema.org/\", \"@id\": \"ark:/99999/fk4RatDC\", \"@type\": \"DataCatalog\"}'"
      ]
     },
     "execution_count": 16,
     "metadata": {},
     "output_type": "execute_result"
    }
   ],
   "source": [
    "dc_get_response = requests.get(\n",
    "    url = \"https://localhost/dc/get/ark:/99999/fk4RatDC\" + ACCESS,\n",
    "    verify = False\n",
    ")\n",
    "dc_get_response.content"
   ]
  },
  {
   "cell_type": "markdown",
   "metadata": {},
   "source": [
    "Wait 6 minutes and test again"
   ]
  },
  {
   "cell_type": "code",
   "execution_count": 18,
   "metadata": {},
   "outputs": [
    {
     "ename": "KeyboardInterrupt",
     "evalue": "",
     "output_type": "error",
     "traceback": [
      "\u001b[0;31m---------------------------------------------------------------------------\u001b[0m",
      "\u001b[0;31mKeyboardInterrupt\u001b[0m                         Traceback (most recent call last)",
      "\u001b[0;32m<ipython-input-18-15798a4361fc>\u001b[0m in \u001b[0;36m<module>\u001b[0;34m()\u001b[0m\n\u001b[0;32m----> 1\u001b[0;31m \u001b[0msleep\u001b[0m\u001b[0;34m(\u001b[0m\u001b[0;36m360\u001b[0m\u001b[0;34m)\u001b[0m\u001b[0;34m\u001b[0m\u001b[0m\n\u001b[0m\u001b[1;32m      2\u001b[0m dc_get_response = requests.get(\n\u001b[1;32m      3\u001b[0m     \u001b[0murl\u001b[0m \u001b[0;34m=\u001b[0m \u001b[0;34m\"https://localhost/dc/get/ark:/99999/fk4RatDC\"\u001b[0m \u001b[0;34m+\u001b[0m \u001b[0mACCESS\u001b[0m\u001b[0;34m,\u001b[0m\u001b[0;34m\u001b[0m\u001b[0m\n\u001b[1;32m      4\u001b[0m     \u001b[0mverify\u001b[0m \u001b[0;34m=\u001b[0m \u001b[0;32mFalse\u001b[0m\u001b[0;34m\u001b[0m\u001b[0m\n\u001b[1;32m      5\u001b[0m )\n",
      "\u001b[0;31mKeyboardInterrupt\u001b[0m: "
     ]
    }
   ],
   "source": [
    "sleep(360)\n",
    "dc_get_response = requests.get(\n",
    "    url = \"https://localhost/dc/get/ark:/99999/fk4RatDC\" + ACCESS,\n",
    "    verify = False\n",
    ")\n",
    "dc_get_response.content"
   ]
  },
  {
   "cell_type": "markdown",
   "metadata": {},
   "source": [
    "### Retrieve the identifier metadata from the cache\n",
    "\n",
    "Properties about the Data Catalog itself, not members"
   ]
  },
  {
   "cell_type": "code",
   "execution_count": 35,
   "metadata": {},
   "outputs": [],
   "source": [
    "# get from cache\n",
    "cache_get_response = requests.get(\n",
    "    url = \"https://localhost/cache/get/ark:/99999/fk4RatDC\"+ ACCESS,\n",
    "    verify = False\n",
    ")\n",
    "json.loads(cache_get_response.content.decode('utf-8'))"
   ]
  },
  {
   "cell_type": "markdown",
   "metadata": {},
   "source": [
    "### Delete the DC from the cache"
   ]
  },
  {
   "cell_type": "code",
   "execution_count": 34,
   "metadata": {},
   "outputs": [],
   "source": [
    "# delete from cache\n",
    "cache_delete = requests.delete(\n",
    "    url = \"https://localhost/cache/delete/ark:/99999/fk4RatDC\"+ACCESS,\n",
    "    verify = False\n",
    ")\n",
    "json.loads(cache_delete.content.decode('utf-8'))"
   ]
  },
  {
   "cell_type": "code",
   "execution_count": 23,
   "metadata": {},
   "outputs": [
    {
     "data": {
      "text/plain": [
       "{'cache': {'imported': {'guid': 'ark:/99999/fk4RatDC',\n",
       "   'name': 'Rat Genome Database',\n",
       "   'type': 'DataCatalog',\n",
       "   'url': 'http://rgd.mcw.edu/'}}}"
      ]
     },
     "execution_count": 23,
     "metadata": {},
     "output_type": "execute_result"
    }
   ],
   "source": [
    "# import from ezid to neo4j\n",
    "cache_import = requests.get(\n",
    "    url = \"https://localhost/dc/import/ark:/99999/fk4RatDC\"+ ACCESS,\n",
    "    verify = False\n",
    ")\n",
    "json.loads(cache_import.content.decode('utf-8'))"
   ]
  },
  {
   "cell_type": "markdown",
   "metadata": {},
   "source": [
    "### Delete from both cache and external API"
   ]
  },
  {
   "cell_type": "code",
   "execution_count": 597,
   "metadata": {},
   "outputs": [
    {
     "name": "stderr",
     "output_type": "stream",
     "text": [
      "/anaconda3/lib/python3.6/site-packages/urllib3/connectionpool.py:858: InsecureRequestWarning: Unverified HTTPS request is being made. Adding certificate verification is strongly advised. See: https://urllib3.readthedocs.io/en/latest/advanced-usage.html#ssl-warnings\n",
      "  InsecureRequestWarning)\n"
     ]
    },
    {
     "data": {
      "text/plain": [
       "b'{\"cache\": {\"metadata\": {\"name\": \"Rat Genome Database\", \"guid\": \"ark:/99999/fk4RatDC\", \"type\": \"DataCatalog\", \"url\": \"http://rgd.mcw.edu/\"}, \"message\": \"Removed from cache\"}, \"api\": {\"status_code\": 200, \"message\": \"success: ark:/99999/fk4RatDC\"}}'"
      ]
     },
     "execution_count": 597,
     "metadata": {},
     "output_type": "execute_result"
    }
   ],
   "source": [
    "dc_delete = requests.delete(\n",
    "    url = \"https://localhost:8080/dc/delete/ark:/99999/fk4RatDC\"+ACCESS,\n",
    "    verify = False\n",
    ")\n",
    "dc_delete.content"
   ]
  },
  {
   "cell_type": "markdown",
   "metadata": {},
   "source": [
    "## ARK test\n",
    "\n",
    "Landing Page https://localhost:8080/ark/landing/ark:/99999/fk4TestDepArk"
   ]
  },
  {
   "cell_type": "code",
   "execution_count": 24,
   "metadata": {},
   "outputs": [],
   "source": [
    "ark = {\n",
    "  \"@context\": \"http://schema.org\",\n",
    "  \"@id\": \"ark:/99999/fk4TestDepArk\",\n",
    "  \"@type\": \"CreativeWork\",\n",
    "    \"includedInDataCatalog\": \"ark:/99999/fk4RatDC\",\n",
    "  \"identifier\": [\n",
    "   \"ark:/88120/r8059v\",\n",
    "   {\n",
    "      \"@type\": \"PropertyValue\",\n",
    "      \"name\": \"sha-256\",\n",
    "      \"value\": \"cacc1abf711425d3c554277a5989df269cefaa906d27f1aaa72205d30224ed5f\"\n",
    "    }\n",
    "  ],\n",
    "  \"url\": \"http://minid.bd2k.org/minid/landingpage/ark:/88120/r8059v\",\n",
    "  \"contentUrl\": {\"aws\": \"http://bd2k.ini.usc.edu/assets/all-hands-meeting/minid_v0.1_Nov_2015.pdf\"},\n",
    "  \"name\": \"minid: A BD2K Minimal Viable Identifier Pilot v0.1\",\n",
    "  \"author\": {\n",
    "    \"@id\": \"http://orcid.org/0000-0003-2129-5269\",\n",
    "    \"@type\": \"Person\",\n",
    "    \"name\": \"Ian Foster\"\n",
    "  },\n",
    "  \"dateCreated\": \"2015-11-10T04:44:44.387671Z\"\n",
    "}\n",
    "\n",
    "ark_options = {\n",
    "    'metadata': ark,\n",
    "    'options': options\n",
    "}\n"
   ]
  },
  {
   "cell_type": "markdown",
   "metadata": {},
   "source": [
    "## Put Ark "
   ]
  },
  {
   "cell_type": "code",
   "execution_count": 52,
   "metadata": {},
   "outputs": [
    {
     "data": {
      "text/plain": [
       "{'api': {'messsage': 'success: ark:/99999/fk4TestDepArk', 'status': 201},\n",
       " 'cache': {'created': {'author': 'Ian Foster',\n",
       "   'dateCreated': '2015-11-10T04:44:44.387671Z',\n",
       "   'guid': 'ark:/99999/fk4TestDepArk',\n",
       "   'name': 'minid: A BD2K Minimal Viable Identifier Pilot v0.1',\n",
       "   'type': 'Dataset',\n",
       "   'url': 'http://minid.bd2k.org/minid/landingpage/ark:/88120/r8059v'}}}"
      ]
     },
     "execution_count": 52,
     "metadata": {},
     "output_type": "execute_result"
    }
   ],
   "source": [
    "local_ark = requests.put(\n",
    "    url = \"https://localhost/ark/put\"+ACCESS,\n",
    "    data = json.dumps(ark),\n",
    "    verify = False\n",
    ")\n",
    "json.loads(local_ark.content.decode('utf-8'))"
   ]
  },
  {
   "cell_type": "markdown",
   "metadata": {},
   "source": [
    "## Put with Options"
   ]
  },
  {
   "cell_type": "code",
   "execution_count": 666,
   "metadata": {},
   "outputs": [
    {
     "data": {
      "text/plain": [
       "b'{\"api\": {\"status\": 201, \"messsage\": \"success: ark:/99999/fk4TestDepArk\"}, \"cache\": {\"created\": {\"name\": \"minid: A BD2K Minimal Viable Identifier Pilot v0.1\", \"guid\": \"ark:/99999/fk4TestDepArk\", \"dateCreated\": \"2015-11-10T04:44:44.387671Z\", \"type\": \"Dataset\", \"author\": \"Ian Foster\", \"url\": \"http://minid.bd2k.org/minid/landingpage/ark:/88120/r8059v\"}}}'"
      ]
     },
     "execution_count": 666,
     "metadata": {},
     "output_type": "execute_result"
    }
   ],
   "source": [
    "local_ark = requests.put(\n",
    "    url = \"https://localhost/ark/put\"+ACCESS,\n",
    "    data = json.dumps(ark_options),\n",
    "    verify = False\n",
    ")\n",
    "json.loads(local_ark.content.decode('utf-8'))"
   ]
  },
  {
   "cell_type": "code",
   "execution_count": 45,
   "metadata": {},
   "outputs": [
    {
     "data": {
      "text/plain": [
       "{'@context': 'http://schema.org',\n",
       " '@id': 'ark:/99999/fk4TestDepArk',\n",
       " '@type': 'CreativeWork',\n",
       " 'author': {'id': 'http://orcid.org/0000-0003-2129-5269',\n",
       "  'name': 'Ian Foster',\n",
       "  'type': 'Person'},\n",
       " 'dateCreated': '2015-11-10T04:44:44.387671Z',\n",
       " 'identifier': ['ark:/88120/r8059v',\n",
       "  {'name': 'sha-256',\n",
       "   'type': 'PropertyValue',\n",
       "   'value': 'cacc1abf711425d3c554277a5989df269cefaa906d27f1aaa72205d30224ed5f'}],\n",
       " 'includedInDataCatalog': 'ark:/99999/fk4RatDC',\n",
       " 'name': 'minid: A BD2K Minimal Viable Identifier Pilot v0.1',\n",
       " 'success': 'ark:/99999/fk4TestDepArk',\n",
       " 'url': 'http://minid.bd2k.org/minid/landingpage/ark:/88120/r8059v'}"
      ]
     },
     "execution_count": 45,
     "metadata": {},
     "output_type": "execute_result"
    }
   ],
   "source": [
    "# get from api\n",
    "api_response = requests.get(\n",
    "    url = \"https://localhost/ark/get/ark:/99999/fk4TestDepArk\"+ACCESS,\n",
    "    verify = False\n",
    ")\n",
    "json.loads(api_response.content)"
   ]
  },
  {
   "cell_type": "code",
   "execution_count": 46,
   "metadata": {},
   "outputs": [
    {
     "data": {
      "text/plain": [
       "{'author': 'Ian Foster',\n",
       " 'dateCreated': '2015-11-10T04:44:44.387671Z',\n",
       " 'guid': 'ark:/99999/fk4TestDepArk',\n",
       " 'name': 'minid: A BD2K Minimal Viable Identifier Pilot v0.1',\n",
       " 'type': 'Dataset',\n",
       " 'url': 'http://minid.bd2k.org/minid/landingpage/ark:/88120/r8059v'}"
      ]
     },
     "execution_count": 46,
     "metadata": {},
     "output_type": "execute_result"
    }
   ],
   "source": [
    "# get from cache\n",
    "cache_get_response = requests.get(\n",
    "    url = \"https://localhost/cache/get/ark:/99999/fk4TestDepArk\"+ACCESS,\n",
    "    verify = False\n",
    ")\n",
    "json.loads(cache_get_response.content)"
   ]
  },
  {
   "cell_type": "code",
   "execution_count": 47,
   "metadata": {},
   "outputs": [
    {
     "data": {
      "text/plain": [
       "{'author': 'Ian Foster',\n",
       " 'dateCreated': '2015-11-10T04:44:44.387671Z',\n",
       " 'guid': 'ark:/99999/fk4TestDepArk',\n",
       " 'name': 'minid: A BD2K Minimal Viable Identifier Pilot v0.1',\n",
       " 'type': 'Dataset',\n",
       " 'url': 'http://minid.bd2k.org/minid/landingpage/ark:/88120/r8059v'}"
      ]
     },
     "execution_count": 47,
     "metadata": {},
     "output_type": "execute_result"
    }
   ],
   "source": [
    "# delete from cache\n",
    "cache_delete = requests.delete(\n",
    "    url = \"https://localhost/cache/delete/ark:/99999/fk4TestDepArk\"+ACCESS,\n",
    "    verify = False\n",
    ")\n",
    "json.loads(cache_delete.content)"
   ]
  },
  {
   "cell_type": "code",
   "execution_count": 59,
   "metadata": {},
   "outputs": [
    {
     "data": {
      "text/plain": [
       "b'<!DOCTYPE HTML PUBLIC \"-//W3C//DTD HTML 3.2 Final//EN\">\\n<title>500 Internal Server Error</title>\\n<h1>Internal Server Error</h1>\\n<p>The server encountered an internal error and was unable to complete your request.  Either the server is overloaded or there is an error in the application.</p>\\n'"
      ]
     },
     "execution_count": 59,
     "metadata": {},
     "output_type": "execute_result"
    }
   ],
   "source": [
    "# import from ezid to neo4j\n",
    "cache_import = requests.get(\n",
    "    url = \"https://localhost/ark/import/ark:/99999/fk4TestDepArk\"+ACCESS,\n",
    "    verify = False\n",
    ")\n",
    "cache_import.content"
   ]
  },
  {
   "cell_type": "markdown",
   "metadata": {},
   "source": [
    "ERROR when self.data.get('identifier') is none"
   ]
  },
  {
   "cell_type": "code",
   "execution_count": 53,
   "metadata": {},
   "outputs": [
    {
     "data": {
      "text/plain": [
       "b'{\"cache\": {\"metadata\": {\"name\": \"minid: A BD2K Minimal Viable Identifier Pilot v0.1\", \"guid\": \"ark:/99999/fk4TestDepArk\", \"dateCreated\": \"2015-11-10T04:44:44.387671Z\", \"type\": \"Dataset\", \"author\": \"Ian Foster\", \"url\": \"http://minid.bd2k.org/minid/landingpage/ark:/88120/r8059v\"}, \"message\": \"Removed from cache\"}, \"api\": {\"status_code\": 200, \"message\": \"success: ark:/99999/fk4TestDepArk\"}}'"
      ]
     },
     "execution_count": 53,
     "metadata": {},
     "output_type": "execute_result"
    }
   ],
   "source": [
    "# delete from all\n",
    "ark_delete = requests.delete(\n",
    "    url = \"https://localhost/ark/delete/ark:/99999/fk4TestDepArk\"+ACCESS,\n",
    "    verify = False\n",
    ")\n",
    "ark_delete.content"
   ]
  },
  {
   "cell_type": "markdown",
   "metadata": {},
   "source": [
    "## DOI Test"
   ]
  },
  {
   "cell_type": "code",
   "execution_count": 146,
   "metadata": {},
   "outputs": [],
   "source": [
    "doi = {\n",
    "  \"@context\": \"http://schema.org\",\n",
    "  \"@type\": \"Dataset\",\n",
    "  \"@id\": \"doi:10.5072/test9999temptestdoi\",\n",
    "  \"identifier\": \"doi:10.5072/test9999temptestdoi\",\n",
    "    \"includedInDataCatalog\": \"ark:/99999/fk4RatDC\",\n",
    "  \"additionalType\": \"Data dictionary\",\n",
    "  \"name\": \"A data dictionary that describes each variable in the GTEx_v7_Annotations_SubjectPhenotypesDS.txt\",\n",
    "  \"author\": {\n",
    "    \"@type\": \"Organization\",\n",
    "    \"name\": \"The GTEx Consortium\"\n",
    "  },\n",
    "  \"keywords\": \"gtex, annotation, phenotype, gene regulation, transcriptomics\",\n",
    "  \"datePublished\": \"2017\",\n",
    "  \"version\": \"v7\",\n",
    "  \"url\": \"https://www.gtexportal.org/home/datasets\",\n",
    "  \"contentSize\": \"5.4 Mb\",\n",
    "  \"fileFormat\": \"application/vnd.openxmlformats-officedocument.spreadsheetml.sheet\",\n",
    "  \"funder\": {\n",
    "   \"@type\": \"Organization\",\n",
    "   \"@id\": \"https://doi.org/10.13039/100000050\",\n",
    "   \"name\": \"National Heart, Lung, and Blood Institute\"\n",
    "  }\n",
    "}"
   ]
  },
  {
   "cell_type": "code",
   "execution_count": 127,
   "metadata": {},
   "outputs": [
    {
     "data": {
      "text/plain": [
       "{'NIHdc.additionalType': 'Data dictionary',\n",
       " 'NIHdc.author.name': 'The GTEx Consortium',\n",
       " 'NIHdc.author.type': 'Organization',\n",
       " 'NIHdc.contentSize': '5.4 Mb',\n",
       " 'NIHdc.context': 'http://schema.org',\n",
       " 'NIHdc.datePublished': '2017',\n",
       " 'NIHdc.fileFormat': 'application/vnd.openxmlformats-officedocument.spreadsheetml.sheet',\n",
       " 'NIHdc.funder.id': 'https://doi.org/10.13039/100000050',\n",
       " 'NIHdc.funder.name': 'National Heart, Lung, and Blood Institute',\n",
       " 'NIHdc.funder.type': 'Organization',\n",
       " 'NIHdc.id': 'doi:10.5072/test9999temptestdoi',\n",
       " 'NIHdc.identifier': 'doi:10.5072/test9999temptestdoi',\n",
       " 'NIHdc.includedInDataCatalog': 'ark:/99999/fk4RatDC',\n",
       " 'NIHdc.keywords': 'gtex, annotation, phenotype, gene regulation, transcriptomics',\n",
       " 'NIHdc.name': 'A data dictionary that describes each variable in the GTEx_v7_Annotations_SubjectPhenotypesDS.txt',\n",
       " 'NIHdc.type': 'Dataset',\n",
       " 'NIHdc.url': 'https://www.gtexportal.org/home/datasets',\n",
       " 'NIHdc.version': 'v7'}"
      ]
     },
     "execution_count": 127,
     "metadata": {},
     "output_type": "execute_result"
    }
   ],
   "source": [
    "profileFormat(flatten(doi))"
   ]
  },
  {
   "cell_type": "code",
   "execution_count": 99,
   "metadata": {},
   "outputs": [],
   "source": [
    "# function to turn dict into xml\n",
    "# key: value\n",
    "# to\n",
    "# <key> value </key>\n"
   ]
  },
  {
   "cell_type": "code",
   "execution_count": 163,
   "metadata": {},
   "outputs": [],
   "source": [
    "import xml.etree.ElementTree as ET\n",
    "\n",
    "#root = ET.Element(\"root\")\n",
    "#doc = ET.SubElement(root, \"doc\")\n",
    "\n",
    "#ET.SubElement(doc, \"field1\", name=\"blah\").text = \"some value1\"\n",
    "#ET.SubElement(doc, \"field2\", name=\"asdfasd\").text = \"some vlaue2\"\n",
    "\n",
    "#tree = ET.ElementTree(root)\n",
    "#tree.write(\"filename.xml\")"
   ]
  },
  {
   "cell_type": "code",
   "execution_count": 164,
   "metadata": {},
   "outputs": [],
   "source": []
  },
  {
   "cell_type": "code",
   "execution_count": 175,
   "metadata": {},
   "outputs": [],
   "source": [
    "resource = ET.Element(\"resource\")\n",
    "\n",
    "for key,value in doi.items():\n",
    "    key = re.sub(\"@\", \"\", key)\n",
    "    \n",
    "    \n",
    "    if isinstance(value, str):\n",
    "        value = re.sub(\"@\", \"\", value)\n",
    "        ET.SubElement(resource, key).text = value\n",
    "    \n",
    "    if isinstance(value, dict):\n",
    "        cont = ET.SubElement(resource, key)\n",
    "        for subKey, subVal in value.items():\n",
    "            subKey = re.sub(\"@\",\"\", subKey)\n",
    "            subVal = re.sub(\"@\", \"\", subVal)\n",
    "            ET.SubElement(cont, subKey).text = subVal\n",
    "            \n",
    "tree = ET.ElementTree(resource)"
   ]
  },
  {
   "cell_type": "code",
   "execution_count": null,
   "metadata": {},
   "outputs": [],
   "source": [
    "\n"
   ]
  },
  {
   "cell_type": "code",
   "execution_count": 166,
   "metadata": {},
   "outputs": [],
   "source": []
  },
  {
   "cell_type": "code",
   "execution_count": 176,
   "metadata": {},
   "outputs": [],
   "source": [
    "tree.write('test_xml.xml')"
   ]
  },
  {
   "cell_type": "code",
   "execution_count": 181,
   "metadata": {},
   "outputs": [
    {
     "name": "stdout",
     "output_type": "stream",
     "text": [
      "<resource><context>http://schema.org</context><type>Dataset</type><id>doi:10.5072/test9999temptestdoi</id><identifier>doi:10.5072/test9999temptestdoi</identifier><includedInDataCatalog>ark:/99999/fk4RatDC</includedInDataCatalog><additionalType>Data dictionary</additionalType><name>A data dictionary that describes each variable in the GTEx_v7_Annotations_SubjectPhenotypesDS.txt</name><author><type>Organization</type><name>The GTEx Consortium</name></author><keywords>gtex, annotation, phenotype, gene regulation, transcriptomics</keywords><datePublished>2017</datePublished><version>v7</version><url>https://www.gtexportal.org/home/datasets</url><contentSize>5.4 Mb</contentSize><fileFormat>application/vnd.openxmlformats-officedocument.spreadsheetml.sheet</fileFormat><funder><type>Organization</type><id>https://doi.org/10.13039/100000050</id><name>National Heart, Lung, and Blood Institute</name></funder></resource>\n"
     ]
    }
   ],
   "source": [
    "with open('test_xml.xml', 'r') as file:\n",
    "    full_string = file.read()\n",
    "    print(full_string)\n",
    "    parsed_xml = ET.fromstring(full_string)\n",
    "    "
   ]
  },
  {
   "cell_type": "code",
   "execution_count": 184,
   "metadata": {},
   "outputs": [
    {
     "data": {
      "text/plain": [
       "[<Element 'context' at 0x1065894a8>,\n",
       " <Element 'type' at 0x106589958>,\n",
       " <Element 'id' at 0x106589b88>,\n",
       " <Element 'identifier' at 0x106589138>,\n",
       " <Element 'includedInDataCatalog' at 0x106589548>,\n",
       " <Element 'additionalType' at 0x1065898b8>,\n",
       " <Element 'name' at 0x106589318>,\n",
       " <Element 'author' at 0x106589048>,\n",
       " <Element 'keywords' at 0x10658bf48>,\n",
       " <Element 'datePublished' at 0x10658b548>,\n",
       " <Element 'version' at 0x10658b598>,\n",
       " <Element 'url' at 0x10658b368>,\n",
       " <Element 'contentSize' at 0x10658bf98>,\n",
       " <Element 'fileFormat' at 0x10658b2c8>,\n",
       " <Element 'funder' at 0x10658b3b8>]"
      ]
     },
     "execution_count": 184,
     "metadata": {},
     "output_type": "execute_result"
    }
   ],
   "source": [
    "parsed_xml.getchildren()"
   ]
  },
  {
   "cell_type": "code",
   "execution_count": 173,
   "metadata": {},
   "outputs": [
    {
     "ename": "ParseError",
     "evalue": "not well-formed (invalid token): line 1, column 395 (<string>)",
     "output_type": "error",
     "traceback": [
      "Traceback \u001b[0;36m(most recent call last)\u001b[0m:\n",
      "  File \u001b[1;32m\"/anaconda3/lib/python3.6/site-packages/IPython/core/interactiveshell.py\"\u001b[0m, line \u001b[1;32m2910\u001b[0m, in \u001b[1;35mrun_code\u001b[0m\n    exec(code_obj, self.user_global_ns, self.user_ns)\n",
      "  File \u001b[1;32m\"<ipython-input-173-e96220520aa3>\"\u001b[0m, line \u001b[1;32m1\u001b[0m, in \u001b[1;35m<module>\u001b[0m\n    ET.parse('test_xml.xml')\n",
      "  File \u001b[1;32m\"/anaconda3/lib/python3.6/xml/etree/ElementTree.py\"\u001b[0m, line \u001b[1;32m1196\u001b[0m, in \u001b[1;35mparse\u001b[0m\n    tree.parse(source, parser)\n",
      "\u001b[0;36m  File \u001b[0;32m\"/anaconda3/lib/python3.6/xml/etree/ElementTree.py\"\u001b[0;36m, line \u001b[0;32m597\u001b[0;36m, in \u001b[0;35mparse\u001b[0;36m\u001b[0m\n\u001b[0;31m    self._root = parser._parse_whole(source)\u001b[0m\n",
      "\u001b[0;36m  File \u001b[0;32m\"<string>\"\u001b[0;36m, line \u001b[0;32munknown\u001b[0m\n\u001b[0;31mParseError\u001b[0m\u001b[0;31m:\u001b[0m not well-formed (invalid token): line 1, column 395\n"
     ]
    }
   ],
   "source": [
    "ET.parse('test_xml.xml')"
   ]
  },
  {
   "cell_type": "code",
   "execution_count": 90,
   "metadata": {},
   "outputs": [
    {
     "data": {
      "text/plain": [
       "{'api': {'messsage': 'success: doi:10.5072/test9999temptestdoi\\n_status: reserved\\n_target: https://ors.datacite.org/doi:10.5072/test9999temptestdoi\\ndatacite: \\n_profile: datacite',\n",
       "  'status': 200},\n",
       " 'cache': {'created': {'author': 'The GTEx Consortium',\n",
       "   'guid': 'doi:10.5072/test9999temptestdoi',\n",
       "   'name': 'A data dictionary that describes each variable in the GTEx_v7_Annotations_SubjectPhenotypesDS.txt',\n",
       "   'type': 'Dataset',\n",
       "   'url': 'https://www.gtexportal.org/home/datasets'}}}"
      ]
     },
     "execution_count": 90,
     "metadata": {},
     "output_type": "execute_result"
    }
   ],
   "source": [
    "put_response = requests.put(\n",
    "    url = \"https://localhost/doi/put\"+ ACCESS,\n",
    "    data = json.dumps(doi),\n",
    "    verify = False\n",
    ") \n",
    "json.loads(put_response.content)"
   ]
  },
  {
   "cell_type": "code",
   "execution_count": 91,
   "metadata": {},
   "outputs": [
    {
     "data": {
      "text/plain": [
       "{'@context': 'http://schema.org',\n",
       " '@type': 'Dataset',\n",
       " 'error': 'bad request - no such identifier'}"
      ]
     },
     "execution_count": 91,
     "metadata": {},
     "output_type": "execute_result"
    }
   ],
   "source": [
    "# retrieve from api\n",
    "get_response = requests.get(\n",
    "    url = \"https://localhost/doi/get/doi:10.5072/test9999test\"+ACCESS,\n",
    "    verify = False\n",
    ")\n",
    "json.loads(get_response.content)\n"
   ]
  },
  {
   "cell_type": "code",
   "execution_count": 92,
   "metadata": {},
   "outputs": [],
   "source": [
    "# check what you get from ez.datacite\n",
    "api_get = requests.get(\n",
    "    url = \"https://ez.test.datacite.org/id/\",\n",
    "    auth = requests.auth.HTTPBasicAuth('DATACITE.DCPPC', 'Player&Chemo+segment')\n",
    ")"
   ]
  },
  {
   "cell_type": "code",
   "execution_count": 94,
   "metadata": {},
   "outputs": [
    {
     "name": "stdout",
     "output_type": "stream",
     "text": [
      "success: doi:10.5072/test9999temptestdoi\n",
      "_target: https://ors.datacite.org/doi:10.5072/test9999temptestdoi\n",
      "datacite: \n",
      "_profile: datacite\n",
      "_datacenter: DATACITE.DCPPC\n",
      "_export: yes\n",
      "_created: \n",
      "_updated: 1529352813\n",
      "_status: reserved\n"
     ]
    }
   ],
   "source": [
    "print(api_get.content.decode('utf-8'))"
   ]
  },
  {
   "cell_type": "code",
   "execution_count": 121,
   "metadata": {},
   "outputs": [],
   "source": [
    "# test put with different keys\n",
    "test_body = b'_status: reserver\\nMYkey: test'\n",
    "api_put = requests.put(\n",
    "    url = \"https://ez.test.datacite.org/id/doi:10.5072/test9999randomkeytest\",\n",
    "    data = test_body,\n",
    "    auth = requests.auth.HTTPBasicAuth('DATACITE.DCPPC', 'Player&Chemo+segment')\n",
    ")"
   ]
  },
  {
   "cell_type": "code",
   "execution_count": 122,
   "metadata": {},
   "outputs": [
    {
     "data": {
      "text/plain": [
       "b'error: no _profile provided'"
      ]
     },
     "execution_count": 122,
     "metadata": {},
     "output_type": "execute_result"
    }
   ],
   "source": [
    "api_put.content"
   ]
  },
  {
   "cell_type": "code",
   "execution_count": 74,
   "metadata": {},
   "outputs": [],
   "source": [
    "# retrieve from cache\n",
    "get_cache = requests.get(\n",
    "    url = \"https://localhost/cache/get/doi:10.5072/test9999test\"+ACCESS,\n",
    "    verify = False\n",
    ")\n",
    "json.loads(get_cache.content)"
   ]
  },
  {
   "cell_type": "code",
   "execution_count": 85,
   "metadata": {},
   "outputs": [],
   "source": [
    "# delete from all\n",
    "del_all = requests.delete(\n",
    "    url = \"https://localhost/doi/delete/doi:10.5072/test9999test\"+ACCESS,\n",
    "    verify = False\n",
    ")"
   ]
  },
  {
   "cell_type": "code",
   "execution_count": 123,
   "metadata": {},
   "outputs": [
    {
     "data": {
      "text/plain": [
       "{'api': {'message': 'error: bad request - no such identifier',\n",
       "  'status_code': 400},\n",
       " 'cache': {'message': 'Removed from cache',\n",
       "  'metadata': {'author': 'The GTEx Consortium',\n",
       "   'guid': 'doi:10.5072/test9999test',\n",
       "   'name': 'A data dictionary that describes each variable in the GTEx_v7_Annotations_SubjectPhenotypesDS.txt',\n",
       "   'type': 'Dataset',\n",
       "   'url': 'https://www.gtexportal.org/home/datasets'}}}"
      ]
     },
     "execution_count": 123,
     "metadata": {},
     "output_type": "execute_result"
    }
   ],
   "source": [
    "json.loads(del_all.content)"
   ]
  },
  {
   "cell_type": "code",
   "execution_count": null,
   "metadata": {},
   "outputs": [],
   "source": [
    "# encode into xml?"
   ]
  },
  {
   "cell_type": "code",
   "execution_count": 458,
   "metadata": {},
   "outputs": [],
   "source": [
    "# why is postNeo for Doi failing \n",
    "from neo4j.v1 import GraphDatabase\n",
    "driver = GraphDatabase.driver(\"bolt://localhost:7687\", auth=None)"
   ]
  },
  {
   "cell_type": "code",
   "execution_count": 519,
   "metadata": {},
   "outputs": [],
   "source": [
    "with driver.session() as session:\n",
    "    with session.begin_transaction() as tx:\n",
    "        node = tx.run(\n",
    "            \"MATCH (parent:dataCatalog) WHERE parent.guid = $parent \"\n",
    "            \"CREATE (node:Doi {guid: $guid, name: $name}) \"\n",
    "            \"CREATE (node)-[parentRel:includedIn]->(parent) \"\n",
    "            \"RETURN properties(node) \",\n",
    "            parent = test_doi.get('includedInDataCatalog'),\n",
    "            guid = test_doi.get('@id'),\n",
    "            name = test_doi.get('name')\n",
    "        )"
   ]
  },
  {
   "cell_type": "code",
   "execution_count": 520,
   "metadata": {},
   "outputs": [
    {
     "data": {
      "text/plain": [
       "<neo4j.v1.result.BoltStatementResult at 0x10b5c7a20>"
      ]
     },
     "execution_count": 520,
     "metadata": {},
     "output_type": "execute_result"
    }
   ],
   "source": [
    "node"
   ]
  },
  {
   "cell_type": "code",
   "execution_count": 521,
   "metadata": {},
   "outputs": [],
   "source": [
    "#node_data = node.data()\n",
    "node_data = node.single()"
   ]
  },
  {
   "cell_type": "code",
   "execution_count": 522,
   "metadata": {},
   "outputs": [
    {
     "data": {
      "text/plain": [
       "{'guid': 'doi:0.5072/0000-03VC',\n",
       " 'name': 'A data dictionary that describes each variable in the GTEx_v7_Annotations_SubjectPhenotypesDS.txt'}"
      ]
     },
     "execution_count": 522,
     "metadata": {},
     "output_type": "execute_result"
    }
   ],
   "source": [
    "node_data.value()"
   ]
  },
  {
   "cell_type": "code",
   "execution_count": 525,
   "metadata": {},
   "outputs": [],
   "source": [
    "with driver.session() as session:\n",
    "    with session.begin_transaction() as tx:\n",
    "        query = tx.run(\n",
    "            \"MATCH (node:Doi) WHERE node.guid = $guid \"\n",
    "            \"RETURN properties(node) \",\n",
    "            guid = test_doi.get('@id')\n",
    "        )"
   ]
  },
  {
   "cell_type": "code",
   "execution_count": 526,
   "metadata": {},
   "outputs": [
    {
     "data": {
      "text/plain": [
       "{'guid': 'doi:0.5072/0000-03VC',\n",
       " 'name': 'A data dictionary that describes each variable in the GTEx_v7_Annotations_SubjectPhenotypesDS.txt'}"
      ]
     },
     "execution_count": 526,
     "metadata": {},
     "output_type": "execute_result"
    }
   ],
   "source": [
    "query.single().value()"
   ]
  },
  {
   "cell_type": "code",
   "execution_count": 517,
   "metadata": {},
   "outputs": [],
   "source": [
    "with driver.session() as session:\n",
    "    with session.begin_transaction() as tx:\n",
    "        parent = tx.run(\n",
    "            \"MATCH (parent:dataCatalog) WHERE parent.guid = $parent \"\n",
    "            \"RETURN properties(parent) \",\n",
    "            parent = test_doi.get('includedInDataCatalog'),\n",
    "        )"
   ]
  },
  {
   "cell_type": "code",
   "execution_count": 518,
   "metadata": {},
   "outputs": [
    {
     "data": {
      "text/plain": [
       "{'guid': 'ark:/99999/fk4RatDC',\n",
       " 'name': 'Rat Genome Database',\n",
       " 'type': 'DataCatalog',\n",
       " 'url': 'http://rgd.mcw.edu/'}"
      ]
     },
     "execution_count": 518,
     "metadata": {},
     "output_type": "execute_result"
    }
   ],
   "source": [
    "parent.single().value()"
   ]
  },
  {
   "cell_type": "code",
   "execution_count": 511,
   "metadata": {},
   "outputs": [
    {
     "data": {
      "text/plain": [
       "'ark:/99999/fk4RatDC'"
      ]
     },
     "execution_count": 511,
     "metadata": {},
     "output_type": "execute_result"
    }
   ],
   "source": [
    "test_doi.get('includedInDataCatalog')"
   ]
  },
  {
   "cell_type": "code",
   "execution_count": 527,
   "metadata": {},
   "outputs": [],
   "source": [
    "with driver.session() as session:\n",
    "    with session.begin_transaction() as tx:\n",
    "        clear = tx.run(\n",
    "            \"MATCH (node:Doi) WHERE node.guid = $guid \"\n",
    "            \"DETACH DELETE node \",\n",
    "            guid = test_doi.get('@id')\n",
    "        )"
   ]
  },
  {
   "cell_type": "code",
   "execution_count": 528,
   "metadata": {},
   "outputs": [
    {
     "data": {
      "text/plain": [
       "[]"
      ]
     },
     "execution_count": 528,
     "metadata": {},
     "output_type": "execute_result"
    }
   ],
   "source": [
    "clear.data()"
   ]
  },
  {
   "cell_type": "code",
   "execution_count": null,
   "metadata": {},
   "outputs": [],
   "source": []
  }
 ],
 "metadata": {
  "kernelspec": {
   "display_name": "Python 3",
   "language": "python",
   "name": "python3"
  },
  "language_info": {
   "codemirror_mode": {
    "name": "ipython",
    "version": 3
   },
   "file_extension": ".py",
   "mimetype": "text/x-python",
   "name": "python",
   "nbconvert_exporter": "python",
   "pygments_lexer": "ipython3",
   "version": "3.6.4"
  }
 },
 "nbformat": 4,
 "nbformat_minor": 2
}
